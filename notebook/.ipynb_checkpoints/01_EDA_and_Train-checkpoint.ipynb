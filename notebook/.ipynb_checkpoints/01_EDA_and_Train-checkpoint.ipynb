{
 "cells": [
  {
   "cell_type": "code",
   "execution_count": 1,
   "id": "fa6875e9-aadb-47b4-87a0-7c3cb9b57232",
   "metadata": {},
   "outputs": [],
   "source": [
    "import pandas as pd\n",
    "import numpy as np\n",
    "import matplotlib.pyplot as plt\n",
    "import seaborn as sns\n",
    "import datetime as dt\n",
    "import json\n",
    "import optuna\n",
    "import shap\n",
    "import joblib\n",
    "import yaml\n",
    "\n",
    "from catboost import CatBoostRegressor\n",
    "from lightgbm import LGBMRegressor\n",
    "from sklearn.metrics import r2_score, mean_absolute_error, mean_squared_error\n",
    "from sklearn.model_selection import train_test_split, StratifiedKFold, GridSearchCV, KFold\n",
    "from typing import Dict\n",
    "from dateutil.parser import parse\n",
    "from scipy import stats\n",
    "from optuna.visualization import plot_optimization_history"
   ]
  },
  {
   "cell_type": "markdown",
   "id": "60de96c0-e3c9-4b23-ae49-f5466b3d4236",
   "metadata": {},
   "source": [
    "# 1. Описание задачи"
   ]
  },
  {
   "cell_type": "markdown",
   "id": "d6f6def6-66d8-49e0-9787-276be05c4ece",
   "metadata": {},
   "source": [
    "Компания занимается розничной реализацией нефтегазопродуктов. Необходима модель для прогнозирования продаж нефтегазопродуктов физичесикм лицам на каждую дату в разрезе АЗС. Это позволит оптимизировать поставки и минимизировать простои в связи с отсутствием топлива, планировать проведение строительно-монтажных работ в часы наименьшей клиентской активности.   \n",
    "**Данные по АЗС:** для прогнозирования продаж у нас имеется информация по транзакциям АЗС: номер станции, дата и время транзакции, масса отпущенного топлива клиенту, сорт нетфепродукта, номер топливно-раздаточной колонки, номер пистолета, номер резервуара и номер кассы.  \n",
    "**Target**: MASSA_TN  \n",
    "Задача регрессии  \n",
    "- AZS_NAME - номер азс\n",
    "- PROD_NAME - сорт нефтепродукта\n",
    "- MASSA_TN - объём проданного топлива в тоннах  \n",
    "- cnt_ks - кол-во касс на АЗС  \n",
    "- cnt_tank - кол-во резервуаров под сорт нефтепродукта\n",
    "- cnt_trk - кол-во топливо-раздаточных колонок по сорт нефтепродукта\n",
    "- cnt_hand - кол-во пистолетов по сорт нефтепродукта\n",
    "- region - регион в котором расположена АЗС\n",
    "- location - месторасположение АЗС (в городе или на трассе)\n",
    "- year - год\n",
    "- month - месяц\n",
    "- day - день\n",
    "- day_of_week - день недели"
   ]
  },
  {
   "cell_type": "code",
   "execution_count": 20,
   "id": "bd95fec4-82be-44a5-9deb-65828a83cc0d",
   "metadata": {},
   "outputs": [],
   "source": [
    "config_path = '../config/params.yml'\n",
    "config = yaml.load(open(config_path), Loader=yaml.FullLoader)\n",
    "\n",
    "preproc = config['preprocessing']\n",
    "training = config['train']"
   ]
  },
  {
   "cell_type": "markdown",
   "id": "9b07ff15-f609-4b73-ae7a-6db8e5588242",
   "metadata": {},
   "source": [
    "# 2. EDA"
   ]
  },
  {
   "cell_type": "code",
   "execution_count": 21,
   "id": "ebf28e75-324c-4d50-98cd-347735ecc040",
   "metadata": {},
   "outputs": [],
   "source": [
    "df = pd.read_csv(preproc['train_path'])"
   ]
  },
  {
   "cell_type": "code",
   "execution_count": 22,
   "id": "aa1e162d-2190-455a-bb51-880c96c4f12b",
   "metadata": {},
   "outputs": [
    {
     "name": "stdout",
     "output_type": "stream",
     "text": [
      "<class 'pandas.core.frame.DataFrame'>\n",
      "RangeIndex: 68005 entries, 0 to 68004\n",
      "Data columns (total 13 columns):\n",
      " #   Column       Non-Null Count  Dtype  \n",
      "---  ------       --------------  -----  \n",
      " 0   AZS_NAME     68005 non-null  object \n",
      " 1   PROD_NAME    68005 non-null  object \n",
      " 2   MASSA_TN     68005 non-null  float64\n",
      " 3   cnt_ks       68005 non-null  int64  \n",
      " 4   cnt_tank     68005 non-null  int64  \n",
      " 5   cnt_trk      68005 non-null  int64  \n",
      " 6   cnt_hand     68005 non-null  int64  \n",
      " 7   region       68005 non-null  object \n",
      " 8   location     68005 non-null  object \n",
      " 9   year         68005 non-null  int64  \n",
      " 10  month        68005 non-null  int64  \n",
      " 11  day          68005 non-null  int64  \n",
      " 12  day_of_week  68005 non-null  object \n",
      "dtypes: float64(1), int64(7), object(5)\n",
      "memory usage: 6.7+ MB\n"
     ]
    }
   ],
   "source": [
    "df.info()"
   ]
  },
  {
   "cell_type": "code",
   "execution_count": 23,
   "id": "b577ab27-d7de-41cb-8c0b-466d572835fc",
   "metadata": {},
   "outputs": [],
   "source": [
    "def save_unique_train_data(\n",
    "    data: pd.DataFrame, drop_columns: list, target_column: str, unique_values_path: str\n",
    ") -> None:\n",
    "    \"\"\"\n",
    "    Сохранение словаря с признаками и уникальными значениями\n",
    "    :param drop_columns: список с признаками для удаления\n",
    "    :param data: датасет\n",
    "    :param target_column: целевая переменная\n",
    "    :param unique_values_path: путь до файла со словарем\n",
    "    :return: None\n",
    "    \"\"\"\n",
    "    unique_df = data.drop(\n",
    "        columns=drop_columns + [target_column], axis=1, errors=\"ignore\"\n",
    "    )\n",
    "    # создаем словарь с уникальными значениями для вывода в UI\n",
    "    dict_unique = {key: unique_df[key].unique().tolist() for key in unique_df.columns}\n",
    "    with open(unique_values_path, \"w\") as file:\n",
    "        json.dump(dict_unique, file)"
   ]
  },
  {
   "cell_type": "code",
   "execution_count": 24,
   "id": "703dec92-4a2b-4747-bc7e-beb1e9b54640",
   "metadata": {},
   "outputs": [],
   "source": [
    "save_unique_train_data(\n",
    "    data=df,\n",
    "    drop_columns=preproc[\"drop_columns\"],\n",
    "    target_column=preproc[\"target_column\"],\n",
    "    unique_values_path=preproc[\"unique_values_path\"],\n",
    ")"
   ]
  },
  {
   "cell_type": "code",
   "execution_count": 25,
   "id": "c919c846-cc30-4c15-af16-de90636b21dd",
   "metadata": {},
   "outputs": [],
   "source": [
    "dict_change_columns = preproc['map_change_columns']"
   ]
  },
  {
   "cell_type": "code",
   "execution_count": 26,
   "id": "53372e85-a0a3-4070-a5c9-83386f65a160",
   "metadata": {},
   "outputs": [],
   "source": [
    "def replace_values(data: pd.DataFrame, map_change_columns: dict) -> pd.DataFrame:\n",
    "    \"\"\"\n",
    "    Замена значений в датасете\n",
    "    :param data: датасет\n",
    "    :param map_change_columns: словарь с признаками и значениями\n",
    "    :return: датасет\n",
    "    \"\"\"\n",
    "    return data.replace(map_change_columns)"
   ]
  },
  {
   "cell_type": "code",
   "execution_count": 27,
   "id": "34b5aa67-9671-4634-836d-cab7d286d681",
   "metadata": {},
   "outputs": [],
   "source": [
    "df = replace_values(data=df, map_change_columns=dict_change_columns)"
   ]
  },
  {
   "cell_type": "code",
   "execution_count": 28,
   "id": "4f30d1db-476e-4393-a2ae-37cba42cef34",
   "metadata": {},
   "outputs": [
    {
     "data": {
      "text/html": [
       "<div>\n",
       "<style scoped>\n",
       "    .dataframe tbody tr th:only-of-type {\n",
       "        vertical-align: middle;\n",
       "    }\n",
       "\n",
       "    .dataframe tbody tr th {\n",
       "        vertical-align: top;\n",
       "    }\n",
       "\n",
       "    .dataframe thead th {\n",
       "        text-align: right;\n",
       "    }\n",
       "</style>\n",
       "<table border=\"1\" class=\"dataframe\">\n",
       "  <thead>\n",
       "    <tr style=\"text-align: right;\">\n",
       "      <th></th>\n",
       "      <th>AZS_NAME</th>\n",
       "      <th>PROD_NAME</th>\n",
       "      <th>MASSA_TN</th>\n",
       "      <th>cnt_ks</th>\n",
       "      <th>cnt_tank</th>\n",
       "      <th>cnt_trk</th>\n",
       "      <th>cnt_hand</th>\n",
       "      <th>region</th>\n",
       "      <th>location</th>\n",
       "      <th>year</th>\n",
       "      <th>month</th>\n",
       "      <th>day</th>\n",
       "      <th>day_of_week</th>\n",
       "    </tr>\n",
       "  </thead>\n",
       "  <tbody>\n",
       "    <tr>\n",
       "      <th>0</th>\n",
       "      <td>AZS 293</td>\n",
       "      <td>gasoline_ai_92</td>\n",
       "      <td>3.597860</td>\n",
       "      <td>more_1_kassa</td>\n",
       "      <td>2</td>\n",
       "      <td>6</td>\n",
       "      <td>8</td>\n",
       "      <td>Arkhangelsk_region</td>\n",
       "      <td>city</td>\n",
       "      <td>2019</td>\n",
       "      <td>1</td>\n",
       "      <td>1</td>\n",
       "      <td>Tuesday</td>\n",
       "    </tr>\n",
       "    <tr>\n",
       "      <th>1</th>\n",
       "      <td>AZS 293</td>\n",
       "      <td>gasoline_ai_95</td>\n",
       "      <td>1.562464</td>\n",
       "      <td>more_1_kassa</td>\n",
       "      <td>1</td>\n",
       "      <td>4</td>\n",
       "      <td>4</td>\n",
       "      <td>Arkhangelsk_region</td>\n",
       "      <td>city</td>\n",
       "      <td>2019</td>\n",
       "      <td>1</td>\n",
       "      <td>1</td>\n",
       "      <td>Tuesday</td>\n",
       "    </tr>\n",
       "  </tbody>\n",
       "</table>\n",
       "</div>"
      ],
      "text/plain": [
       "  AZS_NAME       PROD_NAME  MASSA_TN        cnt_ks  cnt_tank  cnt_trk  \\\n",
       "0  AZS 293  gasoline_ai_92  3.597860  more_1_kassa         2        6   \n",
       "1  AZS 293  gasoline_ai_95  1.562464  more_1_kassa         1        4   \n",
       "\n",
       "   cnt_hand              region location  year  month  day day_of_week  \n",
       "0         8  Arkhangelsk_region     city  2019      1    1     Tuesday  \n",
       "1         4  Arkhangelsk_region     city  2019      1    1     Tuesday  "
      ]
     },
     "execution_count": 28,
     "metadata": {},
     "output_type": "execute_result"
    }
   ],
   "source": [
    "df.head(2)"
   ]
  },
  {
   "cell_type": "code",
   "execution_count": 29,
   "id": "a52ee776-bb68-48d4-8360-a5ab62321628",
   "metadata": {},
   "outputs": [
    {
     "data": {
      "text/html": [
       "<div>\n",
       "<style scoped>\n",
       "    .dataframe tbody tr th:only-of-type {\n",
       "        vertical-align: middle;\n",
       "    }\n",
       "\n",
       "    .dataframe tbody tr th {\n",
       "        vertical-align: top;\n",
       "    }\n",
       "\n",
       "    .dataframe thead th {\n",
       "        text-align: right;\n",
       "    }\n",
       "</style>\n",
       "<table border=\"1\" class=\"dataframe\">\n",
       "  <thead>\n",
       "    <tr style=\"text-align: right;\">\n",
       "      <th></th>\n",
       "      <th>MASSA_TN</th>\n",
       "      <th>cnt_tank</th>\n",
       "      <th>cnt_trk</th>\n",
       "      <th>cnt_hand</th>\n",
       "      <th>year</th>\n",
       "      <th>month</th>\n",
       "      <th>day</th>\n",
       "    </tr>\n",
       "  </thead>\n",
       "  <tbody>\n",
       "    <tr>\n",
       "      <th>count</th>\n",
       "      <td>68005.0</td>\n",
       "      <td>68005.0</td>\n",
       "      <td>68005.0</td>\n",
       "      <td>68005.0</td>\n",
       "      <td>68005.0</td>\n",
       "      <td>68005.0</td>\n",
       "      <td>68005.0</td>\n",
       "    </tr>\n",
       "    <tr>\n",
       "      <th>mean</th>\n",
       "      <td>3.0</td>\n",
       "      <td>1.0</td>\n",
       "      <td>4.0</td>\n",
       "      <td>4.0</td>\n",
       "      <td>2021.0</td>\n",
       "      <td>7.0</td>\n",
       "      <td>16.0</td>\n",
       "    </tr>\n",
       "    <tr>\n",
       "      <th>std</th>\n",
       "      <td>2.0</td>\n",
       "      <td>0.0</td>\n",
       "      <td>1.0</td>\n",
       "      <td>2.0</td>\n",
       "      <td>1.0</td>\n",
       "      <td>3.0</td>\n",
       "      <td>9.0</td>\n",
       "    </tr>\n",
       "    <tr>\n",
       "      <th>min</th>\n",
       "      <td>0.0</td>\n",
       "      <td>1.0</td>\n",
       "      <td>1.0</td>\n",
       "      <td>1.0</td>\n",
       "      <td>2019.0</td>\n",
       "      <td>1.0</td>\n",
       "      <td>1.0</td>\n",
       "    </tr>\n",
       "    <tr>\n",
       "      <th>25%</th>\n",
       "      <td>1.0</td>\n",
       "      <td>1.0</td>\n",
       "      <td>2.0</td>\n",
       "      <td>2.0</td>\n",
       "      <td>2019.0</td>\n",
       "      <td>4.0</td>\n",
       "      <td>8.0</td>\n",
       "    </tr>\n",
       "    <tr>\n",
       "      <th>50%</th>\n",
       "      <td>2.0</td>\n",
       "      <td>1.0</td>\n",
       "      <td>4.0</td>\n",
       "      <td>4.0</td>\n",
       "      <td>2021.0</td>\n",
       "      <td>7.0</td>\n",
       "      <td>16.0</td>\n",
       "    </tr>\n",
       "    <tr>\n",
       "      <th>75%</th>\n",
       "      <td>4.0</td>\n",
       "      <td>1.0</td>\n",
       "      <td>4.0</td>\n",
       "      <td>4.0</td>\n",
       "      <td>2022.0</td>\n",
       "      <td>10.0</td>\n",
       "      <td>23.0</td>\n",
       "    </tr>\n",
       "    <tr>\n",
       "      <th>max</th>\n",
       "      <td>14.0</td>\n",
       "      <td>2.0</td>\n",
       "      <td>6.0</td>\n",
       "      <td>8.0</td>\n",
       "      <td>2022.0</td>\n",
       "      <td>12.0</td>\n",
       "      <td>31.0</td>\n",
       "    </tr>\n",
       "  </tbody>\n",
       "</table>\n",
       "</div>"
      ],
      "text/plain": [
       "       MASSA_TN  cnt_tank  cnt_trk  cnt_hand     year    month      day\n",
       "count   68005.0   68005.0  68005.0   68005.0  68005.0  68005.0  68005.0\n",
       "mean        3.0       1.0      4.0       4.0   2021.0      7.0     16.0\n",
       "std         2.0       0.0      1.0       2.0      1.0      3.0      9.0\n",
       "min         0.0       1.0      1.0       1.0   2019.0      1.0      1.0\n",
       "25%         1.0       1.0      2.0       2.0   2019.0      4.0      8.0\n",
       "50%         2.0       1.0      4.0       4.0   2021.0      7.0     16.0\n",
       "75%         4.0       1.0      4.0       4.0   2022.0     10.0     23.0\n",
       "max        14.0       2.0      6.0       8.0   2022.0     12.0     31.0"
      ]
     },
     "execution_count": 29,
     "metadata": {},
     "output_type": "execute_result"
    }
   ],
   "source": [
    "df.describe().round()"
   ]
  },
  {
   "cell_type": "markdown",
   "id": "9c8830d8-697f-45cb-be9c-608fd7f89a5e",
   "metadata": {},
   "source": [
    "**Выводы:**  \n",
    "* максимальное значение объёма продаж - 14, тн.\n",
    "* максимально кол-во касс на 1 АЗС: 4, в среднем 2 кассы на станции\n",
    "* на один сорт в среднем приходится 1 резервуар. Маскимальное количество резервуаров для одного сорта: 2"
   ]
  },
  {
   "cell_type": "code",
   "execution_count": 15,
   "id": "ba37063a-3c49-4248-99d3-ccc7c817625b",
   "metadata": {},
   "outputs": [
    {
     "data": {
      "text/html": [
       "<div>\n",
       "<style scoped>\n",
       "    .dataframe tbody tr th:only-of-type {\n",
       "        vertical-align: middle;\n",
       "    }\n",
       "\n",
       "    .dataframe tbody tr th {\n",
       "        vertical-align: top;\n",
       "    }\n",
       "\n",
       "    .dataframe thead th {\n",
       "        text-align: right;\n",
       "    }\n",
       "</style>\n",
       "<table border=\"1\" class=\"dataframe\">\n",
       "  <thead>\n",
       "    <tr style=\"text-align: right;\">\n",
       "      <th></th>\n",
       "      <th>AZS_NAME</th>\n",
       "      <th>PROD_NAME</th>\n",
       "      <th>cnt_ks</th>\n",
       "      <th>region</th>\n",
       "      <th>location</th>\n",
       "      <th>day_of_week</th>\n",
       "    </tr>\n",
       "  </thead>\n",
       "  <tbody>\n",
       "    <tr>\n",
       "      <th>count</th>\n",
       "      <td>68005</td>\n",
       "      <td>68005</td>\n",
       "      <td>68005</td>\n",
       "      <td>68005</td>\n",
       "      <td>68005</td>\n",
       "      <td>68005</td>\n",
       "    </tr>\n",
       "    <tr>\n",
       "      <th>unique</th>\n",
       "      <td>18</td>\n",
       "      <td>4</td>\n",
       "      <td>3</td>\n",
       "      <td>2</td>\n",
       "      <td>2</td>\n",
       "      <td>7</td>\n",
       "    </tr>\n",
       "    <tr>\n",
       "      <th>top</th>\n",
       "      <td>AZS 555</td>\n",
       "      <td>gasoline_ai_95</td>\n",
       "      <td>more_1_kassa</td>\n",
       "      <td>Vologda_region</td>\n",
       "      <td>city</td>\n",
       "      <td>Friday</td>\n",
       "    </tr>\n",
       "    <tr>\n",
       "      <th>freq</th>\n",
       "      <td>4371</td>\n",
       "      <td>19555</td>\n",
       "      <td>53442</td>\n",
       "      <td>38779</td>\n",
       "      <td>46337</td>\n",
       "      <td>9768</td>\n",
       "    </tr>\n",
       "  </tbody>\n",
       "</table>\n",
       "</div>"
      ],
      "text/plain": [
       "       AZS_NAME       PROD_NAME        cnt_ks          region location  \\\n",
       "count     68005           68005         68005           68005    68005   \n",
       "unique       18               4             3               2        2   \n",
       "top     AZS 555  gasoline_ai_95  more_1_kassa  Vologda_region     city   \n",
       "freq       4371           19555         53442           38779    46337   \n",
       "\n",
       "       day_of_week  \n",
       "count        68005  \n",
       "unique           7  \n",
       "top         Friday  \n",
       "freq          9768  "
      ]
     },
     "execution_count": 15,
     "metadata": {},
     "output_type": "execute_result"
    }
   ],
   "source": [
    "df.describe(include='object')"
   ]
  },
  {
   "cell_type": "markdown",
   "id": "8304d524-ca8b-4f91-ab9a-3973ed7abccf",
   "metadata": {},
   "source": [
    "**Выводы:**  \n",
    "В датасете содержится информация о 18 азс и 4 сортах нефтегазопродуктах.  \n",
    "Самый популярный сорт: Бензин АИ-95.  \n",
    "АЗС расположены в двух регионах."
   ]
  },
  {
   "cell_type": "markdown",
   "id": "ebff7578-810b-489c-bc75-3a7d075d09c6",
   "metadata": {},
   "source": [
    "## Гипотезы  "
   ]
  },
  {
   "cell_type": "markdown",
   "id": "5688bae5-53fc-4b28-b375-093db00850e8",
   "metadata": {},
   "source": [
    "1. сорт влияет на объём продаж в адрес фл\r\n",
    "2. азс с одной кассой реализовывают топлива меньше, чем станции с двумя и более кассами\r\n",
    "3. доли продаж по месторасположению в зависимости от региона отличаются\r\n",
    "4. с каждым годом продажи увеличиваются\r\n",
    "5. продажи подвержены фактору сезонности: продажи различаются в зависимости от месяца\r\n",
    "6. присутсвует недельная сезонность - в будни продажи выше чем в выходныеодные"
   ]
  },
  {
   "cell_type": "markdown",
   "id": "68baa0ad-88d4-4fda-8176-743bb0e00a53",
   "metadata": {},
   "source": [
    "## 2.1 Гипотеза 1  \n",
    "сорт влияет на объём продаж в адрес фл"
   ]
  },
  {
   "cell_type": "code",
   "execution_count": 30,
   "id": "476541ad-6f7b-49e6-8ef9-2fed7635939c",
   "metadata": {},
   "outputs": [],
   "source": [
    "df_log = df.copy()\n",
    "df_log['massa_log'] = np.log(df['MASSA_TN'] + 1)"
   ]
  },
  {
   "cell_type": "code",
   "execution_count": 18,
   "id": "8bb5d5b5-bf6e-4304-bb4b-45bcdf70bc2c",
   "metadata": {},
   "outputs": [
    {
     "data": {
      "image/png": "[encoded data removed]",
      "text/plain": [
       "<Figure size 1440x648 with 1 Axes>"
      ]
     },
     "metadata": {
      "needs_background": "light"
     },
     "output_type": "display_data"
    }
   ],
   "source": [
    "plt.figure(figsize=(20, 9))\n",
    "sns.boxplot(data=df_log, x='massa_log', palette='flare', hue='PROD_NAME')\n",
    "plt.title('Реализация нефтепродуктов по сортам в адрес ФЛ', fontsize=16)\n",
    "plt.xlabel('объём продаж (логарифм)', fontsize=14)\n",
    "plt.show();"
   ]
  },
  {
   "cell_type": "markdown",
   "id": "d109dca3-d204-4879-a8b5-9a4aef6c124c",
   "metadata": {},
   "source": [
    "Вывод. Лучше всего продаются 2 сорта бензинов: Бензин АИ-92, Бензин АИ-95. При этом по АИ-92 выше реализация, чем по АИ-95."
   ]
  },
  {
   "cell_type": "markdown",
   "id": "486d211c-942a-4dda-8aaf-d2b0c0a2b54f",
   "metadata": {},
   "source": [
    "## 2.2 Гипотеза 2  \n",
    "азс с одной кассой реализовывают топлива меньше, чем станции с двумя и более кассами"
   ]
  },
  {
   "cell_type": "code",
   "execution_count": 31,
   "id": "319576da-6c99-434c-b4e2-441282ba3c1f",
   "metadata": {},
   "outputs": [
    {
     "data": {
      "image/png": "[encoded data removed]",
      "text/plain": [
       "<Figure size 1440x648 with 1 Axes>"
      ]
     },
     "metadata": {
      "needs_background": "light"
     },
     "output_type": "display_data"
    }
   ],
   "source": [
    "plt.figure(figsize=(20, 9))\n",
    "\n",
    "sns.violinplot(x='cnt_ks', hue='cnt_ks', y='massa_log', data=df_log, palette='flare')\n",
    "\n",
    "plt.title('Продажи и кол-во касс', fontsize=16)\n",
    "plt.ylabel('объём продаж (логарифм)', fontsize=14)\n",
    "plt.xlabel('кол-во касс', fontsize=14)\n",
    "plt.show()"
   ]
  },
  {
   "cell_type": "markdown",
   "id": "2d3e1759-cbbe-4dd2-9173-7660036b8cc3",
   "metadata": {},
   "source": [
    "Выводы:  \n",
    "- продажи зависят от кол-ва касс на азс: продажи на азс с 1-й кассой ниже чем на азс с 2-мя и более кассами"
   ]
  },
  {
   "cell_type": "markdown",
   "id": "a9cab00c-d62b-4e01-907e-706139f39fad",
   "metadata": {
    "tags": []
   },
   "source": [
    "## 2.3 Гипотеза 3  \n",
    "доли продаж по месторасположению в зависимости от региона отличаются"
   ]
  },
  {
   "cell_type": "code",
   "execution_count": 37,
   "id": "4bc59e55-df9e-464e-9903-cc9a1864d591",
   "metadata": {},
   "outputs": [],
   "source": [
    "def barplot_group(data: pd.DataFrame, col_main: str, col_group: str,\n",
    "                  title: str) -> None:\n",
    "\n",
    "    plt.figure(figsize=(16, 9))\n",
    "\n",
    "    data_group = (data.groupby(\n",
    "        [col_group])[col_main].value_counts(normalize=True).rename(\n",
    "            'percentage').mul(100).reset_index().sort_values(col_group))\n",
    "\n",
    "    ax = sns.barplot(x=col_main,\n",
    "                     y=\"percentage\",\n",
    "                     hue=col_group,\n",
    "                     data=data_group,\n",
    "                     palette='Paired')\n",
    "\n",
    "    for p in ax.patches:\n",
    "        percentage = '{:.1f}%'.format(p.get_height())\n",
    "        ax.annotate(\n",
    "            percentage,  # текст\n",
    "            (p.get_x() + p.get_width() / 2., p.get_height()),  # координата xy\n",
    "            ha='center',  # центрирование\n",
    "            va='center',\n",
    "            xytext=(0, 10),\n",
    "            textcoords='offset points',  # точка смещения относительно координаты\n",
    "            fontsize=14)\n",
    "\n",
    "    plt.title(title, fontsize=20)\n",
    "    plt.ylabel('Percentage', fontsize=14)\n",
    "    plt.xlabel(col_main, fontsize=14)\n",
    "\n",
    "    plt.xticks(fontsize=14)\n",
    "    plt.yticks(fontsize=14)"
   ]
  },
  {
   "cell_type": "code",
   "execution_count": 32,
   "id": "fb53bd59-852a-48bf-b31c-4fa7e701d460",
   "metadata": {},
   "outputs": [
    {
     "data": {
      "text/html": [
       "<div>\n",
       "<style scoped>\n",
       "    .dataframe tbody tr th:only-of-type {\n",
       "        vertical-align: middle;\n",
       "    }\n",
       "\n",
       "    .dataframe tbody tr th {\n",
       "        vertical-align: top;\n",
       "    }\n",
       "\n",
       "    .dataframe thead th {\n",
       "        text-align: right;\n",
       "    }\n",
       "</style>\n",
       "<table border=\"1\" class=\"dataframe\">\n",
       "  <thead>\n",
       "    <tr style=\"text-align: right;\">\n",
       "      <th></th>\n",
       "      <th>AZS_NAME</th>\n",
       "      <th>PROD_NAME</th>\n",
       "      <th>MASSA_TN</th>\n",
       "      <th>cnt_ks</th>\n",
       "      <th>cnt_tank</th>\n",
       "      <th>cnt_trk</th>\n",
       "      <th>cnt_hand</th>\n",
       "      <th>region</th>\n",
       "      <th>location</th>\n",
       "      <th>year</th>\n",
       "      <th>month</th>\n",
       "      <th>day</th>\n",
       "      <th>day_of_week</th>\n",
       "      <th>massa_log</th>\n",
       "    </tr>\n",
       "  </thead>\n",
       "  <tbody>\n",
       "    <tr>\n",
       "      <th>0</th>\n",
       "      <td>AZS 293</td>\n",
       "      <td>gasoline_ai_92</td>\n",
       "      <td>3.597860</td>\n",
       "      <td>more_1_kassa</td>\n",
       "      <td>2</td>\n",
       "      <td>6</td>\n",
       "      <td>8</td>\n",
       "      <td>Arkhangelsk_region</td>\n",
       "      <td>city</td>\n",
       "      <td>2019</td>\n",
       "      <td>1</td>\n",
       "      <td>1</td>\n",
       "      <td>Tuesday</td>\n",
       "      <td>1.525591</td>\n",
       "    </tr>\n",
       "    <tr>\n",
       "      <th>1</th>\n",
       "      <td>AZS 293</td>\n",
       "      <td>gasoline_ai_95</td>\n",
       "      <td>1.562464</td>\n",
       "      <td>more_1_kassa</td>\n",
       "      <td>1</td>\n",
       "      <td>4</td>\n",
       "      <td>4</td>\n",
       "      <td>Arkhangelsk_region</td>\n",
       "      <td>city</td>\n",
       "      <td>2019</td>\n",
       "      <td>1</td>\n",
       "      <td>1</td>\n",
       "      <td>Tuesday</td>\n",
       "      <td>0.940969</td>\n",
       "    </tr>\n",
       "  </tbody>\n",
       "</table>\n",
       "</div>"
      ],
      "text/plain": [
       "  AZS_NAME       PROD_NAME  MASSA_TN        cnt_ks  cnt_tank  cnt_trk  \\\n",
       "0  AZS 293  gasoline_ai_92  3.597860  more_1_kassa         2        6   \n",
       "1  AZS 293  gasoline_ai_95  1.562464  more_1_kassa         1        4   \n",
       "\n",
       "   cnt_hand              region location  year  month  day day_of_week  \\\n",
       "0         8  Arkhangelsk_region     city  2019      1    1     Tuesday   \n",
       "1         4  Arkhangelsk_region     city  2019      1    1     Tuesday   \n",
       "\n",
       "   massa_log  \n",
       "0   1.525591  \n",
       "1   0.940969  "
      ]
     },
     "execution_count": 32,
     "metadata": {},
     "output_type": "execute_result"
    }
   ],
   "source": [
    "df_log.head(2)"
   ]
  },
  {
   "cell_type": "code",
   "execution_count": 39,
   "id": "c9905c9f-8673-4b3a-ba10-9ee73a232563",
   "metadata": {},
   "outputs": [
    {
     "data": {
      "image/png": "[encoded data removed]",
      "text/plain": [
       "<Figure size 1152x648 with 1 Axes>"
      ]
     },
     "metadata": {
      "needs_background": "light"
     },
     "output_type": "display_data"
    }
   ],
   "source": [
    "barplot_group(df, \"region\", \"location\", title=\"Region-Location\")"
   ]
  },
  {
   "cell_type": "markdown",
   "id": "4a97b11b-ab93-4cb4-8634-32f1546e7e5a",
   "metadata": {},
   "source": [
    "Вывод. Среди АЗС расположенных в городе основная доля продаж приходиться на АРхангельскую область. АЗС расположенные на трассе находятся только в Вологодской области"
   ]
  },
  {
   "cell_type": "markdown",
   "id": "d6aec3f6-ea49-45a2-967d-65956ea4f3cd",
   "metadata": {},
   "source": [
    "## 2.4 Гипотеза 4  \n",
    "с каждым годом продажи увеличиваются"
   ]
  },
  {
   "cell_type": "code",
   "execution_count": 42,
   "id": "670dd87c-29a3-405c-a629-4c981891ffc5",
   "metadata": {},
   "outputs": [
    {
     "data": {
      "image/png": "[encoded data removed]",
      "text/plain": [
       "<Figure size 1440x648 with 1 Axes>"
      ]
     },
     "metadata": {
      "needs_background": "light"
     },
     "output_type": "display_data"
    }
   ],
   "source": [
    "plt.figure(figsize=(20, 9))\n",
    "\n",
    "sns.barplot(x='PROD_NAME', y='MASSA_TN', hue='year',  data=df, palette='tab10')\n",
    "\n",
    "plt.title('Продажи по годам в разрезе сортов', fontsize=16)\n",
    "plt.ylabel('среднесуточный объём продаж на 1 АЗС', fontsize=14)\n",
    "plt.xlabel('сорт топлива', fontsize=14)\n",
    "plt.show()"
   ]
  },
  {
   "cell_type": "raw",
   "id": "3a4c5c9b-19a2-4dfd-a5f3-65c945ca7870",
   "metadata": {},
   "source": [
    "Вывод. По всем сортам, кроме ДТ Танеко, с каждым годом среднесуточный объём продаж на 1 азс увеличивается."
   ]
  },
  {
   "cell_type": "markdown",
   "id": "83e1491f-46ae-495f-bacc-6b62f5073f5a",
   "metadata": {},
   "source": [
    "## 2.5 Гипотеза 5  \n",
    "Продажи подвержены фактору сезонности  "
   ]
  },
  {
   "cell_type": "code",
   "execution_count": 56,
   "id": "000a5afd-efaf-47a5-a1e0-5d44ecb6a901",
   "metadata": {},
   "outputs": [
    {
     "data": {
      "image/png": "[encoded data removed]",
      "text/plain": [
       "<Figure size 1152x648 with 1 Axes>"
      ]
     },
     "metadata": {
      "needs_background": "light"
     },
     "output_type": "display_data"
    }
   ],
   "source": [
    "plt.figure(figsize=(16, 9))\n",
    "sns.lineplot(x='month', y='MASSA_TN', data=df)\n",
    "plt.title('Продажи по месяцам', fontsize=16)\n",
    "plt.ylabel('среднесуточный объём продаж на 1 азс', fontsize=14)\n",
    "plt.xlabel('год', fontsize=14)\n",
    "plt.show();"
   ]
  },
  {
   "cell_type": "markdown",
   "id": "caa48064-50d2-4a12-8e59-b5fcba7d7434",
   "metadata": {},
   "source": [
    "## 2.6 Гипотеза 6  \n",
    "Присутсвует недельная сезонность - в будни продажи выше чем в выходные  "
   ]
  },
  {
   "cell_type": "code",
   "execution_count": 59,
   "id": "0e9c314f-2eed-4e1c-93c1-596769cf2bf1",
   "metadata": {},
   "outputs": [
    {
     "data": {
      "image/png": "[encoded data removed]",
      "text/plain": [
       "<Figure size 1152x648 with 1 Axes>"
      ]
     },
     "metadata": {
      "needs_background": "light"
     },
     "output_type": "display_data"
    }
   ],
   "source": [
    "plt.figure(figsize=(16, 9))\n",
    "sns.barplot(x='MASSA_TN', y='day_of_week', data=df)\n",
    "plt.title('Продажи по месяцам', fontsize=16)\n",
    "plt.ylabel('среднесуточный объём продаж на 1 азс', fontsize=14)\n",
    "plt.xlabel('год', fontsize=14)\n",
    "plt.show();"
   ]
  },
  {
   "cell_type": "markdown",
   "id": "97ceff18-2403-40a0-96a8-8ac339b09c15",
   "metadata": {},
   "source": [
    "Вывод. Пик продаж приходится на пятницу и субботу"
   ]
  },
  {
   "cell_type": "markdown",
   "id": "276ad3dd-f0f7-4d68-a9e3-4712073271b9",
   "metadata": {},
   "source": [
    "## Анализ распределений и линейной зависимости  "
   ]
  },
  {
   "cell_type": "code",
   "execution_count": 60,
   "id": "5d7d6e08-51e0-4e15-b18d-c8fd3d9529ec",
   "metadata": {},
   "outputs": [
    {
     "data": {
      "image/png": "[encoded data removed]",
      "text/plain": [
       "<Figure size 720x576 with 2 Axes>"
      ]
     },
     "metadata": {
      "needs_background": "light"
     },
     "output_type": "display_data"
    }
   ],
   "source": [
    "features = ['cnt_tank', 'cnt_trk', 'cnt_hand', 'year', 'month', 'day']\n",
    "plt.figure(figsize=(10, 8))\n",
    "sns.heatmap(df_log[features].corr(method='spearman'), annot=True, fmt='.2f', cmap=\"crest\")\n",
    "plt.show();"
   ]
  },
  {
   "cell_type": "markdown",
   "id": "18f9e862-845a-4982-a8a3-6161836cfd92",
   "metadata": {},
   "source": [
    "1. Между признаками и целевой переменной нет линейной зависимости - модель линейной регрессии не применима;  \n",
    "2. Сильная корреляция между признаком 'cnt_trk' и 'cnt_hand'."
   ]
  },
  {
   "cell_type": "markdown",
   "id": "e7a25145-d167-41e0-a874-76a9c01c10f2",
   "metadata": {},
   "source": [
    "# 2. Feature engineering"
   ]
  },
  {
   "cell_type": "markdown",
   "id": "35140054-7954-4931-aea1-924d0a7e300c",
   "metadata": {},
   "source": [
    "## Получение новых признаков"
   ]
  },
  {
   "cell_type": "markdown",
   "id": "c9ed94fb-d7ac-4cb5-a895-b840d15e6e0c",
   "metadata": {},
   "source": [
    "### добавление вида нефтепродукта\n",
    "добавлю признак по виду нефтепродукта в зависимости от сорта:  \n",
    "- \"бензин\": Бензин АИ-92, Бензин АИ-95, Бензин АИ-98, Бензин АИ-100, Бензин АИ-95 Евро\n",
    "- \"дт\" (дизельное топливо): Дизельное топливо, Дизельное топливо (евро), Дизельное топливо Арктика  \n",
    "- \"газ\": СУГ, Метан  "
   ]
  },
  {
   "cell_type": "code",
   "execution_count": 209,
   "id": "e9a4a15b-6752-4920-81e8-ccd5640de2d8",
   "metadata": {},
   "outputs": [],
   "source": [
    "df['type_oil'] = df.PROD_NAME.map(preproc['type_oil'])"
   ]
  },
  {
   "cell_type": "markdown",
   "id": "42f19229-d44f-4df6-879e-d5269e860ab6",
   "metadata": {},
   "source": [
    "### кол-во трк преобразование в бины  "
   ]
  },
  {
   "cell_type": "code",
   "execution_count": 210,
   "id": "8397b430-d6f5-4779-b6c4-dd9646a130e8",
   "metadata": {},
   "outputs": [],
   "source": [
    "def get_bins(data: (int, float), first_val: (int, float),\n",
    "             second_val: (int, float)) -> str:\n",
    "    \"\"\"\n",
    "    Генерация бинов для разных признаков\n",
    "    :param data: датасет\n",
    "    :param first_val: первый порог значения для разбиения на бины\n",
    "    :param second_val: второй порог значения для разбиения на бины\n",
    "    :return: датасет\n",
    "    \"\"\"\n",
    "    assert isinstance(data, (int, float)), \"Проблема с типом данных в признаке\"\n",
    "    result = (\"2_and_less\" if data <= first_val else\n",
    "              \"3_and_4\" if first_val < data <= second_val else \"more 4\")\n",
    "    return result"
   ]
  },
  {
   "cell_type": "code",
   "execution_count": 211,
   "id": "d7e96df5-d4a1-4065-9094-58bb860f030c",
   "metadata": {},
   "outputs": [],
   "source": [
    "for key in preproc[\"map_bins_columns\"].keys():\n",
    "    df[f\"{key}_bins\"] = df[key].apply(lambda x: get_bins(\n",
    "        x,\n",
    "        first_val=preproc[\"map_bins_columns\"][key][0],\n",
    "        second_val=preproc[\"map_bins_columns\"][key][1],\n",
    "    ))"
   ]
  },
  {
   "cell_type": "markdown",
   "id": "cdf24aac-6f5d-481e-b9ac-de3f414ada3d",
   "metadata": {},
   "source": [
    "перевод object в category для lgbm"
   ]
  },
  {
   "cell_type": "code",
   "execution_count": 212,
   "id": "4f76c4eb-d1fc-4456-98cd-ba3674fce85e",
   "metadata": {},
   "outputs": [],
   "source": [
    "def transform_types(data: pd.DataFrame, change_type_columns: dict) -> pd.DataFrame:\n",
    "    \"\"\"\n",
    "    Преобразование признаков в заданный тип данных\n",
    "    :param data: датасет\n",
    "    :param change_type_columns: словарь с признаками и типами данных\n",
    "    :return:\n",
    "    \"\"\"\n",
    "    return data.astype(change_type_columns, errors=\"raise\")"
   ]
  },
  {
   "cell_type": "code",
   "execution_count": 213,
   "id": "8e59e50f-8bb9-4fbe-aa66-3f39239f3ddf",
   "metadata": {},
   "outputs": [],
   "source": [
    "dict_category = {\n",
    "    key: \"category\"\n",
    "    for key in df.select_dtypes([\"object\"]).columns\n",
    "}\n",
    "df = transform_types(data=df, change_type_columns=dict_category)"
   ]
  },
  {
   "cell_type": "markdown",
   "id": "d95e0979-37ae-460e-afb2-b08d8458a81c",
   "metadata": {},
   "source": [
    "# 3. Training"
   ]
  },
  {
   "cell_type": "markdown",
   "id": "97cdc131-1ed6-4101-a3b8-b18f64f6c4ee",
   "metadata": {},
   "source": [
    "## 3.1 Baseline"
   ]
  },
  {
   "cell_type": "code",
   "execution_count": 214,
   "id": "5db6e338-8d2e-4929-afb8-fc30017eba50",
   "metadata": {},
   "outputs": [],
   "source": [
    "X = df.drop(columns=[preproc['drop_columns'][0], training['target_column']],\n",
    "            axis=1)\n",
    "y = df[training['target_column']]\n",
    "\n",
    "X_train, X_test, y_train, y_test = train_test_split(X,\n",
    "                                                    y,\n",
    "                                                    test_size=preproc['test_size'],\n",
    "                                                    random_state=preproc['random_state'])"
   ]
  },
  {
   "cell_type": "code",
   "execution_count": 215,
   "id": "2df19760-5b5b-4981-82f2-44df8e7b676b",
   "metadata": {},
   "outputs": [
    {
     "data": {
      "text/html": [
       "<style>#sk-container-id-7 {color: black;}#sk-container-id-7 pre{padding: 0;}#sk-container-id-7 div.sk-toggleable {background-color: white;}#sk-container-id-7 label.sk-toggleable__label {cursor: pointer;display: block;width: 100%;margin-bottom: 0;padding: 0.3em;box-sizing: border-box;text-align: center;}#sk-container-id-7 label.sk-toggleable__label-arrow:before {content: \"▸\";float: left;margin-right: 0.25em;color: #696969;}#sk-container-id-7 label.sk-toggleable__label-arrow:hover:before {color: black;}#sk-container-id-7 div.sk-estimator:hover label.sk-toggleable__label-arrow:before {color: black;}#sk-container-id-7 div.sk-toggleable__content {max-height: 0;max-width: 0;overflow: hidden;text-align: left;background-color: #f0f8ff;}#sk-container-id-7 div.sk-toggleable__content pre {margin: 0.2em;color: black;border-radius: 0.25em;background-color: #f0f8ff;}#sk-container-id-7 input.sk-toggleable__control:checked~div.sk-toggleable__content {max-height: 200px;max-width: 100%;overflow: auto;}#sk-container-id-7 input.sk-toggleable__control:checked~label.sk-toggleable__label-arrow:before {content: \"▾\";}#sk-container-id-7 div.sk-estimator input.sk-toggleable__control:checked~label.sk-toggleable__label {background-color: #d4ebff;}#sk-container-id-7 div.sk-label input.sk-toggleable__control:checked~label.sk-toggleable__label {background-color: #d4ebff;}#sk-container-id-7 input.sk-hidden--visually {border: 0;clip: rect(1px 1px 1px 1px);clip: rect(1px, 1px, 1px, 1px);height: 1px;margin: -1px;overflow: hidden;padding: 0;position: absolute;width: 1px;}#sk-container-id-7 div.sk-estimator {font-family: monospace;background-color: #f0f8ff;border: 1px dotted black;border-radius: 0.25em;box-sizing: border-box;margin-bottom: 0.5em;}#sk-container-id-7 div.sk-estimator:hover {background-color: #d4ebff;}#sk-container-id-7 div.sk-parallel-item::after {content: \"\";width: 100%;border-bottom: 1px solid gray;flex-grow: 1;}#sk-container-id-7 div.sk-label:hover label.sk-toggleable__label {background-color: #d4ebff;}#sk-container-id-7 div.sk-serial::before {content: \"\";position: absolute;border-left: 1px solid gray;box-sizing: border-box;top: 0;bottom: 0;left: 50%;z-index: 0;}#sk-container-id-7 div.sk-serial {display: flex;flex-direction: column;align-items: center;background-color: white;padding-right: 0.2em;padding-left: 0.2em;position: relative;}#sk-container-id-7 div.sk-item {position: relative;z-index: 1;}#sk-container-id-7 div.sk-parallel {display: flex;align-items: stretch;justify-content: center;background-color: white;position: relative;}#sk-container-id-7 div.sk-item::before, #sk-container-id-7 div.sk-parallel-item::before {content: \"\";position: absolute;border-left: 1px solid gray;box-sizing: border-box;top: 0;bottom: 0;left: 50%;z-index: -1;}#sk-container-id-7 div.sk-parallel-item {display: flex;flex-direction: column;z-index: 1;position: relative;background-color: white;}#sk-container-id-7 div.sk-parallel-item:first-child::after {align-self: flex-end;width: 50%;}#sk-container-id-7 div.sk-parallel-item:last-child::after {align-self: flex-start;width: 50%;}#sk-container-id-7 div.sk-parallel-item:only-child::after {width: 0;}#sk-container-id-7 div.sk-dashed-wrapped {border: 1px dashed gray;margin: 0 0.4em 0.5em 0.4em;box-sizing: border-box;padding-bottom: 0.4em;background-color: white;}#sk-container-id-7 div.sk-label label {font-family: monospace;font-weight: bold;display: inline-block;line-height: 1.2em;}#sk-container-id-7 div.sk-label-container {text-align: center;}#sk-container-id-7 div.sk-container {/* jupyter's `normalize.less` sets `[hidden] { display: none; }` but bootstrap.min.css set `[hidden] { display: none !important; }` so we also need the `!important` here to be able to override the default hidden behavior on the sphinx rendered scikit-learn.org. See: https://github.com/scikit-learn/scikit-learn/issues/21755 */display: inline-block !important;position: relative;}#sk-container-id-7 div.sk-text-repr-fallback {display: none;}</style><div id=\"sk-container-id-7\" class=\"sk-top-container\"><div class=\"sk-text-repr-fallback\"><pre>LGBMRegressor(random_state=10)</pre><b>In a Jupyter environment, please rerun this cell to show the HTML representation or trust the notebook. <br />On GitHub, the HTML representation is unable to render, please try loading this page with nbviewer.org.</b></div><div class=\"sk-container\" hidden><div class=\"sk-item\"><div class=\"sk-estimator sk-toggleable\"><input class=\"sk-toggleable__control sk-hidden--visually\" id=\"sk-estimator-id-7\" type=\"checkbox\" checked><label for=\"sk-estimator-id-7\" class=\"sk-toggleable__label sk-toggleable__label-arrow\">LGBMRegressor</label><div class=\"sk-toggleable__content\"><pre>LGBMRegressor(random_state=10)</pre></div></div></div></div></div>"
      ],
      "text/plain": [
       "LGBMRegressor(random_state=10)"
      ]
     },
     "execution_count": 215,
     "metadata": {},
     "output_type": "execute_result"
    }
   ],
   "source": [
    "reg = LGBMRegressor(random_state=preproc['random_state'])\n",
    "reg.fit(X_train, y_train)"
   ]
  },
  {
   "cell_type": "code",
   "execution_count": 216,
   "id": "400edb34-e9ec-436a-b134-1883565af4d7",
   "metadata": {
    "pycharm": {
     "name": "#%%\n"
    }
   },
   "outputs": [],
   "source": [
    "def get_metrics(y_test: np.array, y_pred: np.array) -> Dict:\n",
    "    dict_metrics = {\n",
    "        'R2': round(r2_score(y_test, y_pred), 3),\n",
    "        'MAE': round(mean_absolute_error(y_test, y_pred), 3),\n",
    "        'MSE': round(mean_squared_error(y_test, y_pred), 3)\n",
    "    }\n",
    "\n",
    "    return dict_metrics"
   ]
  },
  {
   "cell_type": "code",
   "execution_count": 217,
   "id": "5daaba13-af78-4ad8-902f-d1c43dc981de",
   "metadata": {
    "pycharm": {
     "name": "#%%\n"
    }
   },
   "outputs": [],
   "source": [
    "y_pred = reg.predict(X_test)\n",
    "result = get_metrics(y_test, y_pred)"
   ]
  },
  {
   "cell_type": "code",
   "execution_count": 218,
   "id": "743f08a5-d89f-4c9d-938c-dada7fddee8f",
   "metadata": {},
   "outputs": [
    {
     "data": {
      "text/plain": [
       "{'R2': 0.953, 'MAE': 0.346, 'MSE': 0.266}"
      ]
     },
     "execution_count": 218,
     "metadata": {},
     "output_type": "execute_result"
    }
   ],
   "source": [
    "result"
   ]
  },
  {
   "cell_type": "markdown",
   "id": "c1cdf637-5773-4059-8672-7b6e599bb5cd",
   "metadata": {},
   "source": [
    "## 3.2 Tuning"
   ]
  },
  {
   "cell_type": "code",
   "execution_count": 219,
   "id": "c5f5c381-6132-49d4-beba-a48ad2ae3c58",
   "metadata": {
    "pycharm": {
     "name": "#%%\n"
    }
   },
   "outputs": [
    {
     "name": "stdout",
     "output_type": "stream",
     "text": [
      "estimators_num = 1000, R2=0.968\n",
      "estimators_num = 2000, R2=0.97\n",
      "estimators_num = 3000, R2=0.97\n",
      "estimators_num = 4000, R2=0.97\n"
     ]
    }
   ],
   "source": [
    "for num in [1000, 2000, 3000, 4000]:\n",
    "    lgb = LGBMRegressor(random_state=training['random_state'],\n",
    "                        n_estimators=num)\n",
    "    lgb.fit(X_train, y_train)\n",
    "    y_pred = lgb.predict(X_test)\n",
    "\n",
    "    result = get_metrics(y_test, y_pred)\n",
    "    print(f\"estimators_num = {num}, R2={result['R2']}\")"
   ]
  },
  {
   "cell_type": "code",
   "execution_count": 220,
   "id": "3b1e64f8-ce1e-4773-b8f5-621b225748b6",
   "metadata": {
    "pycharm": {
     "name": "#%%\n"
    }
   },
   "outputs": [],
   "source": [
    "def objective(trial, X, y, N_FOLDS, RANDOM_STATE):\n",
    "    param_grid = {\n",
    "        \"n_estimators\": trial.suggest_categorical(\"n_estimators\", [2000]),\n",
    "        \"random_state\": trial.suggest_categorical(\"random_state\", [RANDOM_STATE]),\n",
    "        \"learning_rate\": trial.suggest_float(\"learning_rate\", 0.01, 0.3),\n",
    "        \"num_leaves\": trial.suggest_int(\"num_leaves\", 20, 1000, step=20),\n",
    "        \"max_depth\": trial.suggest_int(\"max_depth\", 3, 15, step=1),\n",
    "        # регуляризация\n",
    "        \"reg_alpha\": trial.suggest_int(\"lambda_l1\", 0, 100),\n",
    "        \"reg_lambda\": trial.suggest_int(\"lambda_l2\", 0, 100),\n",
    "        \"min_split_gain\": trial.suggest_int(\"min_gain_to_split\", 0, 10),\n",
    "        # доля объектов при обучении в дереве\n",
    "        \"subsample\": trial.suggest_float(\"bagging_fraction\", 0.1, 1.0),\n",
    "        \"subsample_freq\": trial.suggest_categorical(\"bagging_freq\", [1]),\n",
    "        # доля признаков при обучении в дереве\n",
    "        \"colsample_bytree\": trial.suggest_float(\"colsample_bytree\", 0.7, 1.0)\n",
    "    }\n",
    "\n",
    "    cv = KFold(n_splits=N_FOLDS, shuffle=True, random_state=RANDOM_STATE)\n",
    "\n",
    "    cv_predicts = np.empty(N_FOLDS)\n",
    "    for idx, (train_idx, test_idx) in enumerate(cv.split(X, y)):\n",
    "        X_train, X_test = X.iloc[train_idx], X.iloc[test_idx]\n",
    "        y_train, y_test = y.iloc[train_idx], y.iloc[test_idx]\n",
    "\n",
    "        pruning_callback = optuna.integration.LightGBMPruningCallback(trial, \"l1\")\n",
    "\n",
    "        model = LGBMRegressor(**param_grid)\n",
    "        model.fit(X_train,\n",
    "                  y_train,\n",
    "                  eval_set=[(X_test, y_test)],\n",
    "                  eval_metric=\"mae\",\n",
    "                  # early_stopping_rounds=100,\n",
    "                  callbacks=[pruning_callback])\n",
    "        \n",
    "        preds = model.predict(X_test)\n",
    "        cv_predicts[idx] = mean_absolute_error(y_test, preds)\n",
    "\n",
    "    return np.mean(cv_predicts)"
   ]
  },
  {
   "cell_type": "code",
   "execution_count": 221,
   "id": "c9b1b844-d33a-412d-8288-758a7f7a82d0",
   "metadata": {
    "pycharm": {
     "name": "#%%\n"
    },
    "scrolled": true
   },
   "outputs": [
    {
     "data": {
      "application/vnd.jupyter.widget-view+json": {
       "model_id": "442bcb65992e4f498e8262f680890b93",
       "version_major": 2,
       "version_minor": 0
      },
      "text/plain": [
       "  0%|          | 0/10 [00:00<?, ?it/s]"
      ]
     },
     "metadata": {},
     "output_type": "display_data"
    },
    {
     "name": "stderr",
     "output_type": "stream",
     "text": [
      "c:\\users\\demya\\appdata\\local\\programs\\python\\python39\\lib\\site-packages\\lightgbm\\basic.py:1780: UserWarning:\n",
      "\n",
      "Overriding the parameters from Reference Dataset.\n",
      "\n",
      "c:\\users\\demya\\appdata\\local\\programs\\python\\python39\\lib\\site-packages\\lightgbm\\basic.py:1513: UserWarning:\n",
      "\n",
      "categorical_column in param dict is overridden.\n",
      "\n",
      "c:\\users\\demya\\appdata\\local\\programs\\python\\python39\\lib\\site-packages\\lightgbm\\basic.py:1780: UserWarning:\n",
      "\n",
      "Overriding the parameters from Reference Dataset.\n",
      "\n",
      "c:\\users\\demya\\appdata\\local\\programs\\python\\python39\\lib\\site-packages\\lightgbm\\basic.py:1513: UserWarning:\n",
      "\n",
      "categorical_column in param dict is overridden.\n",
      "\n",
      "c:\\users\\demya\\appdata\\local\\programs\\python\\python39\\lib\\site-packages\\lightgbm\\basic.py:1780: UserWarning:\n",
      "\n",
      "Overriding the parameters from Reference Dataset.\n",
      "\n",
      "c:\\users\\demya\\appdata\\local\\programs\\python\\python39\\lib\\site-packages\\lightgbm\\basic.py:1513: UserWarning:\n",
      "\n",
      "categorical_column in param dict is overridden.\n",
      "\n",
      "c:\\users\\demya\\appdata\\local\\programs\\python\\python39\\lib\\site-packages\\lightgbm\\basic.py:1780: UserWarning:\n",
      "\n",
      "Overriding the parameters from Reference Dataset.\n",
      "\n",
      "c:\\users\\demya\\appdata\\local\\programs\\python\\python39\\lib\\site-packages\\lightgbm\\basic.py:1513: UserWarning:\n",
      "\n",
      "categorical_column in param dict is overridden.\n",
      "\n",
      "c:\\users\\demya\\appdata\\local\\programs\\python\\python39\\lib\\site-packages\\lightgbm\\basic.py:1780: UserWarning:\n",
      "\n",
      "Overriding the parameters from Reference Dataset.\n",
      "\n",
      "c:\\users\\demya\\appdata\\local\\programs\\python\\python39\\lib\\site-packages\\lightgbm\\basic.py:1513: UserWarning:\n",
      "\n",
      "categorical_column in param dict is overridden.\n",
      "\n",
      "c:\\users\\demya\\appdata\\local\\programs\\python\\python39\\lib\\site-packages\\lightgbm\\basic.py:1780: UserWarning:\n",
      "\n",
      "Overriding the parameters from Reference Dataset.\n",
      "\n",
      "c:\\users\\demya\\appdata\\local\\programs\\python\\python39\\lib\\site-packages\\lightgbm\\basic.py:1513: UserWarning:\n",
      "\n",
      "categorical_column in param dict is overridden.\n",
      "\n",
      "c:\\users\\demya\\appdata\\local\\programs\\python\\python39\\lib\\site-packages\\lightgbm\\basic.py:1780: UserWarning:\n",
      "\n",
      "Overriding the parameters from Reference Dataset.\n",
      "\n",
      "c:\\users\\demya\\appdata\\local\\programs\\python\\python39\\lib\\site-packages\\lightgbm\\basic.py:1513: UserWarning:\n",
      "\n",
      "categorical_column in param dict is overridden.\n",
      "\n",
      "c:\\users\\demya\\appdata\\local\\programs\\python\\python39\\lib\\site-packages\\lightgbm\\basic.py:1780: UserWarning:\n",
      "\n",
      "Overriding the parameters from Reference Dataset.\n",
      "\n",
      "c:\\users\\demya\\appdata\\local\\programs\\python\\python39\\lib\\site-packages\\lightgbm\\basic.py:1513: UserWarning:\n",
      "\n",
      "categorical_column in param dict is overridden.\n",
      "\n",
      "c:\\users\\demya\\appdata\\local\\programs\\python\\python39\\lib\\site-packages\\lightgbm\\basic.py:1780: UserWarning:\n",
      "\n",
      "Overriding the parameters from Reference Dataset.\n",
      "\n",
      "c:\\users\\demya\\appdata\\local\\programs\\python\\python39\\lib\\site-packages\\lightgbm\\basic.py:1513: UserWarning:\n",
      "\n",
      "categorical_column in param dict is overridden.\n",
      "\n",
      "c:\\users\\demya\\appdata\\local\\programs\\python\\python39\\lib\\site-packages\\lightgbm\\basic.py:1780: UserWarning:\n",
      "\n",
      "Overriding the parameters from Reference Dataset.\n",
      "\n",
      "c:\\users\\demya\\appdata\\local\\programs\\python\\python39\\lib\\site-packages\\lightgbm\\basic.py:1513: UserWarning:\n",
      "\n",
      "categorical_column in param dict is overridden.\n",
      "\n",
      "c:\\users\\demya\\appdata\\local\\programs\\python\\python39\\lib\\site-packages\\lightgbm\\basic.py:1780: UserWarning:\n",
      "\n",
      "Overriding the parameters from Reference Dataset.\n",
      "\n",
      "c:\\users\\demya\\appdata\\local\\programs\\python\\python39\\lib\\site-packages\\lightgbm\\basic.py:1513: UserWarning:\n",
      "\n",
      "categorical_column in param dict is overridden.\n",
      "\n",
      "c:\\users\\demya\\appdata\\local\\programs\\python\\python39\\lib\\site-packages\\lightgbm\\basic.py:1780: UserWarning:\n",
      "\n",
      "Overriding the parameters from Reference Dataset.\n",
      "\n",
      "c:\\users\\demya\\appdata\\local\\programs\\python\\python39\\lib\\site-packages\\lightgbm\\basic.py:1513: UserWarning:\n",
      "\n",
      "categorical_column in param dict is overridden.\n",
      "\n",
      "c:\\users\\demya\\appdata\\local\\programs\\python\\python39\\lib\\site-packages\\lightgbm\\basic.py:1780: UserWarning:\n",
      "\n",
      "Overriding the parameters from Reference Dataset.\n",
      "\n",
      "c:\\users\\demya\\appdata\\local\\programs\\python\\python39\\lib\\site-packages\\lightgbm\\basic.py:1513: UserWarning:\n",
      "\n",
      "categorical_column in param dict is overridden.\n",
      "\n",
      "c:\\users\\demya\\appdata\\local\\programs\\python\\python39\\lib\\site-packages\\lightgbm\\basic.py:1780: UserWarning:\n",
      "\n",
      "Overriding the parameters from Reference Dataset.\n",
      "\n",
      "c:\\users\\demya\\appdata\\local\\programs\\python\\python39\\lib\\site-packages\\lightgbm\\basic.py:1513: UserWarning:\n",
      "\n",
      "categorical_column in param dict is overridden.\n",
      "\n",
      "c:\\users\\demya\\appdata\\local\\programs\\python\\python39\\lib\\site-packages\\lightgbm\\basic.py:1780: UserWarning:\n",
      "\n",
      "Overriding the parameters from Reference Dataset.\n",
      "\n",
      "c:\\users\\demya\\appdata\\local\\programs\\python\\python39\\lib\\site-packages\\lightgbm\\basic.py:1513: UserWarning:\n",
      "\n",
      "categorical_column in param dict is overridden.\n",
      "\n",
      "c:\\users\\demya\\appdata\\local\\programs\\python\\python39\\lib\\site-packages\\lightgbm\\basic.py:1780: UserWarning:\n",
      "\n",
      "Overriding the parameters from Reference Dataset.\n",
      "\n",
      "c:\\users\\demya\\appdata\\local\\programs\\python\\python39\\lib\\site-packages\\lightgbm\\basic.py:1513: UserWarning:\n",
      "\n",
      "categorical_column in param dict is overridden.\n",
      "\n",
      "c:\\users\\demya\\appdata\\local\\programs\\python\\python39\\lib\\site-packages\\lightgbm\\basic.py:1780: UserWarning:\n",
      "\n",
      "Overriding the parameters from Reference Dataset.\n",
      "\n",
      "c:\\users\\demya\\appdata\\local\\programs\\python\\python39\\lib\\site-packages\\lightgbm\\basic.py:1513: UserWarning:\n",
      "\n",
      "categorical_column in param dict is overridden.\n",
      "\n",
      "c:\\users\\demya\\appdata\\local\\programs\\python\\python39\\lib\\site-packages\\lightgbm\\basic.py:1780: UserWarning:\n",
      "\n",
      "Overriding the parameters from Reference Dataset.\n",
      "\n",
      "c:\\users\\demya\\appdata\\local\\programs\\python\\python39\\lib\\site-packages\\lightgbm\\basic.py:1513: UserWarning:\n",
      "\n",
      "categorical_column in param dict is overridden.\n",
      "\n",
      "c:\\users\\demya\\appdata\\local\\programs\\python\\python39\\lib\\site-packages\\lightgbm\\basic.py:1780: UserWarning:\n",
      "\n",
      "Overriding the parameters from Reference Dataset.\n",
      "\n",
      "c:\\users\\demya\\appdata\\local\\programs\\python\\python39\\lib\\site-packages\\lightgbm\\basic.py:1513: UserWarning:\n",
      "\n",
      "categorical_column in param dict is overridden.\n",
      "\n",
      "c:\\users\\demya\\appdata\\local\\programs\\python\\python39\\lib\\site-packages\\lightgbm\\basic.py:1780: UserWarning:\n",
      "\n",
      "Overriding the parameters from Reference Dataset.\n",
      "\n",
      "c:\\users\\demya\\appdata\\local\\programs\\python\\python39\\lib\\site-packages\\lightgbm\\basic.py:1513: UserWarning:\n",
      "\n",
      "categorical_column in param dict is overridden.\n",
      "\n",
      "c:\\users\\demya\\appdata\\local\\programs\\python\\python39\\lib\\site-packages\\lightgbm\\basic.py:1780: UserWarning:\n",
      "\n",
      "Overriding the parameters from Reference Dataset.\n",
      "\n",
      "c:\\users\\demya\\appdata\\local\\programs\\python\\python39\\lib\\site-packages\\lightgbm\\basic.py:1513: UserWarning:\n",
      "\n",
      "categorical_column in param dict is overridden.\n",
      "\n",
      "c:\\users\\demya\\appdata\\local\\programs\\python\\python39\\lib\\site-packages\\lightgbm\\basic.py:1780: UserWarning:\n",
      "\n",
      "Overriding the parameters from Reference Dataset.\n",
      "\n",
      "c:\\users\\demya\\appdata\\local\\programs\\python\\python39\\lib\\site-packages\\lightgbm\\basic.py:1513: UserWarning:\n",
      "\n",
      "categorical_column in param dict is overridden.\n",
      "\n",
      "c:\\users\\demya\\appdata\\local\\programs\\python\\python39\\lib\\site-packages\\lightgbm\\basic.py:1780: UserWarning:\n",
      "\n",
      "Overriding the parameters from Reference Dataset.\n",
      "\n",
      "c:\\users\\demya\\appdata\\local\\programs\\python\\python39\\lib\\site-packages\\lightgbm\\basic.py:1513: UserWarning:\n",
      "\n",
      "categorical_column in param dict is overridden.\n",
      "\n",
      "c:\\users\\demya\\appdata\\local\\programs\\python\\python39\\lib\\site-packages\\lightgbm\\basic.py:1780: UserWarning:\n",
      "\n",
      "Overriding the parameters from Reference Dataset.\n",
      "\n",
      "c:\\users\\demya\\appdata\\local\\programs\\python\\python39\\lib\\site-packages\\lightgbm\\basic.py:1513: UserWarning:\n",
      "\n",
      "categorical_column in param dict is overridden.\n",
      "\n",
      "c:\\users\\demya\\appdata\\local\\programs\\python\\python39\\lib\\site-packages\\lightgbm\\basic.py:1780: UserWarning:\n",
      "\n",
      "Overriding the parameters from Reference Dataset.\n",
      "\n",
      "c:\\users\\demya\\appdata\\local\\programs\\python\\python39\\lib\\site-packages\\lightgbm\\basic.py:1513: UserWarning:\n",
      "\n",
      "categorical_column in param dict is overridden.\n",
      "\n",
      "c:\\users\\demya\\appdata\\local\\programs\\python\\python39\\lib\\site-packages\\lightgbm\\basic.py:1780: UserWarning:\n",
      "\n",
      "Overriding the parameters from Reference Dataset.\n",
      "\n",
      "c:\\users\\demya\\appdata\\local\\programs\\python\\python39\\lib\\site-packages\\lightgbm\\basic.py:1513: UserWarning:\n",
      "\n",
      "categorical_column in param dict is overridden.\n",
      "\n",
      "c:\\users\\demya\\appdata\\local\\programs\\python\\python39\\lib\\site-packages\\lightgbm\\basic.py:1780: UserWarning:\n",
      "\n",
      "Overriding the parameters from Reference Dataset.\n",
      "\n",
      "c:\\users\\demya\\appdata\\local\\programs\\python\\python39\\lib\\site-packages\\lightgbm\\basic.py:1513: UserWarning:\n",
      "\n",
      "categorical_column in param dict is overridden.\n",
      "\n",
      "c:\\users\\demya\\appdata\\local\\programs\\python\\python39\\lib\\site-packages\\lightgbm\\basic.py:1780: UserWarning:\n",
      "\n",
      "Overriding the parameters from Reference Dataset.\n",
      "\n",
      "c:\\users\\demya\\appdata\\local\\programs\\python\\python39\\lib\\site-packages\\lightgbm\\basic.py:1513: UserWarning:\n",
      "\n",
      "categorical_column in param dict is overridden.\n",
      "\n",
      "c:\\users\\demya\\appdata\\local\\programs\\python\\python39\\lib\\site-packages\\lightgbm\\basic.py:1780: UserWarning:\n",
      "\n",
      "Overriding the parameters from Reference Dataset.\n",
      "\n",
      "c:\\users\\demya\\appdata\\local\\programs\\python\\python39\\lib\\site-packages\\lightgbm\\basic.py:1513: UserWarning:\n",
      "\n",
      "categorical_column in param dict is overridden.\n",
      "\n",
      "c:\\users\\demya\\appdata\\local\\programs\\python\\python39\\lib\\site-packages\\lightgbm\\basic.py:1780: UserWarning:\n",
      "\n",
      "Overriding the parameters from Reference Dataset.\n",
      "\n",
      "c:\\users\\demya\\appdata\\local\\programs\\python\\python39\\lib\\site-packages\\lightgbm\\basic.py:1513: UserWarning:\n",
      "\n",
      "categorical_column in param dict is overridden.\n",
      "\n",
      "c:\\users\\demya\\appdata\\local\\programs\\python\\python39\\lib\\site-packages\\lightgbm\\basic.py:1780: UserWarning:\n",
      "\n",
      "Overriding the parameters from Reference Dataset.\n",
      "\n",
      "c:\\users\\demya\\appdata\\local\\programs\\python\\python39\\lib\\site-packages\\lightgbm\\basic.py:1513: UserWarning:\n",
      "\n",
      "categorical_column in param dict is overridden.\n",
      "\n",
      "c:\\users\\demya\\appdata\\local\\programs\\python\\python39\\lib\\site-packages\\lightgbm\\basic.py:1780: UserWarning:\n",
      "\n",
      "Overriding the parameters from Reference Dataset.\n",
      "\n",
      "c:\\users\\demya\\appdata\\local\\programs\\python\\python39\\lib\\site-packages\\lightgbm\\basic.py:1513: UserWarning:\n",
      "\n",
      "categorical_column in param dict is overridden.\n",
      "\n",
      "c:\\users\\demya\\appdata\\local\\programs\\python\\python39\\lib\\site-packages\\lightgbm\\basic.py:1780: UserWarning:\n",
      "\n",
      "Overriding the parameters from Reference Dataset.\n",
      "\n",
      "c:\\users\\demya\\appdata\\local\\programs\\python\\python39\\lib\\site-packages\\lightgbm\\basic.py:1513: UserWarning:\n",
      "\n",
      "categorical_column in param dict is overridden.\n",
      "\n",
      "c:\\users\\demya\\appdata\\local\\programs\\python\\python39\\lib\\site-packages\\lightgbm\\basic.py:1780: UserWarning:\n",
      "\n",
      "Overriding the parameters from Reference Dataset.\n",
      "\n",
      "c:\\users\\demya\\appdata\\local\\programs\\python\\python39\\lib\\site-packages\\lightgbm\\basic.py:1513: UserWarning:\n",
      "\n",
      "categorical_column in param dict is overridden.\n",
      "\n",
      "c:\\users\\demya\\appdata\\local\\programs\\python\\python39\\lib\\site-packages\\lightgbm\\basic.py:1780: UserWarning:\n",
      "\n",
      "Overriding the parameters from Reference Dataset.\n",
      "\n",
      "c:\\users\\demya\\appdata\\local\\programs\\python\\python39\\lib\\site-packages\\lightgbm\\basic.py:1513: UserWarning:\n",
      "\n",
      "categorical_column in param dict is overridden.\n",
      "\n",
      "c:\\users\\demya\\appdata\\local\\programs\\python\\python39\\lib\\site-packages\\lightgbm\\basic.py:1780: UserWarning:\n",
      "\n",
      "Overriding the parameters from Reference Dataset.\n",
      "\n",
      "c:\\users\\demya\\appdata\\local\\programs\\python\\python39\\lib\\site-packages\\lightgbm\\basic.py:1513: UserWarning:\n",
      "\n",
      "categorical_column in param dict is overridden.\n",
      "\n",
      "c:\\users\\demya\\appdata\\local\\programs\\python\\python39\\lib\\site-packages\\lightgbm\\basic.py:1780: UserWarning:\n",
      "\n",
      "Overriding the parameters from Reference Dataset.\n",
      "\n",
      "c:\\users\\demya\\appdata\\local\\programs\\python\\python39\\lib\\site-packages\\lightgbm\\basic.py:1513: UserWarning:\n",
      "\n",
      "categorical_column in param dict is overridden.\n",
      "\n",
      "c:\\users\\demya\\appdata\\local\\programs\\python\\python39\\lib\\site-packages\\lightgbm\\basic.py:1780: UserWarning:\n",
      "\n",
      "Overriding the parameters from Reference Dataset.\n",
      "\n",
      "c:\\users\\demya\\appdata\\local\\programs\\python\\python39\\lib\\site-packages\\lightgbm\\basic.py:1513: UserWarning:\n",
      "\n",
      "categorical_column in param dict is overridden.\n",
      "\n",
      "c:\\users\\demya\\appdata\\local\\programs\\python\\python39\\lib\\site-packages\\lightgbm\\basic.py:1780: UserWarning:\n",
      "\n",
      "Overriding the parameters from Reference Dataset.\n",
      "\n",
      "c:\\users\\demya\\appdata\\local\\programs\\python\\python39\\lib\\site-packages\\lightgbm\\basic.py:1513: UserWarning:\n",
      "\n",
      "categorical_column in param dict is overridden.\n",
      "\n",
      "c:\\users\\demya\\appdata\\local\\programs\\python\\python39\\lib\\site-packages\\lightgbm\\basic.py:1780: UserWarning:\n",
      "\n",
      "Overriding the parameters from Reference Dataset.\n",
      "\n",
      "c:\\users\\demya\\appdata\\local\\programs\\python\\python39\\lib\\site-packages\\lightgbm\\basic.py:1513: UserWarning:\n",
      "\n",
      "categorical_column in param dict is overridden.\n",
      "\n",
      "c:\\users\\demya\\appdata\\local\\programs\\python\\python39\\lib\\site-packages\\lightgbm\\basic.py:1780: UserWarning:\n",
      "\n",
      "Overriding the parameters from Reference Dataset.\n",
      "\n",
      "c:\\users\\demya\\appdata\\local\\programs\\python\\python39\\lib\\site-packages\\lightgbm\\basic.py:1513: UserWarning:\n",
      "\n",
      "categorical_column in param dict is overridden.\n",
      "\n",
      "c:\\users\\demya\\appdata\\local\\programs\\python\\python39\\lib\\site-packages\\lightgbm\\basic.py:1780: UserWarning:\n",
      "\n",
      "Overriding the parameters from Reference Dataset.\n",
      "\n",
      "c:\\users\\demya\\appdata\\local\\programs\\python\\python39\\lib\\site-packages\\lightgbm\\basic.py:1513: UserWarning:\n",
      "\n",
      "categorical_column in param dict is overridden.\n",
      "\n",
      "c:\\users\\demya\\appdata\\local\\programs\\python\\python39\\lib\\site-packages\\lightgbm\\basic.py:1780: UserWarning:\n",
      "\n",
      "Overriding the parameters from Reference Dataset.\n",
      "\n",
      "c:\\users\\demya\\appdata\\local\\programs\\python\\python39\\lib\\site-packages\\lightgbm\\basic.py:1513: UserWarning:\n",
      "\n",
      "categorical_column in param dict is overridden.\n",
      "\n",
      "c:\\users\\demya\\appdata\\local\\programs\\python\\python39\\lib\\site-packages\\lightgbm\\basic.py:1780: UserWarning:\n",
      "\n",
      "Overriding the parameters from Reference Dataset.\n",
      "\n",
      "c:\\users\\demya\\appdata\\local\\programs\\python\\python39\\lib\\site-packages\\lightgbm\\basic.py:1513: UserWarning:\n",
      "\n",
      "categorical_column in param dict is overridden.\n",
      "\n",
      "c:\\users\\demya\\appdata\\local\\programs\\python\\python39\\lib\\site-packages\\lightgbm\\basic.py:1780: UserWarning:\n",
      "\n",
      "Overriding the parameters from Reference Dataset.\n",
      "\n",
      "c:\\users\\demya\\appdata\\local\\programs\\python\\python39\\lib\\site-packages\\lightgbm\\basic.py:1513: UserWarning:\n",
      "\n",
      "categorical_column in param dict is overridden.\n",
      "\n",
      "c:\\users\\demya\\appdata\\local\\programs\\python\\python39\\lib\\site-packages\\lightgbm\\basic.py:1780: UserWarning:\n",
      "\n",
      "Overriding the parameters from Reference Dataset.\n",
      "\n",
      "c:\\users\\demya\\appdata\\local\\programs\\python\\python39\\lib\\site-packages\\lightgbm\\basic.py:1513: UserWarning:\n",
      "\n",
      "categorical_column in param dict is overridden.\n",
      "\n",
      "c:\\users\\demya\\appdata\\local\\programs\\python\\python39\\lib\\site-packages\\lightgbm\\basic.py:1780: UserWarning:\n",
      "\n",
      "Overriding the parameters from Reference Dataset.\n",
      "\n",
      "c:\\users\\demya\\appdata\\local\\programs\\python\\python39\\lib\\site-packages\\lightgbm\\basic.py:1513: UserWarning:\n",
      "\n",
      "categorical_column in param dict is overridden.\n",
      "\n",
      "c:\\users\\demya\\appdata\\local\\programs\\python\\python39\\lib\\site-packages\\lightgbm\\basic.py:1780: UserWarning:\n",
      "\n",
      "Overriding the parameters from Reference Dataset.\n",
      "\n",
      "c:\\users\\demya\\appdata\\local\\programs\\python\\python39\\lib\\site-packages\\lightgbm\\basic.py:1513: UserWarning:\n",
      "\n",
      "categorical_column in param dict is overridden.\n",
      "\n",
      "c:\\users\\demya\\appdata\\local\\programs\\python\\python39\\lib\\site-packages\\lightgbm\\basic.py:1780: UserWarning:\n",
      "\n",
      "Overriding the parameters from Reference Dataset.\n",
      "\n",
      "c:\\users\\demya\\appdata\\local\\programs\\python\\python39\\lib\\site-packages\\lightgbm\\basic.py:1513: UserWarning:\n",
      "\n",
      "categorical_column in param dict is overridden.\n",
      "\n",
      "c:\\users\\demya\\appdata\\local\\programs\\python\\python39\\lib\\site-packages\\lightgbm\\basic.py:1780: UserWarning:\n",
      "\n",
      "Overriding the parameters from Reference Dataset.\n",
      "\n",
      "c:\\users\\demya\\appdata\\local\\programs\\python\\python39\\lib\\site-packages\\lightgbm\\basic.py:1513: UserWarning:\n",
      "\n",
      "categorical_column in param dict is overridden.\n",
      "\n"
     ]
    }
   ],
   "source": [
    "study = optuna.create_study(direction=\"minimize\", study_name=\"LGB\")\n",
    "func = lambda trial: objective(trial, X_train, y_train, training['n_folds'],\n",
    "                               training['random_state'])\n",
    "# n_trials - кол-во итераций\n",
    "optuna.logging.set_verbosity(optuna.logging.WARNING)\n",
    "study.optimize(func, n_trials=training['n_trials'], show_progress_bar=True)"
   ]
  },
  {
   "cell_type": "code",
   "execution_count": 222,
   "id": "ba3806cc-0c49-4d7f-9314-ab89487f5523",
   "metadata": {},
   "outputs": [
    {
     "name": "stdout",
     "output_type": "stream",
     "text": [
      "\tBest value (mae): 0.30562\n",
      "\tBest params:\n",
      "\t\tn_estimators: 2000\n",
      "\t\trandom_state: 10\n",
      "\t\tlearning_rate: 0.10443093986666539\n",
      "\t\tnum_leaves: 280\n",
      "\t\tmax_depth: 13\n",
      "\t\tlambda_l1: 4\n",
      "\t\tlambda_l2: 38\n",
      "\t\tmin_gain_to_split: 0\n",
      "\t\tbagging_fraction: 0.5518211628164218\n",
      "\t\tbagging_freq: 1\n",
      "\t\tcolsample_bytree: 0.7740230276645429\n"
     ]
    }
   ],
   "source": [
    "print(f\"\\tBest value (mae): {study.best_value:.5f}\")\n",
    "print(f\"\\tBest params:\")\n",
    "\n",
    "for key, value in study.best_params.items():\n",
    "    print(f\"\\t\\t{key}: {value}\")"
   ]
  },
  {
   "cell_type": "code",
   "execution_count": 223,
   "id": "270475f0-a4bd-480a-b46a-7d58012d1ec8",
   "metadata": {},
   "outputs": [
    {
     "name": "stdout",
     "output_type": "stream",
     "text": [
      "[LightGBM] [Warning] min_gain_to_split is set=0, min_split_gain=0.0 will be ignored. Current value: min_gain_to_split=0\n",
      "[LightGBM] [Warning] bagging_fraction is set=0.5518211628164218, subsample=1.0 will be ignored. Current value: bagging_fraction=0.5518211628164218\n",
      "[LightGBM] [Warning] lambda_l1 is set=4, reg_alpha=0.0 will be ignored. Current value: lambda_l1=4\n",
      "[LightGBM] [Warning] lambda_l2 is set=38, reg_lambda=0.0 will be ignored. Current value: lambda_l2=38\n",
      "[LightGBM] [Warning] bagging_freq is set=1, subsample_freq=0 will be ignored. Current value: bagging_freq=1\n"
     ]
    },
    {
     "data": {
      "text/plain": [
       "{'R2': 0.981, 'MAE': 0.225, 'MSE': 0.112}"
      ]
     },
     "execution_count": 223,
     "metadata": {},
     "output_type": "execute_result"
    }
   ],
   "source": [
    "reg_tune = LGBMRegressor(**study.best_params)\n",
    "reg_tune.fit(X_train, y_train)\n",
    "get_metrics(y_train, reg_tune.predict(X_train))"
   ]
  },
  {
   "cell_type": "code",
   "execution_count": 224,
   "id": "a79dd7f9-3929-4b42-91a6-b4769ed9957c",
   "metadata": {},
   "outputs": [
    {
     "data": {
      "application/vnd.plotly.v1+json": {
       "config": {
        "plotlyServerURL": "https://plot.ly"
       },
       "data": [
        {
         "cliponaxis": false,
         "hovertemplate": [
          "bagging_freq (CategoricalDistribution): 0.0<extra></extra>",
          "n_estimators (CategoricalDistribution): 0.0<extra></extra>",
          "random_state (CategoricalDistribution): 0.0<extra></extra>",
          "lambda_l2 (IntDistribution): 0.006131855865116416<extra></extra>",
          "lambda_l1 (IntDistribution): 0.016095068529916483<extra></extra>",
          "learning_rate (FloatDistribution): 0.08144398379986663<extra></extra>",
          "colsample_bytree (FloatDistribution): 0.08633704500196739<extra></extra>",
          "bagging_fraction (FloatDistribution): 0.08884894130908275<extra></extra>",
          "num_leaves (IntDistribution): 0.0901107067217373<extra></extra>",
          "min_gain_to_split (IntDistribution): 0.2569036635592579<extra></extra>",
          "max_depth (IntDistribution): 0.37412873521305523<extra></extra>"
         ],
         "marker": {
          "color": "rgb(66,146,198)"
         },
         "orientation": "h",
         "text": [
          "<0.01",
          "<0.01",
          "<0.01",
          "<0.01",
          "0.02",
          "0.08",
          "0.09",
          "0.09",
          "0.09",
          "0.26",
          "0.37"
         ],
         "textposition": "outside",
         "type": "bar",
         "x": [
          0,
          0,
          0,
          0.006131855865116416,
          0.016095068529916483,
          0.08144398379986663,
          0.08633704500196739,
          0.08884894130908275,
          0.0901107067217373,
          0.2569036635592579,
          0.37412873521305523
         ],
         "y": [
          "bagging_freq",
          "n_estimators",
          "random_state",
          "lambda_l2",
          "lambda_l1",
          "learning_rate",
          "colsample_bytree",
          "bagging_fraction",
          "num_leaves",
          "min_gain_to_split",
          "max_depth"
         ]
        }
       ],
       "layout": {
        "autosize": true,
        "showlegend": false,
        "template": {
         "data": {
          "bar": [
           {
            "error_x": {
             "color": "#2a3f5f"
            },
            "error_y": {
             "color": "#2a3f5f"
            },
            "marker": {
             "line": {
              "color": "#E5ECF6",
              "width": 0.5
             },
             "pattern": {
              "fillmode": "overlay",
              "size": 10,
              "solidity": 0.2
             }
            },
            "type": "bar"
           }
          ],
          "barpolar": [
           {
            "marker": {
             "line": {
              "color": "#E5ECF6",
              "width": 0.5
             },
             "pattern": {
              "fillmode": "overlay",
              "size": 10,
              "solidity": 0.2
             }
            },
            "type": "barpolar"
           }
          ],
          "carpet": [
           {
            "aaxis": {
             "endlinecolor": "#2a3f5f",
             "gridcolor": "white",
             "linecolor": "white",
             "minorgridcolor": "white",
             "startlinecolor": "#2a3f5f"
            },
            "baxis": {
             "endlinecolor": "#2a3f5f",
             "gridcolor": "white",
             "linecolor": "white",
             "minorgridcolor": "white",
             "startlinecolor": "#2a3f5f"
            },
            "type": "carpet"
           }
          ],
          "choropleth": [
           {
            "colorbar": {
             "outlinewidth": 0,
             "ticks": ""
            },
            "type": "choropleth"
           }
          ],
          "contour": [
           {
            "colorbar": {
             "outlinewidth": 0,
             "ticks": ""
            },
            "colorscale": [
             [
              0,
              "#0d0887"
             ],
             [
              0.1111111111111111,
              "#46039f"
             ],
             [
              0.2222222222222222,
              "#7201a8"
             ],
             [
              0.3333333333333333,
              "#9c179e"
             ],
             [
              0.4444444444444444,
              "#bd3786"
             ],
             [
              0.5555555555555556,
              "#d8576b"
             ],
             [
              0.6666666666666666,
              "#ed7953"
             ],
             [
              0.7777777777777778,
              "#fb9f3a"
             ],
             [
              0.8888888888888888,
              "#fdca26"
             ],
             [
              1,
              "#f0f921"
             ]
            ],
            "type": "contour"
           }
          ],
          "contourcarpet": [
           {
            "colorbar": {
             "outlinewidth": 0,
             "ticks": ""
            },
            "type": "contourcarpet"
           }
          ],
          "heatmap": [
           {
            "colorbar": {
             "outlinewidth": 0,
             "ticks": ""
            },
            "colorscale": [
             [
              0,
              "#0d0887"
             ],
             [
              0.1111111111111111,
              "#46039f"
             ],
             [
              0.2222222222222222,
              "#7201a8"
             ],
             [
              0.3333333333333333,
              "#9c179e"
             ],
             [
              0.4444444444444444,
              "#bd3786"
             ],
             [
              0.5555555555555556,
              "#d8576b"
             ],
             [
              0.6666666666666666,
              "#ed7953"
             ],
             [
              0.7777777777777778,
              "#fb9f3a"
             ],
             [
              0.8888888888888888,
              "#fdca26"
             ],
             [
              1,
              "#f0f921"
             ]
            ],
            "type": "heatmap"
           }
          ],
          "heatmapgl": [
           {
            "colorbar": {
             "outlinewidth": 0,
             "ticks": ""
            },
            "colorscale": [
             [
              0,
              "#0d0887"
             ],
             [
              0.1111111111111111,
              "#46039f"
             ],
             [
              0.2222222222222222,
              "#7201a8"
             ],
             [
              0.3333333333333333,
              "#9c179e"
             ],
             [
              0.4444444444444444,
              "#bd3786"
             ],
             [
              0.5555555555555556,
              "#d8576b"
             ],
             [
              0.6666666666666666,
              "#ed7953"
             ],
             [
              0.7777777777777778,
              "#fb9f3a"
             ],
             [
              0.8888888888888888,
              "#fdca26"
             ],
             [
              1,
              "#f0f921"
             ]
            ],
            "type": "heatmapgl"
           }
          ],
          "histogram": [
           {
            "marker": {
             "pattern": {
              "fillmode": "overlay",
              "size": 10,
              "solidity": 0.2
             }
            },
            "type": "histogram"
           }
          ],
          "histogram2d": [
           {
            "colorbar": {
             "outlinewidth": 0,
             "ticks": ""
            },
            "colorscale": [
             [
              0,
              "#0d0887"
             ],
             [
              0.1111111111111111,
              "#46039f"
             ],
             [
              0.2222222222222222,
              "#7201a8"
             ],
             [
              0.3333333333333333,
              "#9c179e"
             ],
             [
              0.4444444444444444,
              "#bd3786"
             ],
             [
              0.5555555555555556,
              "#d8576b"
             ],
             [
              0.6666666666666666,
              "#ed7953"
             ],
             [
              0.7777777777777778,
              "#fb9f3a"
             ],
             [
              0.8888888888888888,
              "#fdca26"
             ],
             [
              1,
              "#f0f921"
             ]
            ],
            "type": "histogram2d"
           }
          ],
          "histogram2dcontour": [
           {
            "colorbar": {
             "outlinewidth": 0,
             "ticks": ""
            },
            "colorscale": [
             [
              0,
              "#0d0887"
             ],
             [
              0.1111111111111111,
              "#46039f"
             ],
             [
              0.2222222222222222,
              "#7201a8"
             ],
             [
              0.3333333333333333,
              "#9c179e"
             ],
             [
              0.4444444444444444,
              "#bd3786"
             ],
             [
              0.5555555555555556,
              "#d8576b"
             ],
             [
              0.6666666666666666,
              "#ed7953"
             ],
             [
              0.7777777777777778,
              "#fb9f3a"
             ],
             [
              0.8888888888888888,
              "#fdca26"
             ],
             [
              1,
              "#f0f921"
             ]
            ],
            "type": "histogram2dcontour"
           }
          ],
          "mesh3d": [
           {
            "colorbar": {
             "outlinewidth": 0,
             "ticks": ""
            },
            "type": "mesh3d"
           }
          ],
          "parcoords": [
           {
            "line": {
             "colorbar": {
              "outlinewidth": 0,
              "ticks": ""
             }
            },
            "type": "parcoords"
           }
          ],
          "pie": [
           {
            "automargin": true,
            "type": "pie"
           }
          ],
          "scatter": [
           {
            "fillpattern": {
             "fillmode": "overlay",
             "size": 10,
             "solidity": 0.2
            },
            "type": "scatter"
           }
          ],
          "scatter3d": [
           {
            "line": {
             "colorbar": {
              "outlinewidth": 0,
              "ticks": ""
             }
            },
            "marker": {
             "colorbar": {
              "outlinewidth": 0,
              "ticks": ""
             }
            },
            "type": "scatter3d"
           }
          ],
          "scattercarpet": [
           {
            "marker": {
             "colorbar": {
              "outlinewidth": 0,
              "ticks": ""
             }
            },
            "type": "scattercarpet"
           }
          ],
          "scattergeo": [
           {
            "marker": {
             "colorbar": {
              "outlinewidth": 0,
              "ticks": ""
             }
            },
            "type": "scattergeo"
           }
          ],
          "scattergl": [
           {
            "marker": {
             "colorbar": {
              "outlinewidth": 0,
              "ticks": ""
             }
            },
            "type": "scattergl"
           }
          ],
          "scattermapbox": [
           {
            "marker": {
             "colorbar": {
              "outlinewidth": 0,
              "ticks": ""
             }
            },
            "type": "scattermapbox"
           }
          ],
          "scatterpolar": [
           {
            "marker": {
             "colorbar": {
              "outlinewidth": 0,
              "ticks": ""
             }
            },
            "type": "scatterpolar"
           }
          ],
          "scatterpolargl": [
           {
            "marker": {
             "colorbar": {
              "outlinewidth": 0,
              "ticks": ""
             }
            },
            "type": "scatterpolargl"
           }
          ],
          "scatterternary": [
           {
            "marker": {
             "colorbar": {
              "outlinewidth": 0,
              "ticks": ""
             }
            },
            "type": "scatterternary"
           }
          ],
          "surface": [
           {
            "colorbar": {
             "outlinewidth": 0,
             "ticks": ""
            },
            "colorscale": [
             [
              0,
              "#0d0887"
             ],
             [
              0.1111111111111111,
              "#46039f"
             ],
             [
              0.2222222222222222,
              "#7201a8"
             ],
             [
              0.3333333333333333,
              "#9c179e"
             ],
             [
              0.4444444444444444,
              "#bd3786"
             ],
             [
              0.5555555555555556,
              "#d8576b"
             ],
             [
              0.6666666666666666,
              "#ed7953"
             ],
             [
              0.7777777777777778,
              "#fb9f3a"
             ],
             [
              0.8888888888888888,
              "#fdca26"
             ],
             [
              1,
              "#f0f921"
             ]
            ],
            "type": "surface"
           }
          ],
          "table": [
           {
            "cells": {
             "fill": {
              "color": "#EBF0F8"
             },
             "line": {
              "color": "white"
             }
            },
            "header": {
             "fill": {
              "color": "#C8D4E3"
             },
             "line": {
              "color": "white"
             }
            },
            "type": "table"
           }
          ]
         },
         "layout": {
          "annotationdefaults": {
           "arrowcolor": "#2a3f5f",
           "arrowhead": 0,
           "arrowwidth": 1
          },
          "autotypenumbers": "strict",
          "coloraxis": {
           "colorbar": {
            "outlinewidth": 0,
            "ticks": ""
           }
          },
          "colorscale": {
           "diverging": [
            [
             0,
             "#8e0152"
            ],
            [
             0.1,
             "#c51b7d"
            ],
            [
             0.2,
             "#de77ae"
            ],
            [
             0.3,
             "#f1b6da"
            ],
            [
             0.4,
             "#fde0ef"
            ],
            [
             0.5,
             "#f7f7f7"
            ],
            [
             0.6,
             "#e6f5d0"
            ],
            [
             0.7,
             "#b8e186"
            ],
            [
             0.8,
             "#7fbc41"
            ],
            [
             0.9,
             "#4d9221"
            ],
            [
             1,
             "#276419"
            ]
           ],
           "sequential": [
            [
             0,
             "#0d0887"
            ],
            [
             0.1111111111111111,
             "#46039f"
            ],
            [
             0.2222222222222222,
             "#7201a8"
            ],
            [
             0.3333333333333333,
             "#9c179e"
            ],
            [
             0.4444444444444444,
             "#bd3786"
            ],
            [
             0.5555555555555556,
             "#d8576b"
            ],
            [
             0.6666666666666666,
             "#ed7953"
            ],
            [
             0.7777777777777778,
             "#fb9f3a"
            ],
            [
             0.8888888888888888,
             "#fdca26"
            ],
            [
             1,
             "#f0f921"
            ]
           ],
           "sequentialminus": [
            [
             0,
             "#0d0887"
            ],
            [
             0.1111111111111111,
             "#46039f"
            ],
            [
             0.2222222222222222,
             "#7201a8"
            ],
            [
             0.3333333333333333,
             "#9c179e"
            ],
            [
             0.4444444444444444,
             "#bd3786"
            ],
            [
             0.5555555555555556,
             "#d8576b"
            ],
            [
             0.6666666666666666,
             "#ed7953"
            ],
            [
             0.7777777777777778,
             "#fb9f3a"
            ],
            [
             0.8888888888888888,
             "#fdca26"
            ],
            [
             1,
             "#f0f921"
            ]
           ]
          },
          "colorway": [
           "#636efa",
           "#EF553B",
           "#00cc96",
           "#ab63fa",
           "#FFA15A",
           "#19d3f3",
           "#FF6692",
           "#B6E880",
           "#FF97FF",
           "#FECB52"
          ],
          "font": {
           "color": "#2a3f5f"
          },
          "geo": {
           "bgcolor": "white",
           "lakecolor": "white",
           "landcolor": "#E5ECF6",
           "showlakes": true,
           "showland": true,
           "subunitcolor": "white"
          },
          "hoverlabel": {
           "align": "left"
          },
          "hovermode": "closest",
          "mapbox": {
           "style": "light"
          },
          "paper_bgcolor": "white",
          "plot_bgcolor": "#E5ECF6",
          "polar": {
           "angularaxis": {
            "gridcolor": "white",
            "linecolor": "white",
            "ticks": ""
           },
           "bgcolor": "#E5ECF6",
           "radialaxis": {
            "gridcolor": "white",
            "linecolor": "white",
            "ticks": ""
           }
          },
          "scene": {
           "xaxis": {
            "backgroundcolor": "#E5ECF6",
            "gridcolor": "white",
            "gridwidth": 2,
            "linecolor": "white",
            "showbackground": true,
            "ticks": "",
            "zerolinecolor": "white"
           },
           "yaxis": {
            "backgroundcolor": "#E5ECF6",
            "gridcolor": "white",
            "gridwidth": 2,
            "linecolor": "white",
            "showbackground": true,
            "ticks": "",
            "zerolinecolor": "white"
           },
           "zaxis": {
            "backgroundcolor": "#E5ECF6",
            "gridcolor": "white",
            "gridwidth": 2,
            "linecolor": "white",
            "showbackground": true,
            "ticks": "",
            "zerolinecolor": "white"
           }
          },
          "shapedefaults": {
           "line": {
            "color": "#2a3f5f"
           }
          },
          "ternary": {
           "aaxis": {
            "gridcolor": "white",
            "linecolor": "white",
            "ticks": ""
           },
           "baxis": {
            "gridcolor": "white",
            "linecolor": "white",
            "ticks": ""
           },
           "bgcolor": "#E5ECF6",
           "caxis": {
            "gridcolor": "white",
            "linecolor": "white",
            "ticks": ""
           }
          },
          "title": {
           "x": 0.05
          },
          "xaxis": {
           "automargin": true,
           "gridcolor": "white",
           "linecolor": "white",
           "ticks": "",
           "title": {
            "standoff": 15
           },
           "zerolinecolor": "white",
           "zerolinewidth": 2
          },
          "yaxis": {
           "automargin": true,
           "gridcolor": "white",
           "linecolor": "white",
           "ticks": "",
           "title": {
            "standoff": 15
           },
           "zerolinecolor": "white",
           "zerolinewidth": 2
          }
         }
        },
        "title": {
         "text": "Hyperparameter Importances"
        },
        "xaxis": {
         "autorange": true,
         "range": [
          0,
          0.39381972127690024
         ],
         "title": {
          "text": "Importance for Objective Value"
         },
         "type": "linear"
        },
        "yaxis": {
         "autorange": true,
         "range": [
          -0.5,
          10.5
         ],
         "title": {
          "text": "Hyperparameter"
         },
         "type": "category"
        }
       }
      },
      "text/html": [
       "<div>                            <div id=\"d3de1647-b536-47a4-86f3-699fe20ea1fc\" class=\"plotly-graph-div\" style=\"height:525px; width:100%;\"></div>            <script type=\"text/javascript\">                require([\"plotly\"], function(Plotly) {                    window.PLOTLYENV=window.PLOTLYENV || {};                                    if (document.getElementById(\"d3de1647-b536-47a4-86f3-699fe20ea1fc\")) {                    Plotly.newPlot(                        \"d3de1647-b536-47a4-86f3-699fe20ea1fc\",                        [{\"cliponaxis\":false,\"hovertemplate\":[\"bagging_freq (CategoricalDistribution): 0.0\\u003cextra\\u003e\\u003c\\u002fextra\\u003e\",\"n_estimators (CategoricalDistribution): 0.0\\u003cextra\\u003e\\u003c\\u002fextra\\u003e\",\"random_state (CategoricalDistribution): 0.0\\u003cextra\\u003e\\u003c\\u002fextra\\u003e\",\"lambda_l2 (IntDistribution): 0.006131855865116416\\u003cextra\\u003e\\u003c\\u002fextra\\u003e\",\"lambda_l1 (IntDistribution): 0.016095068529916483\\u003cextra\\u003e\\u003c\\u002fextra\\u003e\",\"learning_rate (FloatDistribution): 0.08144398379986663\\u003cextra\\u003e\\u003c\\u002fextra\\u003e\",\"colsample_bytree (FloatDistribution): 0.08633704500196739\\u003cextra\\u003e\\u003c\\u002fextra\\u003e\",\"bagging_fraction (FloatDistribution): 0.08884894130908275\\u003cextra\\u003e\\u003c\\u002fextra\\u003e\",\"num_leaves (IntDistribution): 0.0901107067217373\\u003cextra\\u003e\\u003c\\u002fextra\\u003e\",\"min_gain_to_split (IntDistribution): 0.2569036635592579\\u003cextra\\u003e\\u003c\\u002fextra\\u003e\",\"max_depth (IntDistribution): 0.37412873521305523\\u003cextra\\u003e\\u003c\\u002fextra\\u003e\"],\"marker\":{\"color\":\"rgb(66,146,198)\"},\"orientation\":\"h\",\"text\":[\"\\u003c0.01\",\"\\u003c0.01\",\"\\u003c0.01\",\"\\u003c0.01\",\"0.02\",\"0.08\",\"0.09\",\"0.09\",\"0.09\",\"0.26\",\"0.37\"],\"textposition\":\"outside\",\"x\":[0.0,0.0,0.0,0.006131855865116416,0.016095068529916483,0.08144398379986663,0.08633704500196739,0.08884894130908275,0.0901107067217373,0.2569036635592579,0.37412873521305523],\"y\":[\"bagging_freq\",\"n_estimators\",\"random_state\",\"lambda_l2\",\"lambda_l1\",\"learning_rate\",\"colsample_bytree\",\"bagging_fraction\",\"num_leaves\",\"min_gain_to_split\",\"max_depth\"],\"type\":\"bar\"}],                        {\"showlegend\":false,\"title\":{\"text\":\"Hyperparameter Importances\"},\"xaxis\":{\"title\":{\"text\":\"Importance for Objective Value\"}},\"yaxis\":{\"title\":{\"text\":\"Hyperparameter\"}},\"template\":{\"data\":{\"histogram2dcontour\":[{\"type\":\"histogram2dcontour\",\"colorbar\":{\"outlinewidth\":0,\"ticks\":\"\"},\"colorscale\":[[0.0,\"#0d0887\"],[0.1111111111111111,\"#46039f\"],[0.2222222222222222,\"#7201a8\"],[0.3333333333333333,\"#9c179e\"],[0.4444444444444444,\"#bd3786\"],[0.5555555555555556,\"#d8576b\"],[0.6666666666666666,\"#ed7953\"],[0.7777777777777778,\"#fb9f3a\"],[0.8888888888888888,\"#fdca26\"],[1.0,\"#f0f921\"]]}],\"choropleth\":[{\"type\":\"choropleth\",\"colorbar\":{\"outlinewidth\":0,\"ticks\":\"\"}}],\"histogram2d\":[{\"type\":\"histogram2d\",\"colorbar\":{\"outlinewidth\":0,\"ticks\":\"\"},\"colorscale\":[[0.0,\"#0d0887\"],[0.1111111111111111,\"#46039f\"],[0.2222222222222222,\"#7201a8\"],[0.3333333333333333,\"#9c179e\"],[0.4444444444444444,\"#bd3786\"],[0.5555555555555556,\"#d8576b\"],[0.6666666666666666,\"#ed7953\"],[0.7777777777777778,\"#fb9f3a\"],[0.8888888888888888,\"#fdca26\"],[1.0,\"#f0f921\"]]}],\"heatmap\":[{\"type\":\"heatmap\",\"colorbar\":{\"outlinewidth\":0,\"ticks\":\"\"},\"colorscale\":[[0.0,\"#0d0887\"],[0.1111111111111111,\"#46039f\"],[0.2222222222222222,\"#7201a8\"],[0.3333333333333333,\"#9c179e\"],[0.4444444444444444,\"#bd3786\"],[0.5555555555555556,\"#d8576b\"],[0.6666666666666666,\"#ed7953\"],[0.7777777777777778,\"#fb9f3a\"],[0.8888888888888888,\"#fdca26\"],[1.0,\"#f0f921\"]]}],\"heatmapgl\":[{\"type\":\"heatmapgl\",\"colorbar\":{\"outlinewidth\":0,\"ticks\":\"\"},\"colorscale\":[[0.0,\"#0d0887\"],[0.1111111111111111,\"#46039f\"],[0.2222222222222222,\"#7201a8\"],[0.3333333333333333,\"#9c179e\"],[0.4444444444444444,\"#bd3786\"],[0.5555555555555556,\"#d8576b\"],[0.6666666666666666,\"#ed7953\"],[0.7777777777777778,\"#fb9f3a\"],[0.8888888888888888,\"#fdca26\"],[1.0,\"#f0f921\"]]}],\"contourcarpet\":[{\"type\":\"contourcarpet\",\"colorbar\":{\"outlinewidth\":0,\"ticks\":\"\"}}],\"contour\":[{\"type\":\"contour\",\"colorbar\":{\"outlinewidth\":0,\"ticks\":\"\"},\"colorscale\":[[0.0,\"#0d0887\"],[0.1111111111111111,\"#46039f\"],[0.2222222222222222,\"#7201a8\"],[0.3333333333333333,\"#9c179e\"],[0.4444444444444444,\"#bd3786\"],[0.5555555555555556,\"#d8576b\"],[0.6666666666666666,\"#ed7953\"],[0.7777777777777778,\"#fb9f3a\"],[0.8888888888888888,\"#fdca26\"],[1.0,\"#f0f921\"]]}],\"surface\":[{\"type\":\"surface\",\"colorbar\":{\"outlinewidth\":0,\"ticks\":\"\"},\"colorscale\":[[0.0,\"#0d0887\"],[0.1111111111111111,\"#46039f\"],[0.2222222222222222,\"#7201a8\"],[0.3333333333333333,\"#9c179e\"],[0.4444444444444444,\"#bd3786\"],[0.5555555555555556,\"#d8576b\"],[0.6666666666666666,\"#ed7953\"],[0.7777777777777778,\"#fb9f3a\"],[0.8888888888888888,\"#fdca26\"],[1.0,\"#f0f921\"]]}],\"mesh3d\":[{\"type\":\"mesh3d\",\"colorbar\":{\"outlinewidth\":0,\"ticks\":\"\"}}],\"scatter\":[{\"fillpattern\":{\"fillmode\":\"overlay\",\"size\":10,\"solidity\":0.2},\"type\":\"scatter\"}],\"parcoords\":[{\"type\":\"parcoords\",\"line\":{\"colorbar\":{\"outlinewidth\":0,\"ticks\":\"\"}}}],\"scatterpolargl\":[{\"type\":\"scatterpolargl\",\"marker\":{\"colorbar\":{\"outlinewidth\":0,\"ticks\":\"\"}}}],\"bar\":[{\"error_x\":{\"color\":\"#2a3f5f\"},\"error_y\":{\"color\":\"#2a3f5f\"},\"marker\":{\"line\":{\"color\":\"#E5ECF6\",\"width\":0.5},\"pattern\":{\"fillmode\":\"overlay\",\"size\":10,\"solidity\":0.2}},\"type\":\"bar\"}],\"scattergeo\":[{\"type\":\"scattergeo\",\"marker\":{\"colorbar\":{\"outlinewidth\":0,\"ticks\":\"\"}}}],\"scatterpolar\":[{\"type\":\"scatterpolar\",\"marker\":{\"colorbar\":{\"outlinewidth\":0,\"ticks\":\"\"}}}],\"histogram\":[{\"marker\":{\"pattern\":{\"fillmode\":\"overlay\",\"size\":10,\"solidity\":0.2}},\"type\":\"histogram\"}],\"scattergl\":[{\"type\":\"scattergl\",\"marker\":{\"colorbar\":{\"outlinewidth\":0,\"ticks\":\"\"}}}],\"scatter3d\":[{\"type\":\"scatter3d\",\"line\":{\"colorbar\":{\"outlinewidth\":0,\"ticks\":\"\"}},\"marker\":{\"colorbar\":{\"outlinewidth\":0,\"ticks\":\"\"}}}],\"scattermapbox\":[{\"type\":\"scattermapbox\",\"marker\":{\"colorbar\":{\"outlinewidth\":0,\"ticks\":\"\"}}}],\"scatterternary\":[{\"type\":\"scatterternary\",\"marker\":{\"colorbar\":{\"outlinewidth\":0,\"ticks\":\"\"}}}],\"scattercarpet\":[{\"type\":\"scattercarpet\",\"marker\":{\"colorbar\":{\"outlinewidth\":0,\"ticks\":\"\"}}}],\"carpet\":[{\"aaxis\":{\"endlinecolor\":\"#2a3f5f\",\"gridcolor\":\"white\",\"linecolor\":\"white\",\"minorgridcolor\":\"white\",\"startlinecolor\":\"#2a3f5f\"},\"baxis\":{\"endlinecolor\":\"#2a3f5f\",\"gridcolor\":\"white\",\"linecolor\":\"white\",\"minorgridcolor\":\"white\",\"startlinecolor\":\"#2a3f5f\"},\"type\":\"carpet\"}],\"table\":[{\"cells\":{\"fill\":{\"color\":\"#EBF0F8\"},\"line\":{\"color\":\"white\"}},\"header\":{\"fill\":{\"color\":\"#C8D4E3\"},\"line\":{\"color\":\"white\"}},\"type\":\"table\"}],\"barpolar\":[{\"marker\":{\"line\":{\"color\":\"#E5ECF6\",\"width\":0.5},\"pattern\":{\"fillmode\":\"overlay\",\"size\":10,\"solidity\":0.2}},\"type\":\"barpolar\"}],\"pie\":[{\"automargin\":true,\"type\":\"pie\"}]},\"layout\":{\"autotypenumbers\":\"strict\",\"colorway\":[\"#636efa\",\"#EF553B\",\"#00cc96\",\"#ab63fa\",\"#FFA15A\",\"#19d3f3\",\"#FF6692\",\"#B6E880\",\"#FF97FF\",\"#FECB52\"],\"font\":{\"color\":\"#2a3f5f\"},\"hovermode\":\"closest\",\"hoverlabel\":{\"align\":\"left\"},\"paper_bgcolor\":\"white\",\"plot_bgcolor\":\"#E5ECF6\",\"polar\":{\"bgcolor\":\"#E5ECF6\",\"angularaxis\":{\"gridcolor\":\"white\",\"linecolor\":\"white\",\"ticks\":\"\"},\"radialaxis\":{\"gridcolor\":\"white\",\"linecolor\":\"white\",\"ticks\":\"\"}},\"ternary\":{\"bgcolor\":\"#E5ECF6\",\"aaxis\":{\"gridcolor\":\"white\",\"linecolor\":\"white\",\"ticks\":\"\"},\"baxis\":{\"gridcolor\":\"white\",\"linecolor\":\"white\",\"ticks\":\"\"},\"caxis\":{\"gridcolor\":\"white\",\"linecolor\":\"white\",\"ticks\":\"\"}},\"coloraxis\":{\"colorbar\":{\"outlinewidth\":0,\"ticks\":\"\"}},\"colorscale\":{\"sequential\":[[0.0,\"#0d0887\"],[0.1111111111111111,\"#46039f\"],[0.2222222222222222,\"#7201a8\"],[0.3333333333333333,\"#9c179e\"],[0.4444444444444444,\"#bd3786\"],[0.5555555555555556,\"#d8576b\"],[0.6666666666666666,\"#ed7953\"],[0.7777777777777778,\"#fb9f3a\"],[0.8888888888888888,\"#fdca26\"],[1.0,\"#f0f921\"]],\"sequentialminus\":[[0.0,\"#0d0887\"],[0.1111111111111111,\"#46039f\"],[0.2222222222222222,\"#7201a8\"],[0.3333333333333333,\"#9c179e\"],[0.4444444444444444,\"#bd3786\"],[0.5555555555555556,\"#d8576b\"],[0.6666666666666666,\"#ed7953\"],[0.7777777777777778,\"#fb9f3a\"],[0.8888888888888888,\"#fdca26\"],[1.0,\"#f0f921\"]],\"diverging\":[[0,\"#8e0152\"],[0.1,\"#c51b7d\"],[0.2,\"#de77ae\"],[0.3,\"#f1b6da\"],[0.4,\"#fde0ef\"],[0.5,\"#f7f7f7\"],[0.6,\"#e6f5d0\"],[0.7,\"#b8e186\"],[0.8,\"#7fbc41\"],[0.9,\"#4d9221\"],[1,\"#276419\"]]},\"xaxis\":{\"gridcolor\":\"white\",\"linecolor\":\"white\",\"ticks\":\"\",\"title\":{\"standoff\":15},\"zerolinecolor\":\"white\",\"automargin\":true,\"zerolinewidth\":2},\"yaxis\":{\"gridcolor\":\"white\",\"linecolor\":\"white\",\"ticks\":\"\",\"title\":{\"standoff\":15},\"zerolinecolor\":\"white\",\"automargin\":true,\"zerolinewidth\":2},\"scene\":{\"xaxis\":{\"backgroundcolor\":\"#E5ECF6\",\"gridcolor\":\"white\",\"linecolor\":\"white\",\"showbackground\":true,\"ticks\":\"\",\"zerolinecolor\":\"white\",\"gridwidth\":2},\"yaxis\":{\"backgroundcolor\":\"#E5ECF6\",\"gridcolor\":\"white\",\"linecolor\":\"white\",\"showbackground\":true,\"ticks\":\"\",\"zerolinecolor\":\"white\",\"gridwidth\":2},\"zaxis\":{\"backgroundcolor\":\"#E5ECF6\",\"gridcolor\":\"white\",\"linecolor\":\"white\",\"showbackground\":true,\"ticks\":\"\",\"zerolinecolor\":\"white\",\"gridwidth\":2}},\"shapedefaults\":{\"line\":{\"color\":\"#2a3f5f\"}},\"annotationdefaults\":{\"arrowcolor\":\"#2a3f5f\",\"arrowhead\":0,\"arrowwidth\":1},\"geo\":{\"bgcolor\":\"white\",\"landcolor\":\"#E5ECF6\",\"subunitcolor\":\"white\",\"showland\":true,\"showlakes\":true,\"lakecolor\":\"white\"},\"title\":{\"x\":0.05},\"mapbox\":{\"style\":\"light\"}}}},                        {\"responsive\": true}                    ).then(function(){\n",
       "                            \n",
       "var gd = document.getElementById('d3de1647-b536-47a4-86f3-699fe20ea1fc');\n",
       "var x = new MutationObserver(function (mutations, observer) {{\n",
       "        var display = window.getComputedStyle(gd).display;\n",
       "        if (!display || display === 'none') {{\n",
       "            console.log([gd, 'removed!']);\n",
       "            Plotly.purge(gd);\n",
       "            observer.disconnect();\n",
       "        }}\n",
       "}});\n",
       "\n",
       "// Listen for the removal of the full notebook cells\n",
       "var notebookContainer = gd.closest('#notebook-container');\n",
       "if (notebookContainer) {{\n",
       "    x.observe(notebookContainer, {childList: true});\n",
       "}}\n",
       "\n",
       "// Listen for the clearing of the current output cell\n",
       "var outputEl = gd.closest('.output');\n",
       "if (outputEl) {{\n",
       "    x.observe(outputEl, {childList: true});\n",
       "}}\n",
       "\n",
       "                        })                };                });            </script>        </div>"
      ]
     },
     "metadata": {},
     "output_type": "display_data"
    }
   ],
   "source": [
    "optuna.visualization.plot_param_importances(study)"
   ]
  },
  {
   "cell_type": "code",
   "execution_count": 183,
   "id": "f85dab01-42f6-4169-b810-e01a015822f4",
   "metadata": {
    "scrolled": true
   },
   "outputs": [
    {
     "data": {
      "application/vnd.plotly.v1+json": {
       "config": {
        "plotlyServerURL": "https://plot.ly",
        "staticPlot": true
       },
       "data": [
        {
         "mode": "markers",
         "name": "Objective Value",
         "type": "scatter",
         "x": [
          0,
          1,
          2,
          3,
          4,
          5,
          6,
          7,
          8,
          9
         ],
         "y": [
          0.4341190010753154,
          0.48364839071350046,
          0.5887159830782814,
          0.45348721437831685,
          0.45354416683340376,
          0.44706382653621174,
          0.44682638853182066,
          0.406397480683845,
          0.4081429776537121,
          0.45544574031815177
         ]
        },
        {
         "mode": "lines",
         "name": "Best Value",
         "type": "scatter",
         "x": [
          0,
          1,
          2,
          3,
          4,
          5,
          6,
          7,
          8,
          9
         ],
         "y": [
          0.4341190010753154,
          0.4341190010753154,
          0.4341190010753154,
          0.4341190010753154,
          0.4341190010753154,
          0.4341190010753154,
          0.4341190010753154,
          0.406397480683845,
          0.406397480683845,
          0.406397480683845
         ]
        },
        {
         "marker": {
          "color": "#cccccc"
         },
         "mode": "markers",
         "name": "Infeasible Trial",
         "showlegend": false,
         "type": "scatter",
         "x": [],
         "y": []
        }
       ],
       "layout": {
        "autosize": true,
        "template": {
         "data": {
          "bar": [
           {
            "error_x": {
             "color": "#2a3f5f"
            },
            "error_y": {
             "color": "#2a3f5f"
            },
            "marker": {
             "line": {
              "color": "#E5ECF6",
              "width": 0.5
             },
             "pattern": {
              "fillmode": "overlay",
              "size": 10,
              "solidity": 0.2
             }
            },
            "type": "bar"
           }
          ],
          "barpolar": [
           {
            "marker": {
             "line": {
              "color": "#E5ECF6",
              "width": 0.5
             },
             "pattern": {
              "fillmode": "overlay",
              "size": 10,
              "solidity": 0.2
             }
            },
            "type": "barpolar"
           }
          ],
          "carpet": [
           {
            "aaxis": {
             "endlinecolor": "#2a3f5f",
             "gridcolor": "white",
             "linecolor": "white",
             "minorgridcolor": "white",
             "startlinecolor": "#2a3f5f"
            },
            "baxis": {
             "endlinecolor": "#2a3f5f",
             "gridcolor": "white",
             "linecolor": "white",
             "minorgridcolor": "white",
             "startlinecolor": "#2a3f5f"
            },
            "type": "carpet"
           }
          ],
          "choropleth": [
           {
            "colorbar": {
             "outlinewidth": 0,
             "ticks": ""
            },
            "type": "choropleth"
           }
          ],
          "contour": [
           {
            "colorbar": {
             "outlinewidth": 0,
             "ticks": ""
            },
            "colorscale": [
             [
              0,
              "#0d0887"
             ],
             [
              0.1111111111111111,
              "#46039f"
             ],
             [
              0.2222222222222222,
              "#7201a8"
             ],
             [
              0.3333333333333333,
              "#9c179e"
             ],
             [
              0.4444444444444444,
              "#bd3786"
             ],
             [
              0.5555555555555556,
              "#d8576b"
             ],
             [
              0.6666666666666666,
              "#ed7953"
             ],
             [
              0.7777777777777778,
              "#fb9f3a"
             ],
             [
              0.8888888888888888,
              "#fdca26"
             ],
             [
              1,
              "#f0f921"
             ]
            ],
            "type": "contour"
           }
          ],
          "contourcarpet": [
           {
            "colorbar": {
             "outlinewidth": 0,
             "ticks": ""
            },
            "type": "contourcarpet"
           }
          ],
          "heatmap": [
           {
            "colorbar": {
             "outlinewidth": 0,
             "ticks": ""
            },
            "colorscale": [
             [
              0,
              "#0d0887"
             ],
             [
              0.1111111111111111,
              "#46039f"
             ],
             [
              0.2222222222222222,
              "#7201a8"
             ],
             [
              0.3333333333333333,
              "#9c179e"
             ],
             [
              0.4444444444444444,
              "#bd3786"
             ],
             [
              0.5555555555555556,
              "#d8576b"
             ],
             [
              0.6666666666666666,
              "#ed7953"
             ],
             [
              0.7777777777777778,
              "#fb9f3a"
             ],
             [
              0.8888888888888888,
              "#fdca26"
             ],
             [
              1,
              "#f0f921"
             ]
            ],
            "type": "heatmap"
           }
          ],
          "heatmapgl": [
           {
            "colorbar": {
             "outlinewidth": 0,
             "ticks": ""
            },
            "colorscale": [
             [
              0,
              "#0d0887"
             ],
             [
              0.1111111111111111,
              "#46039f"
             ],
             [
              0.2222222222222222,
              "#7201a8"
             ],
             [
              0.3333333333333333,
              "#9c179e"
             ],
             [
              0.4444444444444444,
              "#bd3786"
             ],
             [
              0.5555555555555556,
              "#d8576b"
             ],
             [
              0.6666666666666666,
              "#ed7953"
             ],
             [
              0.7777777777777778,
              "#fb9f3a"
             ],
             [
              0.8888888888888888,
              "#fdca26"
             ],
             [
              1,
              "#f0f921"
             ]
            ],
            "type": "heatmapgl"
           }
          ],
          "histogram": [
           {
            "marker": {
             "pattern": {
              "fillmode": "overlay",
              "size": 10,
              "solidity": 0.2
             }
            },
            "type": "histogram"
           }
          ],
          "histogram2d": [
           {
            "colorbar": {
             "outlinewidth": 0,
             "ticks": ""
            },
            "colorscale": [
             [
              0,
              "#0d0887"
             ],
             [
              0.1111111111111111,
              "#46039f"
             ],
             [
              0.2222222222222222,
              "#7201a8"
             ],
             [
              0.3333333333333333,
              "#9c179e"
             ],
             [
              0.4444444444444444,
              "#bd3786"
             ],
             [
              0.5555555555555556,
              "#d8576b"
             ],
             [
              0.6666666666666666,
              "#ed7953"
             ],
             [
              0.7777777777777778,
              "#fb9f3a"
             ],
             [
              0.8888888888888888,
              "#fdca26"
             ],
             [
              1,
              "#f0f921"
             ]
            ],
            "type": "histogram2d"
           }
          ],
          "histogram2dcontour": [
           {
            "colorbar": {
             "outlinewidth": 0,
             "ticks": ""
            },
            "colorscale": [
             [
              0,
              "#0d0887"
             ],
             [
              0.1111111111111111,
              "#46039f"
             ],
             [
              0.2222222222222222,
              "#7201a8"
             ],
             [
              0.3333333333333333,
              "#9c179e"
             ],
             [
              0.4444444444444444,
              "#bd3786"
             ],
             [
              0.5555555555555556,
              "#d8576b"
             ],
             [
              0.6666666666666666,
              "#ed7953"
             ],
             [
              0.7777777777777778,
              "#fb9f3a"
             ],
             [
              0.8888888888888888,
              "#fdca26"
             ],
             [
              1,
              "#f0f921"
             ]
            ],
            "type": "histogram2dcontour"
           }
          ],
          "mesh3d": [
           {
            "colorbar": {
             "outlinewidth": 0,
             "ticks": ""
            },
            "type": "mesh3d"
           }
          ],
          "parcoords": [
           {
            "line": {
             "colorbar": {
              "outlinewidth": 0,
              "ticks": ""
             }
            },
            "type": "parcoords"
           }
          ],
          "pie": [
           {
            "automargin": true,
            "type": "pie"
           }
          ],
          "scatter": [
           {
            "fillpattern": {
             "fillmode": "overlay",
             "size": 10,
             "solidity": 0.2
            },
            "type": "scatter"
           }
          ],
          "scatter3d": [
           {
            "line": {
             "colorbar": {
              "outlinewidth": 0,
              "ticks": ""
             }
            },
            "marker": {
             "colorbar": {
              "outlinewidth": 0,
              "ticks": ""
             }
            },
            "type": "scatter3d"
           }
          ],
          "scattercarpet": [
           {
            "marker": {
             "colorbar": {
              "outlinewidth": 0,
              "ticks": ""
             }
            },
            "type": "scattercarpet"
           }
          ],
          "scattergeo": [
           {
            "marker": {
             "colorbar": {
              "outlinewidth": 0,
              "ticks": ""
             }
            },
            "type": "scattergeo"
           }
          ],
          "scattergl": [
           {
            "marker": {
             "colorbar": {
              "outlinewidth": 0,
              "ticks": ""
             }
            },
            "type": "scattergl"
           }
          ],
          "scattermapbox": [
           {
            "marker": {
             "colorbar": {
              "outlinewidth": 0,
              "ticks": ""
             }
            },
            "type": "scattermapbox"
           }
          ],
          "scatterpolar": [
           {
            "marker": {
             "colorbar": {
              "outlinewidth": 0,
              "ticks": ""
             }
            },
            "type": "scatterpolar"
           }
          ],
          "scatterpolargl": [
           {
            "marker": {
             "colorbar": {
              "outlinewidth": 0,
              "ticks": ""
             }
            },
            "type": "scatterpolargl"
           }
          ],
          "scatterternary": [
           {
            "marker": {
             "colorbar": {
              "outlinewidth": 0,
              "ticks": ""
             }
            },
            "type": "scatterternary"
           }
          ],
          "surface": [
           {
            "colorbar": {
             "outlinewidth": 0,
             "ticks": ""
            },
            "colorscale": [
             [
              0,
              "#0d0887"
             ],
             [
              0.1111111111111111,
              "#46039f"
             ],
             [
              0.2222222222222222,
              "#7201a8"
             ],
             [
              0.3333333333333333,
              "#9c179e"
             ],
             [
              0.4444444444444444,
              "#bd3786"
             ],
             [
              0.5555555555555556,
              "#d8576b"
             ],
             [
              0.6666666666666666,
              "#ed7953"
             ],
             [
              0.7777777777777778,
              "#fb9f3a"
             ],
             [
              0.8888888888888888,
              "#fdca26"
             ],
             [
              1,
              "#f0f921"
             ]
            ],
            "type": "surface"
           }
          ],
          "table": [
           {
            "cells": {
             "fill": {
              "color": "#EBF0F8"
             },
             "line": {
              "color": "white"
             }
            },
            "header": {
             "fill": {
              "color": "#C8D4E3"
             },
             "line": {
              "color": "white"
             }
            },
            "type": "table"
           }
          ]
         },
         "layout": {
          "annotationdefaults": {
           "arrowcolor": "#2a3f5f",
           "arrowhead": 0,
           "arrowwidth": 1
          },
          "autotypenumbers": "strict",
          "coloraxis": {
           "colorbar": {
            "outlinewidth": 0,
            "ticks": ""
           }
          },
          "colorscale": {
           "diverging": [
            [
             0,
             "#8e0152"
            ],
            [
             0.1,
             "#c51b7d"
            ],
            [
             0.2,
             "#de77ae"
            ],
            [
             0.3,
             "#f1b6da"
            ],
            [
             0.4,
             "#fde0ef"
            ],
            [
             0.5,
             "#f7f7f7"
            ],
            [
             0.6,
             "#e6f5d0"
            ],
            [
             0.7,
             "#b8e186"
            ],
            [
             0.8,
             "#7fbc41"
            ],
            [
             0.9,
             "#4d9221"
            ],
            [
             1,
             "#276419"
            ]
           ],
           "sequential": [
            [
             0,
             "#0d0887"
            ],
            [
             0.1111111111111111,
             "#46039f"
            ],
            [
             0.2222222222222222,
             "#7201a8"
            ],
            [
             0.3333333333333333,
             "#9c179e"
            ],
            [
             0.4444444444444444,
             "#bd3786"
            ],
            [
             0.5555555555555556,
             "#d8576b"
            ],
            [
             0.6666666666666666,
             "#ed7953"
            ],
            [
             0.7777777777777778,
             "#fb9f3a"
            ],
            [
             0.8888888888888888,
             "#fdca26"
            ],
            [
             1,
             "#f0f921"
            ]
           ],
           "sequentialminus": [
            [
             0,
             "#0d0887"
            ],
            [
             0.1111111111111111,
             "#46039f"
            ],
            [
             0.2222222222222222,
             "#7201a8"
            ],
            [
             0.3333333333333333,
             "#9c179e"
            ],
            [
             0.4444444444444444,
             "#bd3786"
            ],
            [
             0.5555555555555556,
             "#d8576b"
            ],
            [
             0.6666666666666666,
             "#ed7953"
            ],
            [
             0.7777777777777778,
             "#fb9f3a"
            ],
            [
             0.8888888888888888,
             "#fdca26"
            ],
            [
             1,
             "#f0f921"
            ]
           ]
          },
          "colorway": [
           "#636efa",
           "#EF553B",
           "#00cc96",
           "#ab63fa",
           "#FFA15A",
           "#19d3f3",
           "#FF6692",
           "#B6E880",
           "#FF97FF",
           "#FECB52"
          ],
          "font": {
           "color": "#2a3f5f"
          },
          "geo": {
           "bgcolor": "white",
           "lakecolor": "white",
           "landcolor": "#E5ECF6",
           "showlakes": true,
           "showland": true,
           "subunitcolor": "white"
          },
          "hoverlabel": {
           "align": "left"
          },
          "hovermode": "closest",
          "mapbox": {
           "style": "light"
          },
          "paper_bgcolor": "white",
          "plot_bgcolor": "#E5ECF6",
          "polar": {
           "angularaxis": {
            "gridcolor": "white",
            "linecolor": "white",
            "ticks": ""
           },
           "bgcolor": "#E5ECF6",
           "radialaxis": {
            "gridcolor": "white",
            "linecolor": "white",
            "ticks": ""
           }
          },
          "scene": {
           "xaxis": {
            "backgroundcolor": "#E5ECF6",
            "gridcolor": "white",
            "gridwidth": 2,
            "linecolor": "white",
            "showbackground": true,
            "ticks": "",
            "zerolinecolor": "white"
           },
           "yaxis": {
            "backgroundcolor": "#E5ECF6",
            "gridcolor": "white",
            "gridwidth": 2,
            "linecolor": "white",
            "showbackground": true,
            "ticks": "",
            "zerolinecolor": "white"
           },
           "zaxis": {
            "backgroundcolor": "#E5ECF6",
            "gridcolor": "white",
            "gridwidth": 2,
            "linecolor": "white",
            "showbackground": true,
            "ticks": "",
            "zerolinecolor": "white"
           }
          },
          "shapedefaults": {
           "line": {
            "color": "#2a3f5f"
           }
          },
          "ternary": {
           "aaxis": {
            "gridcolor": "white",
            "linecolor": "white",
            "ticks": ""
           },
           "baxis": {
            "gridcolor": "white",
            "linecolor": "white",
            "ticks": ""
           },
           "bgcolor": "#E5ECF6",
           "caxis": {
            "gridcolor": "white",
            "linecolor": "white",
            "ticks": ""
           }
          },
          "title": {
           "x": 0.05
          },
          "xaxis": {
           "automargin": true,
           "gridcolor": "white",
           "linecolor": "white",
           "ticks": "",
           "title": {
            "standoff": 15
           },
           "zerolinecolor": "white",
           "zerolinewidth": 2
          },
          "yaxis": {
           "automargin": true,
           "gridcolor": "white",
           "linecolor": "white",
           "ticks": "",
           "title": {
            "standoff": 15
           },
           "zerolinecolor": "white",
           "zerolinewidth": 2
          }
         }
        },
        "title": {
         "text": "Optimization History Plot"
        },
        "xaxis": {
         "autorange": true,
         "range": [
          -0.5535102739726028,
          9.553510273972602
         ],
         "title": {
          "text": "Trial"
         },
         "type": "linear"
        },
        "yaxis": {
         "autorange": true,
         "range": [
          0.39135177902993523,
          0.6037616847321913
         ],
         "title": {
          "text": "Objective Value"
         },
         "type": "linear"
        }
       }
      },
      "text/html": [
       "<div>                            <div id=\"7d561db3-715e-429e-b86f-9ee5d284fe31\" class=\"plotly-graph-div\" style=\"height:525px; width:100%;\"></div>            <script type=\"text/javascript\">                require([\"plotly\"], function(Plotly) {                    window.PLOTLYENV=window.PLOTLYENV || {};                                    if (document.getElementById(\"7d561db3-715e-429e-b86f-9ee5d284fe31\")) {                    Plotly.newPlot(                        \"7d561db3-715e-429e-b86f-9ee5d284fe31\",                        [{\"mode\":\"markers\",\"name\":\"Objective Value\",\"x\":[0,1,2,3,4,5,6,7,8,9],\"y\":[0.4341190010753154,0.48364839071350046,0.5887159830782814,0.45348721437831685,0.45354416683340376,0.44706382653621174,0.44682638853182066,0.406397480683845,0.4081429776537121,0.45544574031815177],\"type\":\"scatter\"},{\"mode\":\"lines\",\"name\":\"Best Value\",\"x\":[0,1,2,3,4,5,6,7,8,9],\"y\":[0.4341190010753154,0.4341190010753154,0.4341190010753154,0.4341190010753154,0.4341190010753154,0.4341190010753154,0.4341190010753154,0.406397480683845,0.406397480683845,0.406397480683845],\"type\":\"scatter\"},{\"marker\":{\"color\":\"#cccccc\"},\"mode\":\"markers\",\"name\":\"Infeasible Trial\",\"showlegend\":false,\"x\":[],\"y\":[],\"type\":\"scatter\"}],                        {\"title\":{\"text\":\"Optimization History Plot\"},\"xaxis\":{\"title\":{\"text\":\"Trial\"}},\"yaxis\":{\"title\":{\"text\":\"Objective Value\"}},\"template\":{\"data\":{\"histogram2dcontour\":[{\"type\":\"histogram2dcontour\",\"colorbar\":{\"outlinewidth\":0,\"ticks\":\"\"},\"colorscale\":[[0.0,\"#0d0887\"],[0.1111111111111111,\"#46039f\"],[0.2222222222222222,\"#7201a8\"],[0.3333333333333333,\"#9c179e\"],[0.4444444444444444,\"#bd3786\"],[0.5555555555555556,\"#d8576b\"],[0.6666666666666666,\"#ed7953\"],[0.7777777777777778,\"#fb9f3a\"],[0.8888888888888888,\"#fdca26\"],[1.0,\"#f0f921\"]]}],\"choropleth\":[{\"type\":\"choropleth\",\"colorbar\":{\"outlinewidth\":0,\"ticks\":\"\"}}],\"histogram2d\":[{\"type\":\"histogram2d\",\"colorbar\":{\"outlinewidth\":0,\"ticks\":\"\"},\"colorscale\":[[0.0,\"#0d0887\"],[0.1111111111111111,\"#46039f\"],[0.2222222222222222,\"#7201a8\"],[0.3333333333333333,\"#9c179e\"],[0.4444444444444444,\"#bd3786\"],[0.5555555555555556,\"#d8576b\"],[0.6666666666666666,\"#ed7953\"],[0.7777777777777778,\"#fb9f3a\"],[0.8888888888888888,\"#fdca26\"],[1.0,\"#f0f921\"]]}],\"heatmap\":[{\"type\":\"heatmap\",\"colorbar\":{\"outlinewidth\":0,\"ticks\":\"\"},\"colorscale\":[[0.0,\"#0d0887\"],[0.1111111111111111,\"#46039f\"],[0.2222222222222222,\"#7201a8\"],[0.3333333333333333,\"#9c179e\"],[0.4444444444444444,\"#bd3786\"],[0.5555555555555556,\"#d8576b\"],[0.6666666666666666,\"#ed7953\"],[0.7777777777777778,\"#fb9f3a\"],[0.8888888888888888,\"#fdca26\"],[1.0,\"#f0f921\"]]}],\"heatmapgl\":[{\"type\":\"heatmapgl\",\"colorbar\":{\"outlinewidth\":0,\"ticks\":\"\"},\"colorscale\":[[0.0,\"#0d0887\"],[0.1111111111111111,\"#46039f\"],[0.2222222222222222,\"#7201a8\"],[0.3333333333333333,\"#9c179e\"],[0.4444444444444444,\"#bd3786\"],[0.5555555555555556,\"#d8576b\"],[0.6666666666666666,\"#ed7953\"],[0.7777777777777778,\"#fb9f3a\"],[0.8888888888888888,\"#fdca26\"],[1.0,\"#f0f921\"]]}],\"contourcarpet\":[{\"type\":\"contourcarpet\",\"colorbar\":{\"outlinewidth\":0,\"ticks\":\"\"}}],\"contour\":[{\"type\":\"contour\",\"colorbar\":{\"outlinewidth\":0,\"ticks\":\"\"},\"colorscale\":[[0.0,\"#0d0887\"],[0.1111111111111111,\"#46039f\"],[0.2222222222222222,\"#7201a8\"],[0.3333333333333333,\"#9c179e\"],[0.4444444444444444,\"#bd3786\"],[0.5555555555555556,\"#d8576b\"],[0.6666666666666666,\"#ed7953\"],[0.7777777777777778,\"#fb9f3a\"],[0.8888888888888888,\"#fdca26\"],[1.0,\"#f0f921\"]]}],\"surface\":[{\"type\":\"surface\",\"colorbar\":{\"outlinewidth\":0,\"ticks\":\"\"},\"colorscale\":[[0.0,\"#0d0887\"],[0.1111111111111111,\"#46039f\"],[0.2222222222222222,\"#7201a8\"],[0.3333333333333333,\"#9c179e\"],[0.4444444444444444,\"#bd3786\"],[0.5555555555555556,\"#d8576b\"],[0.6666666666666666,\"#ed7953\"],[0.7777777777777778,\"#fb9f3a\"],[0.8888888888888888,\"#fdca26\"],[1.0,\"#f0f921\"]]}],\"mesh3d\":[{\"type\":\"mesh3d\",\"colorbar\":{\"outlinewidth\":0,\"ticks\":\"\"}}],\"scatter\":[{\"fillpattern\":{\"fillmode\":\"overlay\",\"size\":10,\"solidity\":0.2},\"type\":\"scatter\"}],\"parcoords\":[{\"type\":\"parcoords\",\"line\":{\"colorbar\":{\"outlinewidth\":0,\"ticks\":\"\"}}}],\"scatterpolargl\":[{\"type\":\"scatterpolargl\",\"marker\":{\"colorbar\":{\"outlinewidth\":0,\"ticks\":\"\"}}}],\"bar\":[{\"error_x\":{\"color\":\"#2a3f5f\"},\"error_y\":{\"color\":\"#2a3f5f\"},\"marker\":{\"line\":{\"color\":\"#E5ECF6\",\"width\":0.5},\"pattern\":{\"fillmode\":\"overlay\",\"size\":10,\"solidity\":0.2}},\"type\":\"bar\"}],\"scattergeo\":[{\"type\":\"scattergeo\",\"marker\":{\"colorbar\":{\"outlinewidth\":0,\"ticks\":\"\"}}}],\"scatterpolar\":[{\"type\":\"scatterpolar\",\"marker\":{\"colorbar\":{\"outlinewidth\":0,\"ticks\":\"\"}}}],\"histogram\":[{\"marker\":{\"pattern\":{\"fillmode\":\"overlay\",\"size\":10,\"solidity\":0.2}},\"type\":\"histogram\"}],\"scattergl\":[{\"type\":\"scattergl\",\"marker\":{\"colorbar\":{\"outlinewidth\":0,\"ticks\":\"\"}}}],\"scatter3d\":[{\"type\":\"scatter3d\",\"line\":{\"colorbar\":{\"outlinewidth\":0,\"ticks\":\"\"}},\"marker\":{\"colorbar\":{\"outlinewidth\":0,\"ticks\":\"\"}}}],\"scattermapbox\":[{\"type\":\"scattermapbox\",\"marker\":{\"colorbar\":{\"outlinewidth\":0,\"ticks\":\"\"}}}],\"scatterternary\":[{\"type\":\"scatterternary\",\"marker\":{\"colorbar\":{\"outlinewidth\":0,\"ticks\":\"\"}}}],\"scattercarpet\":[{\"type\":\"scattercarpet\",\"marker\":{\"colorbar\":{\"outlinewidth\":0,\"ticks\":\"\"}}}],\"carpet\":[{\"aaxis\":{\"endlinecolor\":\"#2a3f5f\",\"gridcolor\":\"white\",\"linecolor\":\"white\",\"minorgridcolor\":\"white\",\"startlinecolor\":\"#2a3f5f\"},\"baxis\":{\"endlinecolor\":\"#2a3f5f\",\"gridcolor\":\"white\",\"linecolor\":\"white\",\"minorgridcolor\":\"white\",\"startlinecolor\":\"#2a3f5f\"},\"type\":\"carpet\"}],\"table\":[{\"cells\":{\"fill\":{\"color\":\"#EBF0F8\"},\"line\":{\"color\":\"white\"}},\"header\":{\"fill\":{\"color\":\"#C8D4E3\"},\"line\":{\"color\":\"white\"}},\"type\":\"table\"}],\"barpolar\":[{\"marker\":{\"line\":{\"color\":\"#E5ECF6\",\"width\":0.5},\"pattern\":{\"fillmode\":\"overlay\",\"size\":10,\"solidity\":0.2}},\"type\":\"barpolar\"}],\"pie\":[{\"automargin\":true,\"type\":\"pie\"}]},\"layout\":{\"autotypenumbers\":\"strict\",\"colorway\":[\"#636efa\",\"#EF553B\",\"#00cc96\",\"#ab63fa\",\"#FFA15A\",\"#19d3f3\",\"#FF6692\",\"#B6E880\",\"#FF97FF\",\"#FECB52\"],\"font\":{\"color\":\"#2a3f5f\"},\"hovermode\":\"closest\",\"hoverlabel\":{\"align\":\"left\"},\"paper_bgcolor\":\"white\",\"plot_bgcolor\":\"#E5ECF6\",\"polar\":{\"bgcolor\":\"#E5ECF6\",\"angularaxis\":{\"gridcolor\":\"white\",\"linecolor\":\"white\",\"ticks\":\"\"},\"radialaxis\":{\"gridcolor\":\"white\",\"linecolor\":\"white\",\"ticks\":\"\"}},\"ternary\":{\"bgcolor\":\"#E5ECF6\",\"aaxis\":{\"gridcolor\":\"white\",\"linecolor\":\"white\",\"ticks\":\"\"},\"baxis\":{\"gridcolor\":\"white\",\"linecolor\":\"white\",\"ticks\":\"\"},\"caxis\":{\"gridcolor\":\"white\",\"linecolor\":\"white\",\"ticks\":\"\"}},\"coloraxis\":{\"colorbar\":{\"outlinewidth\":0,\"ticks\":\"\"}},\"colorscale\":{\"sequential\":[[0.0,\"#0d0887\"],[0.1111111111111111,\"#46039f\"],[0.2222222222222222,\"#7201a8\"],[0.3333333333333333,\"#9c179e\"],[0.4444444444444444,\"#bd3786\"],[0.5555555555555556,\"#d8576b\"],[0.6666666666666666,\"#ed7953\"],[0.7777777777777778,\"#fb9f3a\"],[0.8888888888888888,\"#fdca26\"],[1.0,\"#f0f921\"]],\"sequentialminus\":[[0.0,\"#0d0887\"],[0.1111111111111111,\"#46039f\"],[0.2222222222222222,\"#7201a8\"],[0.3333333333333333,\"#9c179e\"],[0.4444444444444444,\"#bd3786\"],[0.5555555555555556,\"#d8576b\"],[0.6666666666666666,\"#ed7953\"],[0.7777777777777778,\"#fb9f3a\"],[0.8888888888888888,\"#fdca26\"],[1.0,\"#f0f921\"]],\"diverging\":[[0,\"#8e0152\"],[0.1,\"#c51b7d\"],[0.2,\"#de77ae\"],[0.3,\"#f1b6da\"],[0.4,\"#fde0ef\"],[0.5,\"#f7f7f7\"],[0.6,\"#e6f5d0\"],[0.7,\"#b8e186\"],[0.8,\"#7fbc41\"],[0.9,\"#4d9221\"],[1,\"#276419\"]]},\"xaxis\":{\"gridcolor\":\"white\",\"linecolor\":\"white\",\"ticks\":\"\",\"title\":{\"standoff\":15},\"zerolinecolor\":\"white\",\"automargin\":true,\"zerolinewidth\":2},\"yaxis\":{\"gridcolor\":\"white\",\"linecolor\":\"white\",\"ticks\":\"\",\"title\":{\"standoff\":15},\"zerolinecolor\":\"white\",\"automargin\":true,\"zerolinewidth\":2},\"scene\":{\"xaxis\":{\"backgroundcolor\":\"#E5ECF6\",\"gridcolor\":\"white\",\"linecolor\":\"white\",\"showbackground\":true,\"ticks\":\"\",\"zerolinecolor\":\"white\",\"gridwidth\":2},\"yaxis\":{\"backgroundcolor\":\"#E5ECF6\",\"gridcolor\":\"white\",\"linecolor\":\"white\",\"showbackground\":true,\"ticks\":\"\",\"zerolinecolor\":\"white\",\"gridwidth\":2},\"zaxis\":{\"backgroundcolor\":\"#E5ECF6\",\"gridcolor\":\"white\",\"linecolor\":\"white\",\"showbackground\":true,\"ticks\":\"\",\"zerolinecolor\":\"white\",\"gridwidth\":2}},\"shapedefaults\":{\"line\":{\"color\":\"#2a3f5f\"}},\"annotationdefaults\":{\"arrowcolor\":\"#2a3f5f\",\"arrowhead\":0,\"arrowwidth\":1},\"geo\":{\"bgcolor\":\"white\",\"landcolor\":\"#E5ECF6\",\"subunitcolor\":\"white\",\"showland\":true,\"showlakes\":true,\"lakecolor\":\"white\"},\"title\":{\"x\":0.05},\"mapbox\":{\"style\":\"light\"}}}},                        {\"staticPlot\": true, \"responsive\": true}                    ).then(function(){\n",
       "                            \n",
       "var gd = document.getElementById('7d561db3-715e-429e-b86f-9ee5d284fe31');\n",
       "var x = new MutationObserver(function (mutations, observer) {{\n",
       "        var display = window.getComputedStyle(gd).display;\n",
       "        if (!display || display === 'none') {{\n",
       "            console.log([gd, 'removed!']);\n",
       "            Plotly.purge(gd);\n",
       "            observer.disconnect();\n",
       "        }}\n",
       "}});\n",
       "\n",
       "// Listen for the removal of the full notebook cells\n",
       "var notebookContainer = gd.closest('#notebook-container');\n",
       "if (notebookContainer) {{\n",
       "    x.observe(notebookContainer, {childList: true});\n",
       "}}\n",
       "\n",
       "// Listen for the clearing of the current output cell\n",
       "var outputEl = gd.closest('.output');\n",
       "if (outputEl) {{\n",
       "    x.observe(outputEl, {childList: true});\n",
       "}}\n",
       "\n",
       "                        })                };                });            </script>        </div>"
      ]
     },
     "metadata": {},
     "output_type": "display_data"
    }
   ],
   "source": [
    "plotly_config = {\"staticPlot\": True}\n",
    "\n",
    "fig = plot_optimization_history(study)\n",
    "fig.show(config=plotly_config)"
   ]
  },
  {
   "cell_type": "code",
   "execution_count": 225,
   "id": "44a1f46c-88de-4bea-a156-f5402b08c039",
   "metadata": {},
   "outputs": [],
   "source": [
    "best_params = training['params_path']\n",
    "\n",
    "with open(best_params, 'w') as f:\n",
    "    json.dump(study.best_params, f)"
   ]
  },
  {
   "cell_type": "markdown",
   "id": "63290093-6e45-49be-a6c5-750468305bab",
   "metadata": {},
   "source": [
    "## 3.3 Train with best params"
   ]
  },
  {
   "cell_type": "code",
   "execution_count": 226,
   "id": "68f6f9fa-c35e-4330-9e9b-1beb7f5fa62f",
   "metadata": {},
   "outputs": [
    {
     "name": "stdout",
     "output_type": "stream",
     "text": [
      "[LightGBM] [Warning] min_gain_to_split is set=0, min_split_gain=0.0 will be ignored. Current value: min_gain_to_split=0\n",
      "[LightGBM] [Warning] bagging_fraction is set=0.5518211628164218, subsample=1.0 will be ignored. Current value: bagging_fraction=0.5518211628164218\n",
      "[LightGBM] [Warning] lambda_l1 is set=4, reg_alpha=0.0 will be ignored. Current value: lambda_l1=4\n",
      "[LightGBM] [Warning] lambda_l2 is set=38, reg_lambda=0.0 will be ignored. Current value: lambda_l2=38\n",
      "[LightGBM] [Warning] bagging_freq is set=1, subsample_freq=0 will be ignored. Current value: bagging_freq=1\n"
     ]
    },
    {
     "data": {
      "text/html": [
       "<style>#sk-container-id-8 {color: black;}#sk-container-id-8 pre{padding: 0;}#sk-container-id-8 div.sk-toggleable {background-color: white;}#sk-container-id-8 label.sk-toggleable__label {cursor: pointer;display: block;width: 100%;margin-bottom: 0;padding: 0.3em;box-sizing: border-box;text-align: center;}#sk-container-id-8 label.sk-toggleable__label-arrow:before {content: \"▸\";float: left;margin-right: 0.25em;color: #696969;}#sk-container-id-8 label.sk-toggleable__label-arrow:hover:before {color: black;}#sk-container-id-8 div.sk-estimator:hover label.sk-toggleable__label-arrow:before {color: black;}#sk-container-id-8 div.sk-toggleable__content {max-height: 0;max-width: 0;overflow: hidden;text-align: left;background-color: #f0f8ff;}#sk-container-id-8 div.sk-toggleable__content pre {margin: 0.2em;color: black;border-radius: 0.25em;background-color: #f0f8ff;}#sk-container-id-8 input.sk-toggleable__control:checked~div.sk-toggleable__content {max-height: 200px;max-width: 100%;overflow: auto;}#sk-container-id-8 input.sk-toggleable__control:checked~label.sk-toggleable__label-arrow:before {content: \"▾\";}#sk-container-id-8 div.sk-estimator input.sk-toggleable__control:checked~label.sk-toggleable__label {background-color: #d4ebff;}#sk-container-id-8 div.sk-label input.sk-toggleable__control:checked~label.sk-toggleable__label {background-color: #d4ebff;}#sk-container-id-8 input.sk-hidden--visually {border: 0;clip: rect(1px 1px 1px 1px);clip: rect(1px, 1px, 1px, 1px);height: 1px;margin: -1px;overflow: hidden;padding: 0;position: absolute;width: 1px;}#sk-container-id-8 div.sk-estimator {font-family: monospace;background-color: #f0f8ff;border: 1px dotted black;border-radius: 0.25em;box-sizing: border-box;margin-bottom: 0.5em;}#sk-container-id-8 div.sk-estimator:hover {background-color: #d4ebff;}#sk-container-id-8 div.sk-parallel-item::after {content: \"\";width: 100%;border-bottom: 1px solid gray;flex-grow: 1;}#sk-container-id-8 div.sk-label:hover label.sk-toggleable__label {background-color: #d4ebff;}#sk-container-id-8 div.sk-serial::before {content: \"\";position: absolute;border-left: 1px solid gray;box-sizing: border-box;top: 0;bottom: 0;left: 50%;z-index: 0;}#sk-container-id-8 div.sk-serial {display: flex;flex-direction: column;align-items: center;background-color: white;padding-right: 0.2em;padding-left: 0.2em;position: relative;}#sk-container-id-8 div.sk-item {position: relative;z-index: 1;}#sk-container-id-8 div.sk-parallel {display: flex;align-items: stretch;justify-content: center;background-color: white;position: relative;}#sk-container-id-8 div.sk-item::before, #sk-container-id-8 div.sk-parallel-item::before {content: \"\";position: absolute;border-left: 1px solid gray;box-sizing: border-box;top: 0;bottom: 0;left: 50%;z-index: -1;}#sk-container-id-8 div.sk-parallel-item {display: flex;flex-direction: column;z-index: 1;position: relative;background-color: white;}#sk-container-id-8 div.sk-parallel-item:first-child::after {align-self: flex-end;width: 50%;}#sk-container-id-8 div.sk-parallel-item:last-child::after {align-self: flex-start;width: 50%;}#sk-container-id-8 div.sk-parallel-item:only-child::after {width: 0;}#sk-container-id-8 div.sk-dashed-wrapped {border: 1px dashed gray;margin: 0 0.4em 0.5em 0.4em;box-sizing: border-box;padding-bottom: 0.4em;background-color: white;}#sk-container-id-8 div.sk-label label {font-family: monospace;font-weight: bold;display: inline-block;line-height: 1.2em;}#sk-container-id-8 div.sk-label-container {text-align: center;}#sk-container-id-8 div.sk-container {/* jupyter's `normalize.less` sets `[hidden] { display: none; }` but bootstrap.min.css set `[hidden] { display: none !important; }` so we also need the `!important` here to be able to override the default hidden behavior on the sphinx rendered scikit-learn.org. See: https://github.com/scikit-learn/scikit-learn/issues/21755 */display: inline-block !important;position: relative;}#sk-container-id-8 div.sk-text-repr-fallback {display: none;}</style><div id=\"sk-container-id-8\" class=\"sk-top-container\"><div class=\"sk-text-repr-fallback\"><pre>LGBMRegressor(bagging_fraction=0.5518211628164218, bagging_freq=1,\n",
       "              colsample_bytree=0.7740230276645429, lambda_l1=4, lambda_l2=38,\n",
       "              learning_rate=0.10443093986666539, max_depth=13,\n",
       "              min_gain_to_split=0, n_estimators=2000, num_leaves=280,\n",
       "              random_state=10)</pre><b>In a Jupyter environment, please rerun this cell to show the HTML representation or trust the notebook. <br />On GitHub, the HTML representation is unable to render, please try loading this page with nbviewer.org.</b></div><div class=\"sk-container\" hidden><div class=\"sk-item\"><div class=\"sk-estimator sk-toggleable\"><input class=\"sk-toggleable__control sk-hidden--visually\" id=\"sk-estimator-id-8\" type=\"checkbox\" checked><label for=\"sk-estimator-id-8\" class=\"sk-toggleable__label sk-toggleable__label-arrow\">LGBMRegressor</label><div class=\"sk-toggleable__content\"><pre>LGBMRegressor(bagging_fraction=0.5518211628164218, bagging_freq=1,\n",
       "              colsample_bytree=0.7740230276645429, lambda_l1=4, lambda_l2=38,\n",
       "              learning_rate=0.10443093986666539, max_depth=13,\n",
       "              min_gain_to_split=0, n_estimators=2000, num_leaves=280,\n",
       "              random_state=10)</pre></div></div></div></div></div>"
      ],
      "text/plain": [
       "LGBMRegressor(bagging_fraction=0.5518211628164218, bagging_freq=1,\n",
       "              colsample_bytree=0.7740230276645429, lambda_l1=4, lambda_l2=38,\n",
       "              learning_rate=0.10443093986666539, max_depth=13,\n",
       "              min_gain_to_split=0, n_estimators=2000, num_leaves=280,\n",
       "              random_state=10)"
      ]
     },
     "execution_count": 226,
     "metadata": {},
     "output_type": "execute_result"
    }
   ],
   "source": [
    "reg_tune = LGBMRegressor(**study.best_params)\n",
    "reg_tune.fit(X_train, y_train)"
   ]
  },
  {
   "cell_type": "code",
   "execution_count": 227,
   "id": "e8e0de02-bd12-4e27-b52a-8c1e4a388bb3",
   "metadata": {},
   "outputs": [
    {
     "data": {
      "text/plain": [
       "['../models/model.joblib']"
      ]
     },
     "execution_count": 227,
     "metadata": {},
     "output_type": "execute_result"
    }
   ],
   "source": [
    "model_path = training['model_path']\n",
    "\n",
    "joblib.dump(reg_tune, model_path)"
   ]
  },
  {
   "cell_type": "code",
   "execution_count": 228,
   "id": "de83eb7d-44d9-47bf-871c-5ac22361593d",
   "metadata": {},
   "outputs": [],
   "source": [
    "metrics_path = training['metrics_path']\n",
    "\n",
    "metrics = get_metrics(y_test, reg_tune.predict(X_test))\n",
    "with open(metrics_path, 'w') as f:\n",
    "    json.dump(metrics, f)"
   ]
  },
  {
   "cell_type": "code",
   "execution_count": 229,
   "id": "dc6dea9c-721e-4162-b121-f878b3555c66",
   "metadata": {},
   "outputs": [
    {
     "data": {
      "text/plain": [
       "{'R2': 0.967, 'MAE': 0.294, 'MSE': 0.188}"
      ]
     },
     "execution_count": 229,
     "metadata": {},
     "output_type": "execute_result"
    }
   ],
   "source": [
    "# check\n",
    "with open(metrics_path) as json_file:\n",
    "    metrics = json.load(json_file)\n",
    "metrics"
   ]
  },
  {
   "cell_type": "code",
   "execution_count": 230,
   "id": "e0036540-6d61-4c0d-be4c-3dc89de6e365",
   "metadata": {},
   "outputs": [],
   "source": [
    "# дополнительно в ноутбуке смотрим overfiting"
   ]
  },
  {
   "cell_type": "code",
   "execution_count": 231,
   "id": "9d856d38-3a95-4e36-9398-4d5d81977efe",
   "metadata": {},
   "outputs": [
    {
     "data": {
      "text/plain": [
       "{'R2': 0.981, 'MAE': 0.225, 'MSE': 0.112}"
      ]
     },
     "execution_count": 231,
     "metadata": {},
     "output_type": "execute_result"
    }
   ],
   "source": [
    "get_metrics(y_train, reg_tune.predict(X_train))"
   ]
  }
 ],
 "metadata": {
  "kernelspec": {
   "display_name": "Python 3 (ipykernel)",
   "language": "python",
   "name": "python3"
  },
  "language_info": {
   "codemirror_mode": {
    "name": "ipython",
    "version": 3
   },
   "file_extension": ".py",
   "mimetype": "text/x-python",
   "name": "python",
   "nbconvert_exporter": "python",
   "pygments_lexer": "ipython3",
   "version": "3.9.5"
  }
 },
 "nbformat": 4,
 "nbformat_minor": 5
}
