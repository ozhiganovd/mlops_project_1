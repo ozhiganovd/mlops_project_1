{
 "cells": [
  {
   "cell_type": "markdown",
   "id": "cfc6cda3-cd75-48f4-be14-2c5126503991",
   "metadata": {},
   "source": [
    "# 6. Стекинг  "
   ]
  },
  {
   "cell_type": "markdown",
   "id": "d969cb39-a9ad-45ca-b683-608eb82bb6da",
   "metadata": {},
   "source": [
    "## Sklearn"
   ]
  },
  {
   "cell_type": "markdown",
   "id": "a7c0fb57-f559-421b-8ccd-9811d1a41a42",
   "metadata": {},
   "source": [
    "Для стэкинга буду использовать 4 модели:\n",
    "* LightGBM (baseline)  \n",
    "* CatBoost (baseline)  \n",
    "* CatBoost (tuning на гиперпараметрах подобранных с помощью greadsearch)  \n",
    "* CatBoost (tuning на гиперпараметрах подобранных с помощью optuna)  \n",
    "В качестве финальной метамодели буду использовать линейную регрессию  "
   ]
  },
  {
   "cell_type": "code",
   "execution_count": 55,
   "id": "955eddbc-47de-45e8-913f-2852043c2cac",
   "metadata": {},
   "outputs": [],
   "source": [
    "df = pd.read_csv(r\"C:\\Users\\ozhiganov_dv\\Jupyter\\PyMagic\\09. Pet-project\\data\\df_2\")\n",
    "cat_cols = df.select_dtypes('object').columns\n",
    "df[cat_cols] = df[cat_cols].astype(\"category\")\n",
    "cat_features = X_train.select_dtypes('category').columns.tolist()"
   ]
  },
  {
   "cell_type": "code",
   "execution_count": 56,
   "id": "5b4e854d-0eed-42c4-8c6f-9ab88c744b09",
   "metadata": {},
   "outputs": [],
   "source": [
    "X = df.drop(['MASSA_TN'], axis=1)\n",
    "y = df['MASSA_TN']\n",
    "\n",
    "X_train, X_test, y_train, y_test = train_test_split(X,\n",
    "                                                    y,\n",
    "                                                    test_size=0.2,\n",
    "                                                    shuffle=True,\n",
    "                                                    random_state=RAND)"
   ]
  },
  {
   "cell_type": "code",
   "execution_count": 254,
   "id": "5e57ab17-9229-42c0-a093-1658bffffb22",
   "metadata": {},
   "outputs": [],
   "source": [
    "optuna_params = {\n",
    "    'n_estimators': 3000,\n",
    "    'learning_rate': 0.14295150734048512,\n",
    "    'max_depth': 10,\n",
    "    'colsample_bylevel': 0.8193474487801746,\n",
    "    'l2_leaf_reg': 1.3545777239111751,\n",
    "    'random_strength': 38.36050116280313,\n",
    "    'bootstrap_type': 'Bernoulli',\n",
    "    'border_count': 128,\n",
    "    'grow_policy': 'SymmetricTree',\n",
    "    'od_wait': 1689,\n",
    "    'leaf_estimation_iterations': 13,\n",
    "    'loss_function': 'MAE',\n",
    "    'eval_metric': 'MAE',\n",
    "    'subsample': 0.7185613400735754\n",
    "}"
   ]
  },
  {
   "cell_type": "code",
   "execution_count": 255,
   "id": "8daaacdd-b621-4742-b36b-8b9254f50ba3",
   "metadata": {},
   "outputs": [],
   "source": [
    "grid_search_params = {\n",
    "    'border_count': 100,\n",
    "    'random_seed': 10,\n",
    "    'depth': 7,\n",
    "    'iterations': 3000,\n",
    "    'learning_rate': 0.1,\n",
    "    'l2_leaf_reg': 0.0005623413251903491,\n",
    "    'grow_policy': 'SymmetricTree',\n",
    "    'boosting_type': 'Ordered',\n",
    "    'bootstrap_type': 'No'\n",
    "}"
   ]
  },
  {
   "cell_type": "code",
   "execution_count": 256,
   "id": "a2c24aeb-8f4e-45c0-bac0-a20cabecfc8d",
   "metadata": {},
   "outputs": [],
   "source": [
    "estimators = [('lgbm', LGBMRegressor()),\n",
    "              ('cb_1', CatBoostRegressor(eval_metric=\"MAE\",\n",
    "                                         verbose=500,\n",
    "                                         cat_features=cat_features)),\n",
    "              ('cb_2', CatBoostRegressor(**optuna_params,\n",
    "                                         cat_features=cat_features,\n",
    "                                         verbose=1000)),\n",
    "              ('cb_3', CatBoostRegressor(**grid_search_params,\n",
    "                                         eval_metric=\"MAE\",\n",
    "                                         loss_function='MAE',\n",
    "                                         cat_features=cat_features,\n",
    "                                         verbose=1000)),]"
   ]
  },
  {
   "cell_type": "code",
   "execution_count": 257,
   "id": "9b763cea-f1c2-44e5-8e3b-71484d8e3085",
   "metadata": {},
   "outputs": [],
   "source": [
    "final_estimator = LinearRegression()\n",
    "reg = StackingRegressor(estimators=estimators,\n",
    "                        final_estimator=final_estimator)"
   ]
  },
  {
   "cell_type": "code",
   "execution_count": 258,
   "id": "51610d36-ba75-4959-8fcb-7922697ee66f",
   "metadata": {
    "tags": []
   },
   "outputs": [
    {
     "name": "stdout",
     "output_type": "stream",
     "text": [
      "[LightGBM] [Info] Auto-choosing row-wise multi-threading, the overhead of testing was 0.017881 seconds.\n",
      "You can set `force_row_wise=true` to remove the overhead.\n",
      "And if memory is not enough, you can set `force_col_wise=true`.\n",
      "[LightGBM] [Info] Total Bins 377\n",
      "[LightGBM] [Info] Number of data points in the train set: 710094, number of used features: 17\n",
      "[LightGBM] [Info] Start training from score 1.835071\n",
      "Learning rate set to 0.115528\n",
      "0:\tlearn: 1.2165500\ttotal: 335ms\tremaining: 5m 34s\n",
      "500:\tlearn: 0.3585382\ttotal: 3m 9s\tremaining: 3m 8s\n",
      "999:\tlearn: 0.3282604\ttotal: 6m 19s\tremaining: 0us\n",
      "0:\tlearn: 1.1525691\ttotal: 657ms\tremaining: 32m 50s\n",
      "1000:\tlearn: 0.2592787\ttotal: 14m 39s\tremaining: 29m 15s\n",
      "2000:\tlearn: 0.2479179\ttotal: 29m 25s\tremaining: 14m 41s\n",
      "2999:\tlearn: 0.2427406\ttotal: 44m 13s\tremaining: 0us\n",
      "0:\tlearn: 1.1510759\ttotal: 798ms\tremaining: 39m 52s\n",
      "1000:\tlearn: 0.3156728\ttotal: 15m 3s\tremaining: 30m 4s\n",
      "2000:\tlearn: 0.2946734\ttotal: 29m 27s\tremaining: 14m 42s\n",
      "2999:\tlearn: 0.2858955\ttotal: 43m 20s\tremaining: 0us\n",
      "[LightGBM] [Info] Auto-choosing row-wise multi-threading, the overhead of testing was 0.017567 seconds.\n",
      "You can set `force_row_wise=true` to remove the overhead.\n",
      "And if memory is not enough, you can set `force_col_wise=true`.\n",
      "[LightGBM] [Info] Total Bins 376\n",
      "[LightGBM] [Info] Number of data points in the train set: 568075, number of used features: 17\n",
      "[LightGBM] [Info] Start training from score 1.834409\n",
      "[LightGBM] [Info] Auto-choosing row-wise multi-threading, the overhead of testing was 0.014967 seconds.\n",
      "You can set `force_row_wise=true` to remove the overhead.\n",
      "And if memory is not enough, you can set `force_col_wise=true`.\n",
      "[LightGBM] [Info] Total Bins 377\n",
      "[LightGBM] [Info] Number of data points in the train set: 568075, number of used features: 17\n",
      "[LightGBM] [Info] Start training from score 1.835357\n",
      "[LightGBM] [Info] Auto-choosing row-wise multi-threading, the overhead of testing was 0.013707 seconds.\n",
      "You can set `force_row_wise=true` to remove the overhead.\n",
      "And if memory is not enough, you can set `force_col_wise=true`.\n",
      "[LightGBM] [Info] Total Bins 376\n",
      "[LightGBM] [Info] Number of data points in the train set: 568075, number of used features: 17\n",
      "[LightGBM] [Info] Start training from score 1.833727\n",
      "[LightGBM] [Info] Auto-choosing row-wise multi-threading, the overhead of testing was 0.011584 seconds.\n",
      "You can set `force_row_wise=true` to remove the overhead.\n",
      "And if memory is not enough, you can set `force_col_wise=true`.\n",
      "[LightGBM] [Info] Total Bins 376\n",
      "[LightGBM] [Info] Number of data points in the train set: 568075, number of used features: 17\n",
      "[LightGBM] [Info] Start training from score 1.836434\n",
      "[LightGBM] [Info] Auto-choosing row-wise multi-threading, the overhead of testing was 0.013480 seconds.\n",
      "You can set `force_row_wise=true` to remove the overhead.\n",
      "And if memory is not enough, you can set `force_col_wise=true`.\n",
      "[LightGBM] [Info] Total Bins 376\n",
      "[LightGBM] [Info] Number of data points in the train set: 568076, number of used features: 17\n",
      "[LightGBM] [Info] Start training from score 1.835427\n",
      "Learning rate set to 0.111526\n",
      "0:\tlearn: 1.2190499\ttotal: 287ms\tremaining: 4m 46s\n",
      "500:\tlearn: 0.3597480\ttotal: 2m 36s\tremaining: 2m 35s\n",
      "999:\tlearn: 0.3311385\ttotal: 5m 14s\tremaining: 0us\n",
      "Learning rate set to 0.111526\n",
      "0:\tlearn: 1.2196693\ttotal: 283ms\tremaining: 4m 42s\n",
      "500:\tlearn: 0.3580033\ttotal: 2m 32s\tremaining: 2m 32s\n",
      "999:\tlearn: 0.3303684\ttotal: 5m 8s\tremaining: 0us\n",
      "Learning rate set to 0.111526\n",
      "0:\tlearn: 1.2186005\ttotal: 310ms\tremaining: 5m 10s\n",
      "500:\tlearn: 0.3606690\ttotal: 2m 34s\tremaining: 2m 34s\n",
      "999:\tlearn: 0.3303496\ttotal: 5m 12s\tremaining: 0us\n",
      "Learning rate set to 0.111526\n",
      "0:\tlearn: 1.2203075\ttotal: 285ms\tremaining: 4m 44s\n",
      "500:\tlearn: 0.3594844\ttotal: 2m 33s\tremaining: 2m 32s\n",
      "999:\tlearn: 0.3299461\ttotal: 5m 7s\tremaining: 0us\n",
      "Learning rate set to 0.111526\n",
      "0:\tlearn: 1.2197535\ttotal: 280ms\tremaining: 4m 39s\n",
      "500:\tlearn: 0.3588327\ttotal: 2m 32s\tremaining: 2m 31s\n",
      "999:\tlearn: 0.3298643\ttotal: 5m 7s\tremaining: 0us\n",
      "0:\tlearn: 1.1460752\ttotal: 808ms\tremaining: 40m 23s\n",
      "1000:\tlearn: 0.2587240\ttotal: 12m 23s\tremaining: 24m 43s\n",
      "2000:\tlearn: 0.2455433\ttotal: 24m 55s\tremaining: 12m 26s\n",
      "2999:\tlearn: 0.2398149\ttotal: 37m 26s\tremaining: 0us\n",
      "0:\tlearn: 1.1462511\ttotal: 966ms\tremaining: 48m 17s\n",
      "1000:\tlearn: 0.2581925\ttotal: 12m 38s\tremaining: 25m 14s\n",
      "2000:\tlearn: 0.2456912\ttotal: 25m 28s\tremaining: 12m 43s\n",
      "2999:\tlearn: 0.2394691\ttotal: 38m 14s\tremaining: 0us\n",
      "0:\tlearn: 1.1456121\ttotal: 895ms\tremaining: 44m 44s\n",
      "1000:\tlearn: 0.2597698\ttotal: 12m 44s\tremaining: 25m 27s\n",
      "2000:\tlearn: 0.2464210\ttotal: 25m 43s\tremaining: 12m 50s\n",
      "2999:\tlearn: 0.2413609\ttotal: 38m 34s\tremaining: 0us\n",
      "0:\tlearn: 1.1472268\ttotal: 892ms\tremaining: 44m 35s\n",
      "1000:\tlearn: 0.2590952\ttotal: 12m 40s\tremaining: 25m 18s\n",
      "2000:\tlearn: 0.2460812\ttotal: 25m 37s\tremaining: 12m 47s\n",
      "2999:\tlearn: 0.2403416\ttotal: 38m 34s\tremaining: 0us\n",
      "0:\tlearn: 1.1281550\ttotal: 968ms\tremaining: 48m 24s\n",
      "1000:\tlearn: 0.2601535\ttotal: 12m 56s\tremaining: 25m 50s\n",
      "2000:\tlearn: 0.2478056\ttotal: 25m 46s\tremaining: 12m 51s\n",
      "2999:\tlearn: 0.2410283\ttotal: 38m 48s\tremaining: 0us\n",
      "0:\tlearn: 1.1508144\ttotal: 726ms\tremaining: 36m 15s\n",
      "1000:\tlearn: 0.3190949\ttotal: 12m 57s\tremaining: 25m 52s\n",
      "2000:\tlearn: 0.2963995\ttotal: 25m 50s\tremaining: 12m 53s\n",
      "2999:\tlearn: 0.2873820\ttotal: 38m 34s\tremaining: 0us\n",
      "0:\tlearn: 1.1517091\ttotal: 796ms\tremaining: 39m 46s\n",
      "1000:\tlearn: 0.3186101\ttotal: 12m 58s\tremaining: 25m 55s\n",
      "2000:\tlearn: 0.2971942\ttotal: 25m 47s\tremaining: 12m 52s\n",
      "2999:\tlearn: 0.2880074\ttotal: 38m 35s\tremaining: 0us\n",
      "0:\tlearn: 1.1510635\ttotal: 816ms\tremaining: 40m 48s\n",
      "1000:\tlearn: 0.3168157\ttotal: 13m 5s\tremaining: 26m 7s\n",
      "2000:\tlearn: 0.2958754\ttotal: 25m 51s\tremaining: 12m 54s\n",
      "2999:\tlearn: 0.2868801\ttotal: 38m 23s\tremaining: 0us\n",
      "0:\tlearn: 1.1533198\ttotal: 768ms\tremaining: 38m 21s\n",
      "1000:\tlearn: 0.3256406\ttotal: 12m 41s\tremaining: 25m 19s\n",
      "2000:\tlearn: 0.2989141\ttotal: 25m 32s\tremaining: 12m 45s\n",
      "2999:\tlearn: 0.2873563\ttotal: 38m 32s\tremaining: 0us\n",
      "0:\tlearn: 1.1535432\ttotal: 910ms\tremaining: 45m 30s\n",
      "1000:\tlearn: 0.3194420\ttotal: 12m 56s\tremaining: 25m 51s\n",
      "2000:\tlearn: 0.2979026\ttotal: 25m 35s\tremaining: 12m 46s\n",
      "2999:\tlearn: 0.2894215\ttotal: 38m 5s\tremaining: 0us\n"
     ]
    },
    {
     "data": {
      "text/plain": [
       "StackingRegressor(estimators=[('lgbm', LGBMRegressor()),\n",
       "                              ('cb_1',\n",
       "                               <catboost.core.CatBoostRegressor object at 0x00000209058F10D0>),\n",
       "                              ('cb_2',\n",
       "                               <catboost.core.CatBoostRegressor object at 0x00000209058F1B50>),\n",
       "                              ('cb_3',\n",
       "                               <catboost.core.CatBoostRegressor object at 0x00000209058F1AC0>)],\n",
       "                  final_estimator=LinearRegression())"
      ]
     },
     "execution_count": 258,
     "metadata": {},
     "output_type": "execute_result"
    }
   ],
   "source": [
    "reg.fit(X_train, y_train)"
   ]
  },
  {
   "cell_type": "code",
   "execution_count": 259,
   "id": "0f6492c7-13c4-42b5-b9eb-f60f43a55856",
   "metadata": {},
   "outputs": [
    {
     "name": "stdout",
     "output_type": "stream",
     "text": [
      "R2 score: 0.95\n"
     ]
    }
   ],
   "source": [
    "y_pred_2 = reg.predict(X_test)\n",
    "print('R2 score: {:.2f}'.format(r2_score(y_test, y_pred_2)))"
   ]
  },
  {
   "cell_type": "code",
   "execution_count": 260,
   "id": "b19db89e-0888-46a2-85c4-cd805eed4fc7",
   "metadata": {},
   "outputs": [
    {
     "data": {
      "text/html": [
       "<div>\n",
       "<style scoped>\n",
       "    .dataframe tbody tr th:only-of-type {\n",
       "        vertical-align: middle;\n",
       "    }\n",
       "\n",
       "    .dataframe tbody tr th {\n",
       "        vertical-align: top;\n",
       "    }\n",
       "\n",
       "    .dataframe thead th {\n",
       "        text-align: right;\n",
       "    }\n",
       "</style>\n",
       "<table border=\"1\" class=\"dataframe\">\n",
       "  <thead>\n",
       "    <tr style=\"text-align: right;\">\n",
       "      <th></th>\n",
       "      <th>model</th>\n",
       "      <th>MAE</th>\n",
       "      <th>MSE</th>\n",
       "      <th>RMSE</th>\n",
       "      <th>RMSLE</th>\n",
       "      <th>R2 adjusted</th>\n",
       "      <th>MPE_%</th>\n",
       "      <th>MAPE_%</th>\n",
       "      <th>WAPE_%</th>\n",
       "    </tr>\n",
       "  </thead>\n",
       "  <tbody>\n",
       "    <tr>\n",
       "      <th>0</th>\n",
       "      <td>Stacking_Sklearn</td>\n",
       "      <td>0.256047</td>\n",
       "      <td>0.168581</td>\n",
       "      <td>0.410586</td>\n",
       "      <td>None</td>\n",
       "      <td>0.947661</td>\n",
       "      <td>NaN</td>\n",
       "      <td>inf</td>\n",
       "      <td>13.942003</td>\n",
       "    </tr>\n",
       "  </tbody>\n",
       "</table>\n",
       "</div>"
      ],
      "text/plain": [
       "              model       MAE       MSE      RMSE RMSLE  R2 adjusted  MPE_%  \\\n",
       "0  Stacking_Sklearn  0.256047  0.168581  0.410586  None     0.947661    NaN   \n",
       "\n",
       "   MAPE_%     WAPE_%  \n",
       "0     inf  13.942003  "
      ]
     },
     "execution_count": 260,
     "metadata": {},
     "output_type": "execute_result"
    }
   ],
   "source": [
    "get_metrics_regression(y_test=y_test,\n",
    "                       y_pred=y_pred_2,\n",
    "                       X_test=X_test,\n",
    "                       name='Stacking_Sklearn')"
   ]
  },
  {
   "cell_type": "code",
   "execution_count": 262,
   "id": "ae0db42e-3102-49e7-a9ed-8e35dfa2af80",
   "metadata": {},
   "outputs": [
    {
     "name": "stdout",
     "output_type": "stream",
     "text": [
      "mean_absolute_error train: 0.244\n",
      "mean_absolute_error test: 0.256\n",
      "delta = 4.9 %\n"
     ]
    }
   ],
   "source": [
    "check_overfitting(reg, X_train, y_train, X_test, y_test, mean_absolute_error)"
   ]
  },
  {
   "cell_type": "code",
   "execution_count": 261,
   "id": "24a2f312-cc49-43fe-bd45-363aa8ab5b0d",
   "metadata": {},
   "outputs": [
    {
     "data": {
      "text/plain": [
       "['stacking_sklearn.pkl']"
      ]
     },
     "execution_count": 261,
     "metadata": {},
     "output_type": "execute_result"
    }
   ],
   "source": [
    "joblib.dump(reg, \"stacking_sklearn.pkl\")"
   ]
  },
  {
   "cell_type": "markdown",
   "id": "e0ab0f9e-9aac-42c6-b214-2ba56e17c94c",
   "metadata": {},
   "source": [
    "Вывод:  \n",
    "При использование ансамблей моделей (стэкинг) результаты получились немного хуже чем при обучении на кросс валидации.  \n",
    "То есть из всех рассмотренных алгоритмов лучшие метрики:  \n",
    "* при применении кросс-валидации  \n",
    "* ансамблировании с помощью стэкинга  "
   ]
  }
 ],
 "metadata": {
  "kernelspec": {
   "display_name": "Python 3 (ipykernel)",
   "language": "python",
   "name": "python3"
  },
  "language_info": {
   "codemirror_mode": {
    "name": "ipython",
    "version": 3
   },
   "file_extension": ".py",
   "mimetype": "text/x-python",
   "name": "python",
   "nbconvert_exporter": "python",
   "pygments_lexer": "ipython3",
   "version": "3.9.5"
  }
 },
 "nbformat": 4,
 "nbformat_minor": 5
}
