{
 "cells": [
  {
   "cell_type": "markdown",
   "id": "367614d0-6cc4-444b-b8df-8ba42b1966e2",
   "metadata": {},
   "source": [
    "# 5. Подбор моделей"
   ]
  },
  {
   "cell_type": "markdown",
   "id": "8efe67f7-3246-4cca-86da-6c663b34ce5a",
   "metadata": {},
   "source": [
    "1. Между признаками и целевой переменной нет линейной зависимости - модель линейной регрессии не применима; \n",
    "2. 18 признаков и 900 тыс. строк - случайные леса будут требовать больших ресурсов (врменные и по мощности);   \n",
    "3. Для данной задачи самыми оптимальными будут бустинги  "
   ]
  },
  {
   "cell_type": "code",
   "execution_count": 33,
   "id": "97642299-8afd-4b91-9e1e-8b6f44e88914",
   "metadata": {},
   "outputs": [],
   "source": [
    "df = pd.read_csv(r\"C:\\Users\\ozhiganov_dv\\Jupyter\\PyMagic\\09. Pet-project\\data\\df_2\")"
   ]
  },
  {
   "cell_type": "code",
   "execution_count": 36,
   "id": "a1bce994-4cfb-4f44-b3e2-d62888517a91",
   "metadata": {},
   "outputs": [],
   "source": [
    "cat_cols = df.select_dtypes('object').columns\n",
    "df[cat_cols] = df[cat_cols].astype(\"category\")"
   ]
  },
  {
   "cell_type": "markdown",
   "id": "e2d4a80a-8dad-4b67-b8c8-e7fbf4f905fe",
   "metadata": {},
   "source": [
    "## CatBoost. Baseline  "
   ]
  },
  {
   "cell_type": "code",
   "execution_count": 37,
   "id": "8120172f-f312-41c5-961c-d37193fe28ac",
   "metadata": {},
   "outputs": [],
   "source": [
    "X = df.drop(['MASSA_TN'], axis=1)\n",
    "y = df['MASSA_TN']\n",
    "\n",
    "X_train, X_test, y_train, y_test = train_test_split(X,\n",
    "                                                    y,\n",
    "                                                    test_size=0.2,\n",
    "                                                    shuffle=True,\n",
    "                                                    random_state=RAND)\n",
    "\n",
    "X_train_, X_val, y_train_, y_val = train_test_split(X_train,\n",
    "                                                    y_train,\n",
    "                                                    test_size=0.16,\n",
    "                                                    shuffle=True,\n",
    "                                                    random_state=RAND)"
   ]
  },
  {
   "cell_type": "code",
   "execution_count": 38,
   "id": "f63d2b1a-886b-4875-94f1-8dd2cb04b791",
   "metadata": {},
   "outputs": [],
   "source": [
    "cat_features = X_val.select_dtypes('category').columns.tolist()\n",
    "\n",
    "rgr_cb = CatBoostRegressor(allow_writing_files=False,\n",
    "                        random_state=RAND,\n",
    "                        eval_metric=\"MAE\",\n",
    "                        cat_features=cat_features)\n",
    "eval_set = [(X_val, y_val)]\n",
    "\n",
    "rgr_cb.fit(X_train_,\n",
    "        y_train_,\n",
    "        eval_set=eval_set,\n",
    "        verbose=False,\n",
    "        early_stopping_rounds=100)\n",
    "\n",
    "y_pred = rgr_cb.predict(X_test)"
   ]
  },
  {
   "cell_type": "code",
   "execution_count": 181,
   "id": "68a5c4cb-df92-4214-9eec-fe4e706a95f5",
   "metadata": {},
   "outputs": [],
   "source": [
    "def check_overfitting(model, X_train, y_train, X_test, y_test, metric_fun):\n",
    "    \"\"\"\n",
    "    Проверка на overfitting для регрессии\n",
    "    \"\"\"\n",
    "    y_pred_train = model.predict(X_train)\n",
    "    y_pred_test = model.predict(X_test)\n",
    "    value_train = metric_fun(y_train, y_pred_train)\n",
    "    value_test = metric_fun(y_test, y_pred_test)\n",
    "\n",
    "    print(f'{metric_fun.__name__} train: %.3f' % value_train)\n",
    "    print(f'{metric_fun.__name__} test: %.3f' % value_test)\n",
    "    print(f'delta = {(abs(value_train - value_test)/value_test*100):.1f} %')"
   ]
  },
  {
   "cell_type": "code",
   "execution_count": 41,
   "id": "5cc40081-331b-4f1b-abc7-36735622892e",
   "metadata": {},
   "outputs": [
    {
     "name": "stdout",
     "output_type": "stream",
     "text": [
      "mean_absolute_error train: 0.315\n",
      "mean_absolute_error test: 0.318\n",
      "delta = 1.0 %\n"
     ]
    }
   ],
   "source": [
    "# проверка переобучения\n",
    "check_overfitting(rgr_cb, X_train_, y_train_, X_test, y_test, mean_absolute_error)"
   ]
  },
  {
   "cell_type": "code",
   "execution_count": 42,
   "id": "85f1784c-0a23-479a-bbf4-31961d66caf1",
   "metadata": {},
   "outputs": [
    {
     "data": {
      "text/html": [
       "<div>\n",
       "<style scoped>\n",
       "    .dataframe tbody tr th:only-of-type {\n",
       "        vertical-align: middle;\n",
       "    }\n",
       "\n",
       "    .dataframe tbody tr th {\n",
       "        vertical-align: top;\n",
       "    }\n",
       "\n",
       "    .dataframe thead th {\n",
       "        text-align: right;\n",
       "    }\n",
       "</style>\n",
       "<table border=\"1\" class=\"dataframe\">\n",
       "  <thead>\n",
       "    <tr style=\"text-align: right;\">\n",
       "      <th></th>\n",
       "      <th>model</th>\n",
       "      <th>MAE</th>\n",
       "      <th>MSE</th>\n",
       "      <th>RMSE</th>\n",
       "      <th>RMSLE</th>\n",
       "      <th>R2 adjusted</th>\n",
       "      <th>MPE_%</th>\n",
       "      <th>MAPE_%</th>\n",
       "      <th>WAPE_%</th>\n",
       "    </tr>\n",
       "  </thead>\n",
       "  <tbody>\n",
       "    <tr>\n",
       "      <th>0</th>\n",
       "      <td>CatBoost_eval_baseline</td>\n",
       "      <td>0.318326</td>\n",
       "      <td>0.238707</td>\n",
       "      <td>0.488577</td>\n",
       "      <td>None</td>\n",
       "      <td>0.925889</td>\n",
       "      <td>NaN</td>\n",
       "      <td>inf</td>\n",
       "      <td>17.333156</td>\n",
       "    </tr>\n",
       "  </tbody>\n",
       "</table>\n",
       "</div>"
      ],
      "text/plain": [
       "                    model       MAE       MSE      RMSE RMSLE  R2 adjusted  \\\n",
       "0  CatBoost_eval_baseline  0.318326  0.238707  0.488577  None     0.925889   \n",
       "\n",
       "   MPE_%  MAPE_%     WAPE_%  \n",
       "0    NaN     inf  17.333156  "
      ]
     },
     "execution_count": 42,
     "metadata": {},
     "output_type": "execute_result"
    }
   ],
   "source": [
    "metrics = get_metrics_regression(y_test=y_test,\n",
    "                           y_pred=y_pred,\n",
    "                           X_test=X_test,\n",
    "                           name='CatBoost_eval_baseline')\n",
    "metrics"
   ]
  },
  {
   "cell_type": "markdown",
   "id": "9299bf65-92ae-4c82-839a-aff69728c9a0",
   "metadata": {},
   "source": [
    "На baseline метрики неплохие. Переобучения нет."
   ]
  },
  {
   "cell_type": "markdown",
   "id": "6804dd71-89a9-424c-8820-8f5d9ec65164",
   "metadata": {
    "tags": []
   },
   "source": [
    "## LGBM. Baseline"
   ]
  },
  {
   "cell_type": "code",
   "execution_count": 47,
   "id": "2012088a-407f-4ade-904a-8dc0d23c1769",
   "metadata": {},
   "outputs": [
    {
     "name": "stdout",
     "output_type": "stream",
     "text": [
      "[LightGBM] [Info] Auto-choosing row-wise multi-threading, the overhead of testing was 0.014688 seconds.\n",
      "You can set `force_row_wise=true` to remove the overhead.\n",
      "And if memory is not enough, you can set `force_col_wise=true`.\n",
      "[LightGBM] [Info] Total Bins 376\n",
      "[LightGBM] [Info] Number of data points in the train set: 596478, number of used features: 17\n",
      "[LightGBM] [Info] Start training from score 1.263928\n"
     ]
    }
   ],
   "source": [
    "rgr_lgbm = LGBMRegressor(random_state=RAND, objective='mae')\n",
    "rgr_lgbm.fit(X_train_,\n",
    "        y_train_,\n",
    "        eval_metric=\"mae\",\n",
    "        eval_set=eval_set)\n",
    "\n",
    "y_pred = rgr_lgbm.predict(X_test)"
   ]
  },
  {
   "cell_type": "code",
   "execution_count": 48,
   "id": "b5b398fb-cd51-4c82-a3de-d661d12f54eb",
   "metadata": {},
   "outputs": [
    {
     "name": "stdout",
     "output_type": "stream",
     "text": [
      "mean_absolute_error train: 0.330\n",
      "mean_absolute_error test: 0.333\n",
      "delta = 0.9 %\n"
     ]
    }
   ],
   "source": [
    "check_overfitting(rgr_lgbm, X_train_, y_train_, X_test, y_test, mean_absolute_error)"
   ]
  },
  {
   "cell_type": "code",
   "execution_count": 50,
   "id": "9ea8853e-42f6-49ea-9105-bd83930e403c",
   "metadata": {},
   "outputs": [],
   "source": [
    "metrics = pd.concat([metrics, get_metrics_regression(y_test=y_test,\n",
    "                                                     y_pred=y_pred,\n",
    "                                                     X_test=X_test,\n",
    "                                                     name='LGBMRegressor_baseline')])"
   ]
  },
  {
   "cell_type": "code",
   "execution_count": 51,
   "id": "9cb2643a-8c95-4a41-beca-59b1e04e1ed3",
   "metadata": {},
   "outputs": [
    {
     "data": {
      "text/html": [
       "<div>\n",
       "<style scoped>\n",
       "    .dataframe tbody tr th:only-of-type {\n",
       "        vertical-align: middle;\n",
       "    }\n",
       "\n",
       "    .dataframe tbody tr th {\n",
       "        vertical-align: top;\n",
       "    }\n",
       "\n",
       "    .dataframe thead th {\n",
       "        text-align: right;\n",
       "    }\n",
       "</style>\n",
       "<table border=\"1\" class=\"dataframe\">\n",
       "  <thead>\n",
       "    <tr style=\"text-align: right;\">\n",
       "      <th></th>\n",
       "      <th>model</th>\n",
       "      <th>MAE</th>\n",
       "      <th>MSE</th>\n",
       "      <th>RMSE</th>\n",
       "      <th>RMSLE</th>\n",
       "      <th>R2 adjusted</th>\n",
       "      <th>MPE_%</th>\n",
       "      <th>MAPE_%</th>\n",
       "      <th>WAPE_%</th>\n",
       "    </tr>\n",
       "  </thead>\n",
       "  <tbody>\n",
       "    <tr>\n",
       "      <th>0</th>\n",
       "      <td>CatBoost_eval_baseline</td>\n",
       "      <td>0.318326</td>\n",
       "      <td>0.238707</td>\n",
       "      <td>0.488577</td>\n",
       "      <td>None</td>\n",
       "      <td>0.925889</td>\n",
       "      <td>NaN</td>\n",
       "      <td>inf</td>\n",
       "      <td>17.333156</td>\n",
       "    </tr>\n",
       "    <tr>\n",
       "      <th>0</th>\n",
       "      <td>LGBMRegressor_baseline</td>\n",
       "      <td>0.332521</td>\n",
       "      <td>0.321677</td>\n",
       "      <td>0.567166</td>\n",
       "      <td>None</td>\n",
       "      <td>0.900129</td>\n",
       "      <td>NaN</td>\n",
       "      <td>inf</td>\n",
       "      <td>18.106082</td>\n",
       "    </tr>\n",
       "  </tbody>\n",
       "</table>\n",
       "</div>"
      ],
      "text/plain": [
       "                    model       MAE       MSE      RMSE RMSLE  R2 adjusted  \\\n",
       "0  CatBoost_eval_baseline  0.318326  0.238707  0.488577  None     0.925889   \n",
       "0  LGBMRegressor_baseline  0.332521  0.321677  0.567166  None     0.900129   \n",
       "\n",
       "   MPE_%  MAPE_%     WAPE_%  \n",
       "0    NaN     inf  17.333156  \n",
       "0    NaN     inf  18.106082  "
      ]
     },
     "execution_count": 51,
     "metadata": {},
     "output_type": "execute_result"
    }
   ],
   "source": [
    "metrics.head(2)"
   ]
  },
  {
   "cell_type": "markdown",
   "id": "d9c10ad4-4241-4f9a-8546-ecf777844895",
   "metadata": {},
   "source": [
    "1. переобучения нет на обеих моделях  \n",
    "2. catboost на baseline показывает более лучшие метрики - подбор гиперпараметров буду производить на этом алгоритме  "
   ]
  },
  {
   "cell_type": "markdown",
   "id": "40104fd1-76bf-470b-8e2c-afaebd0af740",
   "metadata": {},
   "source": [
    "## CatBoost. Tuning  \n",
    "### RandomSearch"
   ]
  },
  {
   "cell_type": "code",
   "execution_count": 56,
   "id": "d05b0162-a145-4c9a-986b-a4e309f82ca1",
   "metadata": {
    "tags": []
   },
   "outputs": [
    {
     "data": {
      "application/vnd.jupyter.widget-view+json": {
       "model_id": "b3c19d23a07b46a4a150c8ddff3fb921",
       "version_major": 2,
       "version_minor": 0
      },
      "text/plain": [
       "MetricVisualizer(layout=Layout(align_self='stretch', height='500px'))"
      ]
     },
     "metadata": {},
     "output_type": "display_data"
    },
    {
     "name": "stdout",
     "output_type": "stream",
     "text": [
      "\n",
      "bestTest = 0.5282407628\n",
      "bestIteration = 2999\n",
      "\n",
      "0:\tloss: 0.5282408\tbest: 0.5282408 (0)\ttotal: 50m 9s\tremaining: 7h 31m 24s\n",
      "\n",
      "bestTest = 0.6436388415\n",
      "bestIteration = 2999\n",
      "\n",
      "1:\tloss: 0.6436388\tbest: 0.5282408 (0)\ttotal: 59m 10s\tremaining: 3h 56m 40s\n",
      "\n",
      "bestTest = 0.2895103463\n",
      "bestIteration = 2998\n",
      "\n",
      "2:\tloss: 0.2895103\tbest: 0.2895103 (2)\ttotal: 1h 31m 54s\tremaining: 3h 34m 26s\n",
      "\n",
      "bestTest = 0.3501614051\n",
      "bestIteration = 2999\n",
      "\n",
      "3:\tloss: 0.3501614\tbest: 0.2895103 (2)\ttotal: 1h 43m 5s\tremaining: 2h 34m 38s\n",
      "\n",
      "bestTest = 0.3365931519\n",
      "bestIteration = 2999\n",
      "\n",
      "4:\tloss: 0.3365932\tbest: 0.2895103 (2)\ttotal: 1h 53m 11s\tremaining: 1h 53m 11s\n",
      "\n",
      "bestTest = 0.9042882857\n",
      "bestIteration = 2999\n",
      "\n",
      "5:\tloss: 0.9042883\tbest: 0.2895103 (2)\ttotal: 1h 57m 53s\tremaining: 1h 18m 35s\n",
      "\n",
      "bestTest = 0.9041307009\n",
      "bestIteration = 2999\n",
      "\n",
      "6:\tloss: 0.9041307\tbest: 0.2895103 (2)\ttotal: 2h 3m 18s\tremaining: 52m 50s\n",
      "\n",
      "bestTest = 0.36585248\n",
      "bestIteration = 2999\n",
      "\n",
      "7:\tloss: 0.3658525\tbest: 0.2895103 (2)\ttotal: 2h 13m 49s\tremaining: 33m 27s\n",
      "Estimating final quality...\n",
      "Training on fold [0/3]\n",
      "\n",
      "bestTest = 0.2927582659\n",
      "bestIteration = 2999\n",
      "\n",
      "Training on fold [1/3]\n",
      "\n",
      "bestTest = 0.2899881059\n",
      "bestIteration = 2999\n",
      "\n",
      "Training on fold [2/3]\n",
      "\n",
      "bestTest = 0.2896300866\n",
      "bestIteration = 2998\n",
      "\n"
     ]
    }
   ],
   "source": [
    "grid = {\n",
    "    \"n_estimators\": [3000],\n",
    "    \"learning_rate\": [0.0008, 0.1],\n",
    "    \"boosting_type\" : ['Ordered', 'Plain'],\n",
    "    \"max_depth\": list(range(1, 12)),\n",
    "    \"l2_leaf_reg\": np.logspace(-5, 2, 5),\n",
    "    \"bootstrap_type\": [\"Bayesian\", \"Bernoulli\", \"MVS\", \"No\"],\n",
    "    'border_count': [100, 500],\n",
    "    'grow_policy': [\"SymmetricTree\", \"Depthwise\", \"Lossguide\"],\n",
    "    \"random_state\": [RAND]\n",
    "\n",
    "}\n",
    "\n",
    "model = CatBoostRegressor(loss_function=\"MAE\",\n",
    "                          eval_metric=\"MAE\",\n",
    "                          cat_features=cat_features,\n",
    "                          silent=True)\n",
    "grid_search_result = model.randomized_search(grid,\n",
    "                                             X=X_train,\n",
    "                                             y=y_train,\n",
    "                                             plot=True)"
   ]
  },
  {
   "cell_type": "code",
   "execution_count": 57,
   "id": "5ba526b2-f626-4a88-9db6-42ad30209698",
   "metadata": {},
   "outputs": [
    {
     "data": {
      "text/plain": [
       "{'border_count': 100,\n",
       " 'random_seed': 10,\n",
       " 'depth': 7,\n",
       " 'iterations': 3000,\n",
       " 'learning_rate': 0.1,\n",
       " 'l2_leaf_reg': 0.0005623413251903491,\n",
       " 'grow_policy': 'SymmetricTree',\n",
       " 'boosting_type': 'Ordered',\n",
       " 'bootstrap_type': 'No'}"
      ]
     },
     "execution_count": 57,
     "metadata": {},
     "output_type": "execute_result"
    }
   ],
   "source": [
    "grid_search_result['params']"
   ]
  },
  {
   "cell_type": "code",
   "execution_count": 58,
   "id": "1994a6ca-68d6-41cc-9192-03defb3570e7",
   "metadata": {},
   "outputs": [],
   "source": [
    "cat_grid = CatBoostRegressor(**grid_search_result['params'],\n",
    "                             loss_function='MAE',\n",
    "                             eval_metric='MAE')\n",
    "cat_grid.fit(X_train_,\n",
    "             y_train_,\n",
    "             cat_features=cat_features,\n",
    "             eval_set=eval_set,\n",
    "             verbose=False,\n",
    "             early_stopping_rounds=100)\n",
    "\n",
    "y_pred = cat_grid.predict(X_test)"
   ]
  },
  {
   "cell_type": "code",
   "execution_count": 59,
   "id": "ca14ba73-6b2c-43ab-838e-207aad0d3110",
   "metadata": {},
   "outputs": [
    {
     "data": {
      "text/html": [
       "<div>\n",
       "<style scoped>\n",
       "    .dataframe tbody tr th:only-of-type {\n",
       "        vertical-align: middle;\n",
       "    }\n",
       "\n",
       "    .dataframe tbody tr th {\n",
       "        vertical-align: top;\n",
       "    }\n",
       "\n",
       "    .dataframe thead th {\n",
       "        text-align: right;\n",
       "    }\n",
       "</style>\n",
       "<table border=\"1\" class=\"dataframe\">\n",
       "  <thead>\n",
       "    <tr style=\"text-align: right;\">\n",
       "      <th></th>\n",
       "      <th>model</th>\n",
       "      <th>MAE</th>\n",
       "      <th>MSE</th>\n",
       "      <th>RMSE</th>\n",
       "      <th>RMSLE</th>\n",
       "      <th>R2 adjusted</th>\n",
       "      <th>MPE_%</th>\n",
       "      <th>MAPE_%</th>\n",
       "      <th>WAPE_%</th>\n",
       "    </tr>\n",
       "  </thead>\n",
       "  <tbody>\n",
       "    <tr>\n",
       "      <th>0</th>\n",
       "      <td>CatBoost_eval_baseline</td>\n",
       "      <td>0.318326</td>\n",
       "      <td>0.238707</td>\n",
       "      <td>0.488577</td>\n",
       "      <td>None</td>\n",
       "      <td>0.925889</td>\n",
       "      <td>NaN</td>\n",
       "      <td>inf</td>\n",
       "      <td>17.333156</td>\n",
       "    </tr>\n",
       "    <tr>\n",
       "      <th>0</th>\n",
       "      <td>LGBMRegressor_baseline</td>\n",
       "      <td>0.332521</td>\n",
       "      <td>0.321677</td>\n",
       "      <td>0.567166</td>\n",
       "      <td>None</td>\n",
       "      <td>0.900129</td>\n",
       "      <td>NaN</td>\n",
       "      <td>inf</td>\n",
       "      <td>18.106082</td>\n",
       "    </tr>\n",
       "    <tr>\n",
       "      <th>0</th>\n",
       "      <td>CatBoost_RandGrid</td>\n",
       "      <td>0.286569</td>\n",
       "      <td>0.220413</td>\n",
       "      <td>0.469482</td>\n",
       "      <td>None</td>\n",
       "      <td>0.931569</td>\n",
       "      <td>NaN</td>\n",
       "      <td>inf</td>\n",
       "      <td>15.603974</td>\n",
       "    </tr>\n",
       "  </tbody>\n",
       "</table>\n",
       "</div>"
      ],
      "text/plain": [
       "                    model       MAE       MSE      RMSE RMSLE  R2 adjusted  \\\n",
       "0  CatBoost_eval_baseline  0.318326  0.238707  0.488577  None     0.925889   \n",
       "0  LGBMRegressor_baseline  0.332521  0.321677  0.567166  None     0.900129   \n",
       "0       CatBoost_RandGrid  0.286569  0.220413  0.469482  None     0.931569   \n",
       "\n",
       "   MPE_%  MAPE_%     WAPE_%  \n",
       "0    NaN     inf  17.333156  \n",
       "0    NaN     inf  18.106082  \n",
       "0    NaN     inf  15.603974  "
      ]
     },
     "execution_count": 59,
     "metadata": {},
     "output_type": "execute_result"
    }
   ],
   "source": [
    "metrics = pd.concat([metrics, get_metrics_regression(y_test=y_test,\n",
    "                                           y_pred=y_pred,\n",
    "                                           X_test=X_test,\n",
    "                                           name='CatBoost_RandGrid')])\n",
    "\n",
    "metrics"
   ]
  },
  {
   "cell_type": "code",
   "execution_count": 60,
   "id": "b4639ff3-7c6f-4e86-b00f-45fac721f220",
   "metadata": {},
   "outputs": [
    {
     "name": "stdout",
     "output_type": "stream",
     "text": [
      "mean_absolute_error train: 0.282\n",
      "mean_absolute_error test: 0.287\n",
      "delta = 1.7 %\n"
     ]
    }
   ],
   "source": [
    "# проверка не переобучилась ли модель\n",
    "check_overfitting(cat_grid, X_train_, y_train_, X_test, y_test, mean_absolute_error)"
   ]
  },
  {
   "cell_type": "markdown",
   "id": "5178d143-4423-4e6b-9253-bcd1d9f4afe9",
   "metadata": {},
   "source": [
    "После подбора гиперпараметров удалось улучшить метрики. Переобучения также нет."
   ]
  },
  {
   "cell_type": "markdown",
   "id": "1a58f2ae-f49e-475e-b01d-126c80c1ba0e",
   "metadata": {},
   "source": [
    "### Optuna"
   ]
  },
  {
   "cell_type": "code",
   "execution_count": 61,
   "id": "66e33028-112b-4805-ab18-9e2b518b5754",
   "metadata": {},
   "outputs": [],
   "source": [
    "# целевая функция. подбор learning_rate при n_estimators=3000\n",
    "def objective_lgb(trial, X, y, N_FOLDS, random_state, cat_feat):\n",
    "    params = {\n",
    "        # взято значение = 100, чтобы бы быстрее нашлись параметры\n",
    "        \"n_estimators\": trial.suggest_categorical(\"n_estimators\", [3000]),\n",
    "        # \"learning_rate\": trial.suggest_categorical(\"learning_rate\", [0.08797829241393999]),\n",
    "        \"learning_rate\": trial.suggest_float(\"learning_rate\", 0.001, 0.3, log=True),\n",
    "#         \"max_depth\": trial.suggest_int(\"max_depth\", 3, 12),\n",
    "#         \"colsample_bylevel\": trial.suggest_float(\"colsample_bylevel\", 0.5,1.0),\n",
    "#         \"l2_leaf_reg\": trial.suggest_uniform(\"l2_leaf_reg\", 1e-5, 1e2),\n",
    "#         'random_strength': trial.suggest_uniform('random_strength', 10, 50),\n",
    "#         \"bootstrap_type\": trial.suggest_categorical(\"bootstrap_type\", [\"Bayesian\", \"Bernoulli\", \"MVS\", \"No\"]),\n",
    "#         'border_count': trial.suggest_categorical('border_count', [128, 254]),\n",
    "#         'grow_policy': trial.suggest_categorical('grow_policy', [\"SymmetricTree\", \"Depthwise\", \"Lossguide\"]),\n",
    "\n",
    "#         'od_wait': trial.suggest_int('od_wait', 500, 2000),\n",
    "#         'leaf_estimation_iterations': trial.suggest_int('leaf_estimation_iterations', 1, 15),\n",
    "#         # \"cat_features\": trial.suggest_categorical(\"cat_features\", [\"cat_features\"])\n",
    "#         \"loss_function\": trial.suggest_categorical(\"loss_function\", [\"MAE\"]),\n",
    "#         \"use_best_model\": trial.suggest_categorical(\"use_best_model\", [True]),\n",
    "#         \"eval_metric\": trial.suggest_categorical(\"eval_metric\", [\"MAE\"]),\n",
    "        \"random_state\": random_state\n",
    "    }\n",
    "\n",
    "    # if params[\"bootstrap_type\"] == \"Bayesian\":\n",
    "    #     params[\"bagging_temperature\"] = trial.suggest_float(\n",
    "    #         \"bagging_temperature\", 0, 100)\n",
    "    # elif params[\"bootstrap_type\"] == \"Bernoulli\":\n",
    "    #     params[\"subsample\"] = trial.suggest_float(\n",
    "    #         \"subsample\", 0.1, 1, log=True)\n",
    "\n",
    "    cv = KFold(n_splits=N_FOLDS, shuffle=True, random_state=RAND)\n",
    "\n",
    "    cv_predicts = np.empty(N_FOLDS)\n",
    "    for idx, (train_idx, test_idx) in enumerate(cv.split(X, y)):\n",
    "        X_train, X_test = X.iloc[train_idx], X.iloc[test_idx]\n",
    "        y_train, y_test = y.iloc[train_idx], y.iloc[test_idx]\n",
    "\n",
    "        train_data = Pool(data=X_train, label=y_train, cat_features=cat_feat)\n",
    "        eval_data = Pool(data=X_test, label=y_test, cat_features=cat_feat)\n",
    "\n",
    "        model = CatBoostRegressor(**params)\n",
    "        model.fit(train_data,\n",
    "                  eval_set=eval_data,\n",
    "                  early_stopping_rounds=100,\n",
    "                  verbose=0)\n",
    "\n",
    "        preds = model.predict(X_test)\n",
    "        cv_predicts[idx] = mean_absolute_error(y_test, preds)\n",
    "\n",
    "    return np.mean(cv_predicts)"
   ]
  },
  {
   "cell_type": "code",
   "execution_count": 62,
   "id": "b736202a-fb25-4ee7-8119-e791fcfa5e18",
   "metadata": {},
   "outputs": [
    {
     "name": "stderr",
     "output_type": "stream",
     "text": [
      "[I 2023-11-28 03:38:17,159] A new study created in memory with name: Cat_02\n"
     ]
    },
    {
     "data": {
      "application/vnd.jupyter.widget-view+json": {
       "model_id": "8e72b6f205654194b84ac9ce3db9b3db",
       "version_major": 2,
       "version_minor": 0
      },
      "text/plain": [
       "  0%|          | 0/2 [00:00<?, ?it/s]"
      ]
     },
     "metadata": {},
     "output_type": "display_data"
    },
    {
     "name": "stdout",
     "output_type": "stream",
     "text": [
      "[I 2023-11-28 04:33:35,885] Trial 0 finished with value: 0.5416723084044406 and parameters: {'n_estimators': 3000, 'learning_rate': 0.0013229094468390217}. Best is trial 0 with value: 0.5416723084044406.\n",
      "[I 2023-11-28 05:53:33,143] Trial 1 finished with value: 0.28385824810768123 and parameters: {'n_estimators': 3000, 'learning_rate': 0.14295150734048512}. Best is trial 1 with value: 0.28385824810768123.\n"
     ]
    }
   ],
   "source": [
    "study_cat = optuna.create_study(\n",
    "    direction=\"minimize\",\n",
    "    pruner=optuna.pruners.SuccessiveHalvingPruner(),\n",
    "    study_name=\"Cat_02\")\n",
    "func = lambda trial: objective_lgb(trial,\n",
    "                                   X_train,\n",
    "                                   y_train,\n",
    "                                   N_FOLDS=N_FOLDS,\n",
    "                                   random_state=RAND,\n",
    "                                   cat_feat=cat_features)\n",
    "study_cat.optimize(func, n_trials=2, show_progress_bar=True)"
   ]
  },
  {
   "cell_type": "code",
   "execution_count": 63,
   "id": "6869ee85-d793-4e99-add4-de47cecff1b6",
   "metadata": {},
   "outputs": [
    {
     "data": {
      "text/plain": [
       "{'n_estimators': 3000, 'learning_rate': 0.14295150734048512}"
      ]
     },
     "execution_count": 63,
     "metadata": {},
     "output_type": "execute_result"
    }
   ],
   "source": [
    "study_cat.best_params"
   ]
  },
  {
   "cell_type": "code",
   "execution_count": 64,
   "id": "6b0550d9-bada-49ef-b5f7-4bd2c5fd8c22",
   "metadata": {},
   "outputs": [],
   "source": [
    "# целевая функция. подбор остальным гиперпараметров с зафиксированным learning_rate\n",
    "def objective_lgb(trial, X, y, N_FOLDS, random_state, cat_feat):\n",
    "    params = {\n",
    "        # взято значение = 100, чтобы бы быстрее нашлись параметры\n",
    "        \"n_estimators\": trial.suggest_categorical(\"n_estimators\", [3000]),\n",
    "        \"learning_rate\": trial.suggest_categorical(\"learning_rate\", [0.14295150734048512]),\n",
    "        \"max_depth\": trial.suggest_int(\"max_depth\", 3, 12),\n",
    "        \"colsample_bylevel\": trial.suggest_float(\"colsample_bylevel\", 0.5,1.0),\n",
    "        \"l2_leaf_reg\": trial.suggest_uniform(\"l2_leaf_reg\", 1e-5, 1e2),\n",
    "        'random_strength': trial.suggest_uniform('random_strength', 10, 50),\n",
    "        \"bootstrap_type\": trial.suggest_categorical(\"bootstrap_type\", [\"Bayesian\", \"Bernoulli\", \"MVS\", \"No\"]),\n",
    "        'border_count': trial.suggest_categorical('border_count', [128, 254]),\n",
    "        'grow_policy': trial.suggest_categorical('grow_policy', [\"SymmetricTree\", \"Depthwise\", \"Lossguide\"]),\n",
    "\n",
    "        'od_wait': trial.suggest_int('od_wait', 500, 2000),\n",
    "        'leaf_estimation_iterations': trial.suggest_int('leaf_estimation_iterations', 1, 15),\n",
    "        # \"cat_features\": trial.suggest_categorical(\"cat_features\", [\"cat_features\"])\n",
    "        \"loss_function\": trial.suggest_categorical(\"loss_function\", [\"MAE\"]),\n",
    "        \"use_best_model\": trial.suggest_categorical(\"use_best_model\", [True]),\n",
    "        \"eval_metric\": trial.suggest_categorical(\"eval_metric\", [\"MAE\"]),\n",
    "        \"random_state\": random_state\n",
    "    }\n",
    "\n",
    "    if params[\"bootstrap_type\"] == \"Bayesian\":\n",
    "        params[\"bagging_temperature\"] = trial.suggest_float(\n",
    "            \"bagging_temperature\", 0, 100)\n",
    "    elif params[\"bootstrap_type\"] == \"Bernoulli\":\n",
    "        params[\"subsample\"] = trial.suggest_float(\n",
    "            \"subsample\", 0.1, 1, log=True)\n",
    "\n",
    "    cv = KFold(n_splits=N_FOLDS, shuffle=True, random_state=RAND)\n",
    "\n",
    "    cv_predicts = np.empty(N_FOLDS)\n",
    "    for idx, (train_idx, test_idx) in enumerate(cv.split(X, y)):\n",
    "        X_train, X_test = X.iloc[train_idx], X.iloc[test_idx]\n",
    "        y_train, y_test = y.iloc[train_idx], y.iloc[test_idx]\n",
    "\n",
    "        train_data = Pool(data=X_train, label=y_train, cat_features=cat_feat)\n",
    "        eval_data = Pool(data=X_test, label=y_test, cat_features=cat_feat)\n",
    "\n",
    "        model = CatBoostRegressor(**params)\n",
    "        model.fit(train_data,\n",
    "                  eval_set=eval_data,\n",
    "                  early_stopping_rounds=100,\n",
    "                  verbose=0)\n",
    "\n",
    "        preds = model.predict(X_test)\n",
    "        cv_predicts[idx] = mean_absolute_error(y_test, preds)\n",
    "\n",
    "    return np.mean(cv_predicts)"
   ]
  },
  {
   "cell_type": "code",
   "execution_count": 65,
   "id": "11e77b14-1ead-4ff7-ac1a-6f74386827e5",
   "metadata": {},
   "outputs": [
    {
     "name": "stderr",
     "output_type": "stream",
     "text": [
      "[I 2023-11-28 18:23:44,712] A new study created in memory with name: Cat_02\n"
     ]
    },
    {
     "data": {
      "application/vnd.jupyter.widget-view+json": {
       "model_id": "c51f5ebbc63c4bfd8ae8b7e51acc9117",
       "version_major": 2,
       "version_minor": 0
      },
      "text/plain": [
       "  0%|          | 0/2 [00:00<?, ?it/s]"
      ]
     },
     "metadata": {},
     "output_type": "display_data"
    },
    {
     "name": "stderr",
     "output_type": "stream",
     "text": [
      "C:\\Users\\ozhiganov_dv\\AppData\\Local\\Temp\\ipykernel_13868\\3675417320.py:9: FutureWarning: suggest_uniform has been deprecated in v3.0.0. This feature will be removed in v6.0.0. See https://github.com/optuna/optuna/releases/tag/v3.0.0. Use suggest_float instead.\n",
      "  \"l2_leaf_reg\": trial.suggest_uniform(\"l2_leaf_reg\", 1e-5, 1e2),\n",
      "C:\\Users\\ozhiganov_dv\\AppData\\Local\\Temp\\ipykernel_13868\\3675417320.py:10: FutureWarning: suggest_uniform has been deprecated in v3.0.0. This feature will be removed in v6.0.0. See https://github.com/optuna/optuna/releases/tag/v3.0.0. Use suggest_float instead.\n",
      "  'random_strength': trial.suggest_uniform('random_strength', 10, 50),\n"
     ]
    },
    {
     "name": "stdout",
     "output_type": "stream",
     "text": [
      "[I 2023-11-28 21:20:10,257] Trial 0 finished with value: 0.2609478454500821 and parameters: {'n_estimators': 3000, 'learning_rate': 0.14295150734048512, 'max_depth': 10, 'colsample_bylevel': 0.8193474487801746, 'l2_leaf_reg': 1.3545777239111751, 'random_strength': 38.36050116280313, 'bootstrap_type': 'Bernoulli', 'border_count': 128, 'grow_policy': 'SymmetricTree', 'od_wait': 1689, 'leaf_estimation_iterations': 13, 'loss_function': 'MAE', 'use_best_model': True, 'eval_metric': 'MAE', 'subsample': 0.7185613400735754}. Best is trial 0 with value: 0.2609478454500821.\n"
     ]
    },
    {
     "name": "stderr",
     "output_type": "stream",
     "text": [
      "C:\\Users\\ozhiganov_dv\\AppData\\Local\\Temp\\ipykernel_13868\\3675417320.py:9: FutureWarning: suggest_uniform has been deprecated in v3.0.0. This feature will be removed in v6.0.0. See https://github.com/optuna/optuna/releases/tag/v3.0.0. Use suggest_float instead.\n",
      "  \"l2_leaf_reg\": trial.suggest_uniform(\"l2_leaf_reg\", 1e-5, 1e2),\n",
      "C:\\Users\\ozhiganov_dv\\AppData\\Local\\Temp\\ipykernel_13868\\3675417320.py:10: FutureWarning: suggest_uniform has been deprecated in v3.0.0. This feature will be removed in v6.0.0. See https://github.com/optuna/optuna/releases/tag/v3.0.0. Use suggest_float instead.\n",
      "  'random_strength': trial.suggest_uniform('random_strength', 10, 50),\n"
     ]
    },
    {
     "name": "stdout",
     "output_type": "stream",
     "text": [
      "[I 2023-11-28 22:33:12,137] Trial 1 finished with value: 0.3328552560485334 and parameters: {'n_estimators': 3000, 'learning_rate': 0.14295150734048512, 'max_depth': 6, 'colsample_bylevel': 0.7860397662399679, 'l2_leaf_reg': 52.17189178040924, 'random_strength': 48.87923472273761, 'bootstrap_type': 'MVS', 'border_count': 128, 'grow_policy': 'Depthwise', 'od_wait': 1973, 'leaf_estimation_iterations': 5, 'loss_function': 'MAE', 'use_best_model': True, 'eval_metric': 'MAE'}. Best is trial 0 with value: 0.2609478454500821.\n"
     ]
    }
   ],
   "source": [
    "study_cat = optuna.create_study(\n",
    "    direction=\"minimize\",\n",
    "    pruner=optuna.pruners.SuccessiveHalvingPruner(),\n",
    "    study_name=\"Cat_02\")\n",
    "func = lambda trial: objective_lgb(trial,\n",
    "                                   X_train,\n",
    "                                   y_train,\n",
    "                                   N_FOLDS=N_FOLDS,\n",
    "                                   random_state=RAND,\n",
    "                                   cat_feat=cat_features)\n",
    "study_cat.optimize(func, n_trials=2, show_progress_bar=True)"
   ]
  },
  {
   "cell_type": "code",
   "execution_count": 66,
   "id": "b725a1fc-952e-4f7b-b3ce-c98d8801ba08",
   "metadata": {},
   "outputs": [
    {
     "data": {
      "text/plain": [
       "{'n_estimators': 3000,\n",
       " 'learning_rate': 0.14295150734048512,\n",
       " 'max_depth': 10,\n",
       " 'colsample_bylevel': 0.8193474487801746,\n",
       " 'l2_leaf_reg': 1.3545777239111751,\n",
       " 'random_strength': 38.36050116280313,\n",
       " 'bootstrap_type': 'Bernoulli',\n",
       " 'border_count': 128,\n",
       " 'grow_policy': 'SymmetricTree',\n",
       " 'od_wait': 1689,\n",
       " 'leaf_estimation_iterations': 13,\n",
       " 'loss_function': 'MAE',\n",
       " 'use_best_model': True,\n",
       " 'eval_metric': 'MAE',\n",
       " 'subsample': 0.7185613400735754}"
      ]
     },
     "execution_count": 66,
     "metadata": {},
     "output_type": "execute_result"
    }
   ],
   "source": [
    "study_cat.best_params"
   ]
  },
  {
   "cell_type": "code",
   "execution_count": 67,
   "id": "610bd7e4-f6c0-447f-a58d-8a423f0ac659",
   "metadata": {},
   "outputs": [],
   "source": [
    "# обучение cat boost на гиперпараметрах подобранных с помощью optuna\n",
    "cat_optuna = CatBoostRegressor(**study_cat.best_params)\n",
    "cat_optuna.fit(X_train_,\n",
    "               y_train_,\n",
    "               cat_features=cat_features,\n",
    "               eval_set=eval_set,\n",
    "               verbose=False,\n",
    "               early_stopping_rounds=100)\n",
    "\n",
    "y_pred_opt = cat_optuna.predict(X_test)"
   ]
  },
  {
   "cell_type": "code",
   "execution_count": 68,
   "id": "3fd6cdf4-83eb-4465-869d-3a55b227cd5a",
   "metadata": {},
   "outputs": [
    {
     "data": {
      "text/html": [
       "<div>\n",
       "<style scoped>\n",
       "    .dataframe tbody tr th:only-of-type {\n",
       "        vertical-align: middle;\n",
       "    }\n",
       "\n",
       "    .dataframe tbody tr th {\n",
       "        vertical-align: top;\n",
       "    }\n",
       "\n",
       "    .dataframe thead th {\n",
       "        text-align: right;\n",
       "    }\n",
       "</style>\n",
       "<table border=\"1\" class=\"dataframe\">\n",
       "  <thead>\n",
       "    <tr style=\"text-align: right;\">\n",
       "      <th></th>\n",
       "      <th>model</th>\n",
       "      <th>MAE</th>\n",
       "      <th>MSE</th>\n",
       "      <th>RMSE</th>\n",
       "      <th>RMSLE</th>\n",
       "      <th>R2 adjusted</th>\n",
       "      <th>MPE_%</th>\n",
       "      <th>MAPE_%</th>\n",
       "      <th>WAPE_%</th>\n",
       "    </tr>\n",
       "  </thead>\n",
       "  <tbody>\n",
       "    <tr>\n",
       "      <th>0</th>\n",
       "      <td>CatBoost_eval_baseline</td>\n",
       "      <td>0.318326</td>\n",
       "      <td>0.238707</td>\n",
       "      <td>0.488577</td>\n",
       "      <td>None</td>\n",
       "      <td>0.925889</td>\n",
       "      <td>NaN</td>\n",
       "      <td>inf</td>\n",
       "      <td>17.333156</td>\n",
       "    </tr>\n",
       "    <tr>\n",
       "      <th>0</th>\n",
       "      <td>LGBMRegressor_baseline</td>\n",
       "      <td>0.332521</td>\n",
       "      <td>0.321677</td>\n",
       "      <td>0.567166</td>\n",
       "      <td>None</td>\n",
       "      <td>0.900129</td>\n",
       "      <td>NaN</td>\n",
       "      <td>inf</td>\n",
       "      <td>18.106082</td>\n",
       "    </tr>\n",
       "    <tr>\n",
       "      <th>0</th>\n",
       "      <td>CatBoost_RandGrid</td>\n",
       "      <td>0.286569</td>\n",
       "      <td>0.220413</td>\n",
       "      <td>0.469482</td>\n",
       "      <td>None</td>\n",
       "      <td>0.931569</td>\n",
       "      <td>NaN</td>\n",
       "      <td>inf</td>\n",
       "      <td>15.603974</td>\n",
       "    </tr>\n",
       "    <tr>\n",
       "      <th>0</th>\n",
       "      <td>CatBoost_Optuna</td>\n",
       "      <td>0.261691</td>\n",
       "      <td>0.180969</td>\n",
       "      <td>0.425405</td>\n",
       "      <td>None</td>\n",
       "      <td>0.943815</td>\n",
       "      <td>NaN</td>\n",
       "      <td>inf</td>\n",
       "      <td>14.249330</td>\n",
       "    </tr>\n",
       "  </tbody>\n",
       "</table>\n",
       "</div>"
      ],
      "text/plain": [
       "                    model       MAE       MSE      RMSE RMSLE  R2 adjusted  \\\n",
       "0  CatBoost_eval_baseline  0.318326  0.238707  0.488577  None     0.925889   \n",
       "0  LGBMRegressor_baseline  0.332521  0.321677  0.567166  None     0.900129   \n",
       "0       CatBoost_RandGrid  0.286569  0.220413  0.469482  None     0.931569   \n",
       "0         CatBoost_Optuna  0.261691  0.180969  0.425405  None     0.943815   \n",
       "\n",
       "   MPE_%  MAPE_%     WAPE_%  \n",
       "0    NaN     inf  17.333156  \n",
       "0    NaN     inf  18.106082  \n",
       "0    NaN     inf  15.603974  \n",
       "0    NaN     inf  14.249330  "
      ]
     },
     "execution_count": 68,
     "metadata": {},
     "output_type": "execute_result"
    }
   ],
   "source": [
    "metrics = pd.concat([metrics, get_metrics_regression(y_test=y_test,\n",
    "                                                     y_pred=y_pred_opt,\n",
    "                                                     X_test=X_test,\n",
    "                                                     name='CatBoost_Optuna')])\n",
    "\n",
    "metrics"
   ]
  },
  {
   "cell_type": "code",
   "execution_count": 69,
   "id": "edba1aa8-74a3-49fb-a702-1950dd473f0a",
   "metadata": {},
   "outputs": [
    {
     "name": "stdout",
     "output_type": "stream",
     "text": [
      "mean_absolute_error train: 0.248\n",
      "mean_absolute_error test: 0.262\n",
      "delta = 5.1 %\n"
     ]
    }
   ],
   "source": [
    "check_overfitting(cat_optuna, X_train_, y_train_, X_test, y_test, mean_absolute_error)"
   ]
  },
  {
   "cell_type": "markdown",
   "id": "6519fd0d-2f46-4dbe-95ed-2bec86152166",
   "metadata": {},
   "source": [
    "модель с гиперпараметрами, подобранными с помощью Optuna показала более лучшие результаты чем baseline и модель с гиперапарметрами подобранными с помощью RandomSearch. При этом модель чуть сильнее переобучилась - но в пределах нормы (ельта до 10%)."
   ]
  },
  {
   "cell_type": "markdown",
   "id": "698b75a2-037e-401a-bad1-c9214a6b5d96",
   "metadata": {},
   "source": [
    "#### feature importances"
   ]
  },
  {
   "cell_type": "code",
   "execution_count": 70,
   "id": "c013e14d-ed61-4db8-8101-f35940702a7c",
   "metadata": {},
   "outputs": [
    {
     "data": {
      "image/png": "[encoded data removed]",
      "text/plain": [
       "<Figure size 1000x500 with 1 Axes>"
      ]
     },
     "metadata": {},
     "output_type": "display_data"
    }
   ],
   "source": [
    "feature_imp_cat = pd.Series(cat_optuna.feature_importances_, index=X.columns)\n",
    "feature_imp_cat.nlargest(15).sort_values(ascending=True).plot(kind='barh',\n",
    "                                                              figsize=(10, 5));\n",
    "plt.show();"
   ]
  },
  {
   "cell_type": "markdown",
   "id": "b0094034-094d-4cac-8a08-9ede9bd24ee8",
   "metadata": {},
   "source": [
    "Топ 5 важных признаков:  \n",
    "- AZS_NAME\n",
    "- PROD_NAME\n",
    "- type_oil\n",
    "- region\n",
    "- location"
   ]
  },
  {
   "cell_type": "markdown",
   "id": "0a439458-e255-4cd3-848f-ccdb248ab114",
   "metadata": {},
   "source": [
    "## Best params, fit CV + holdout"
   ]
  },
  {
   "cell_type": "code",
   "execution_count": 71,
   "id": "ae19200d-3504-4e29-bb2f-32bd77a626b3",
   "metadata": {},
   "outputs": [],
   "source": [
    "def cross_validation_cat(X_train: pd.DataFrame,\n",
    "                         y_train: pd.Series,\n",
    "                         X_test: pd.DataFrame,\n",
    "                         y_test: pd.Series,\n",
    "                         clf,\n",
    "                         params: dict,\n",
    "                         cat_features: list = None,\n",
    "                         eval_metric: str = None,\n",
    "                         early_stop: bool = False,\n",
    "                         early_stopping_rounds: int = 100,\n",
    "                         num_folds: int = 5,\n",
    "                         random_state: int = 10,\n",
    "                         shuffle: bool = True):\n",
    "    \n",
    "    \"\"\"Получение результатов при помощи кросс-валидации для задачи РЕГРЕССИИ\"\"\"\n",
    "    \n",
    "    # shuffle - перемешивание данных только перед разбиением\n",
    "    folds = KFold(n_splits=num_folds, random_state=random_state, shuffle=shuffle)\n",
    "    score_oof = []\n",
    "    predictions_test = []\n",
    "\n",
    "    for fold, (train_index,\n",
    "               test_index) in enumerate(folds.split(X_train, y_train)):\n",
    "        X_train_, X_val = X_train.iloc[train_index], X_train.iloc[test_index]\n",
    "        y_train_, y_val = y_train.iloc[train_index], y_train.iloc[test_index]\n",
    "\n",
    "        model = clf(**params)\n",
    "\n",
    "        if early_stop == True:\n",
    "            if eval_metric is None:\n",
    "                model.fit(X_train_,\n",
    "                          y_train_,\n",
    "                          eval_set=[(X_val, y_val)],\n",
    "                          cat_features=cat_features,\n",
    "                          silent=True,\n",
    "                          early_stopping_rounds=early_stopping_rounds)\n",
    "            else:\n",
    "                model.fit(X_train_,\n",
    "                          y_train_,\n",
    "                          eval_set=[(X_val, y_val)],\n",
    "                          eval_metric=eval_metric,\n",
    "                          silent=True,\n",
    "                          cat_features=cat_features,\n",
    "                          early_stopping_rounds=early_stopping_rounds)\n",
    "        else:\n",
    "            model.fit(X_train_, y_train_, cat_features=cat_features)\n",
    "\n",
    "        y_pred_val = model.predict(X_val)\n",
    "        y_pred = model.predict(X_test)\n",
    "\n",
    "        print(\n",
    "            \"Fold:\", fold + 1,\n",
    "            \"MAE SCORE %.5f\" % mean_absolute_error(y_val, y_pred_val))\n",
    "        print(\"---\")\n",
    "\n",
    "        # oof list\n",
    "        score_oof.append(mean_absolute_error(y_val, y_pred_val))\n",
    "        # holdout list\n",
    "        predictions_test.append(y_pred)\n",
    "\n",
    "    return score_oof, predictions_test"
   ]
  },
  {
   "cell_type": "code",
   "execution_count": 72,
   "id": "cad5e143-37f1-466e-ba27-fe688db915ca",
   "metadata": {},
   "outputs": [
    {
     "data": {
      "text/plain": [
       "{'n_estimators': 3000,\n",
       " 'learning_rate': 0.14295150734048512,\n",
       " 'max_depth': 10,\n",
       " 'colsample_bylevel': 0.8193474487801746,\n",
       " 'l2_leaf_reg': 1.3545777239111751,\n",
       " 'random_strength': 38.36050116280313,\n",
       " 'bootstrap_type': 'Bernoulli',\n",
       " 'border_count': 128,\n",
       " 'grow_policy': 'SymmetricTree',\n",
       " 'od_wait': 1689,\n",
       " 'leaf_estimation_iterations': 13,\n",
       " 'loss_function': 'MAE',\n",
       " 'use_best_model': True,\n",
       " 'eval_metric': 'MAE',\n",
       " 'subsample': 0.7185613400735754}"
      ]
     },
     "execution_count": 72,
     "metadata": {},
     "output_type": "execute_result"
    }
   ],
   "source": [
    "study_cat.best_params"
   ]
  },
  {
   "cell_type": "code",
   "execution_count": 73,
   "id": "185646bd-168a-4eb8-9cb0-8fd1a97246f3",
   "metadata": {},
   "outputs": [
    {
     "name": "stdout",
     "output_type": "stream",
     "text": [
      "Fold: 1 MAE SCORE 0.26044\n",
      "---\n",
      "Fold: 2 MAE SCORE 0.26178\n",
      "---\n",
      "Fold: 3 MAE SCORE 0.26164\n",
      "---\n",
      "Fold: 4 MAE SCORE 0.26150\n",
      "---\n",
      "Fold: 5 MAE SCORE 0.25887\n",
      "---\n"
     ]
    }
   ],
   "source": [
    "cat_best = {\n",
    "    'n_estimators': 3000,\n",
    "    'learning_rate': 0.14295150734048512,\n",
    "    'max_depth': 10,\n",
    "    'colsample_bylevel': 0.8193474487801746,\n",
    "    'l2_leaf_reg': 1.3545777239111751,\n",
    "    'random_strength': 38.36050116280313,\n",
    "    'bootstrap_type': 'Bernoulli',\n",
    "    'border_count': 128,\n",
    "    'grow_policy': 'SymmetricTree',\n",
    "    'od_wait': 1689,\n",
    "    'leaf_estimation_iterations': 13,\n",
    "    'loss_function': 'MAE',\n",
    "    'use_best_model': True,\n",
    "    'eval_metric': 'MAE',\n",
    "    'subsample': 0.7185613400735754\n",
    "}\n",
    "\n",
    "score_oof, predictions_test = cross_validation_cat(\n",
    "    X_train,\n",
    "    y_train,\n",
    "    X_test,\n",
    "    y_test,\n",
    "    early_stop=True,\n",
    "    cat_features=cat_features,\n",
    "    early_stopping_rounds=50,\n",
    "    num_folds=N_FOLDS,\n",
    "    clf=CatBoostRegressor,\n",
    "    params=cat_best)"
   ]
  },
  {
   "cell_type": "code",
   "execution_count": 74,
   "id": "44226d58-9f08-42b7-bdb9-c9d2a580aaab",
   "metadata": {},
   "outputs": [
    {
     "name": "stdout",
     "output_type": "stream",
     "text": [
      "MAE mean OOF: 0.261, std: 0.001\n",
      "MAE HOLDOUT: 0.256\n"
     ]
    }
   ],
   "source": [
    "test_pred = np.mean(predictions_test, axis=0)\n",
    "\n",
    "print('MAE mean OOF: %.3f, std: %.3f' %\n",
    "      (np.mean(score_oof), np.std(score_oof)))\n",
    "print('MAE HOLDOUT: %.3f' % mean_absolute_error(y_test, test_pred))"
   ]
  },
  {
   "cell_type": "code",
   "execution_count": 75,
   "id": "4a23b566-ade0-4f24-9a6e-be7bce6d1cbc",
   "metadata": {},
   "outputs": [
    {
     "data": {
      "text/html": [
       "<div>\n",
       "<style scoped>\n",
       "    .dataframe tbody tr th:only-of-type {\n",
       "        vertical-align: middle;\n",
       "    }\n",
       "\n",
       "    .dataframe tbody tr th {\n",
       "        vertical-align: top;\n",
       "    }\n",
       "\n",
       "    .dataframe thead th {\n",
       "        text-align: right;\n",
       "    }\n",
       "</style>\n",
       "<table border=\"1\" class=\"dataframe\">\n",
       "  <thead>\n",
       "    <tr style=\"text-align: right;\">\n",
       "      <th></th>\n",
       "      <th>model</th>\n",
       "      <th>MAE</th>\n",
       "      <th>MSE</th>\n",
       "      <th>RMSE</th>\n",
       "      <th>RMSLE</th>\n",
       "      <th>R2 adjusted</th>\n",
       "      <th>MPE_%</th>\n",
       "      <th>MAPE_%</th>\n",
       "      <th>WAPE_%</th>\n",
       "    </tr>\n",
       "  </thead>\n",
       "  <tbody>\n",
       "    <tr>\n",
       "      <th>0</th>\n",
       "      <td>CatBoost_eval_baseline</td>\n",
       "      <td>0.318326</td>\n",
       "      <td>0.238707</td>\n",
       "      <td>0.488577</td>\n",
       "      <td>None</td>\n",
       "      <td>0.925889</td>\n",
       "      <td>NaN</td>\n",
       "      <td>inf</td>\n",
       "      <td>17.333156</td>\n",
       "    </tr>\n",
       "    <tr>\n",
       "      <th>0</th>\n",
       "      <td>LGBMRegressor_baseline</td>\n",
       "      <td>0.332521</td>\n",
       "      <td>0.321677</td>\n",
       "      <td>0.567166</td>\n",
       "      <td>None</td>\n",
       "      <td>0.900129</td>\n",
       "      <td>NaN</td>\n",
       "      <td>inf</td>\n",
       "      <td>18.106082</td>\n",
       "    </tr>\n",
       "    <tr>\n",
       "      <th>0</th>\n",
       "      <td>CatBoost_RandGrid</td>\n",
       "      <td>0.286569</td>\n",
       "      <td>0.220413</td>\n",
       "      <td>0.469482</td>\n",
       "      <td>None</td>\n",
       "      <td>0.931569</td>\n",
       "      <td>NaN</td>\n",
       "      <td>inf</td>\n",
       "      <td>15.603974</td>\n",
       "    </tr>\n",
       "    <tr>\n",
       "      <th>0</th>\n",
       "      <td>CatBoost_Optuna</td>\n",
       "      <td>0.261691</td>\n",
       "      <td>0.180969</td>\n",
       "      <td>0.425405</td>\n",
       "      <td>None</td>\n",
       "      <td>0.943815</td>\n",
       "      <td>NaN</td>\n",
       "      <td>inf</td>\n",
       "      <td>14.249330</td>\n",
       "    </tr>\n",
       "    <tr>\n",
       "      <th>0</th>\n",
       "      <td>CatBoost_best_CV_Holdout</td>\n",
       "      <td>0.255648</td>\n",
       "      <td>0.173391</td>\n",
       "      <td>0.416402</td>\n",
       "      <td>None</td>\n",
       "      <td>0.946168</td>\n",
       "      <td>NaN</td>\n",
       "      <td>inf</td>\n",
       "      <td>13.920277</td>\n",
       "    </tr>\n",
       "  </tbody>\n",
       "</table>\n",
       "</div>"
      ],
      "text/plain": [
       "                      model       MAE       MSE      RMSE RMSLE  R2 adjusted  \\\n",
       "0    CatBoost_eval_baseline  0.318326  0.238707  0.488577  None     0.925889   \n",
       "0    LGBMRegressor_baseline  0.332521  0.321677  0.567166  None     0.900129   \n",
       "0         CatBoost_RandGrid  0.286569  0.220413  0.469482  None     0.931569   \n",
       "0           CatBoost_Optuna  0.261691  0.180969  0.425405  None     0.943815   \n",
       "0  CatBoost_best_CV_Holdout  0.255648  0.173391  0.416402  None     0.946168   \n",
       "\n",
       "   MPE_%  MAPE_%     WAPE_%  \n",
       "0    NaN     inf  17.333156  \n",
       "0    NaN     inf  18.106082  \n",
       "0    NaN     inf  15.603974  \n",
       "0    NaN     inf  14.249330  \n",
       "0    NaN     inf  13.920277  "
      ]
     },
     "execution_count": 75,
     "metadata": {},
     "output_type": "execute_result"
    }
   ],
   "source": [
    "metrics = pd.concat([metrics, get_metrics_regression(y_test=y_test,\n",
    "                                                     y_pred=test_pred,\n",
    "                                                     X_test=X_test,\n",
    "                                                     name='CatBoost_best_CV_Holdout')])\n",
    "metrics"
   ]
  },
  {
   "cell_type": "code",
   "execution_count": 76,
   "id": "4374e181-0af4-40b0-8643-1005bb363db7",
   "metadata": {},
   "outputs": [
    {
     "data": {
      "text/html": [
       "<div>\n",
       "<style scoped>\n",
       "    .dataframe tbody tr th:only-of-type {\n",
       "        vertical-align: middle;\n",
       "    }\n",
       "\n",
       "    .dataframe tbody tr th {\n",
       "        vertical-align: top;\n",
       "    }\n",
       "\n",
       "    .dataframe thead th {\n",
       "        text-align: right;\n",
       "    }\n",
       "</style>\n",
       "<table border=\"1\" class=\"dataframe\">\n",
       "  <thead>\n",
       "    <tr style=\"text-align: right;\">\n",
       "      <th></th>\n",
       "      <th>model</th>\n",
       "      <th>MAE</th>\n",
       "      <th>MSE</th>\n",
       "      <th>RMSE</th>\n",
       "      <th>R2 adjusted</th>\n",
       "      <th>WAPE_%</th>\n",
       "    </tr>\n",
       "  </thead>\n",
       "  <tbody>\n",
       "    <tr>\n",
       "      <th>0</th>\n",
       "      <td>CatBoost_eval_baseline</td>\n",
       "      <td>0.318326</td>\n",
       "      <td>0.238707</td>\n",
       "      <td>0.488577</td>\n",
       "      <td>0.925889</td>\n",
       "      <td>17.333156</td>\n",
       "    </tr>\n",
       "    <tr>\n",
       "      <th>0</th>\n",
       "      <td>LGBMRegressor_baseline</td>\n",
       "      <td>0.332521</td>\n",
       "      <td>0.321677</td>\n",
       "      <td>0.567166</td>\n",
       "      <td>0.900129</td>\n",
       "      <td>18.106082</td>\n",
       "    </tr>\n",
       "    <tr>\n",
       "      <th>0</th>\n",
       "      <td>CatBoost_RandGrid</td>\n",
       "      <td>0.286569</td>\n",
       "      <td>0.220413</td>\n",
       "      <td>0.469482</td>\n",
       "      <td>0.931569</td>\n",
       "      <td>15.603974</td>\n",
       "    </tr>\n",
       "    <tr>\n",
       "      <th>0</th>\n",
       "      <td>CatBoost_Optuna</td>\n",
       "      <td>0.261691</td>\n",
       "      <td>0.180969</td>\n",
       "      <td>0.425405</td>\n",
       "      <td>0.943815</td>\n",
       "      <td>14.249330</td>\n",
       "    </tr>\n",
       "    <tr>\n",
       "      <th>0</th>\n",
       "      <td>CatBoost_best_CV_Holdout</td>\n",
       "      <td>0.255648</td>\n",
       "      <td>0.173391</td>\n",
       "      <td>0.416402</td>\n",
       "      <td>0.946168</td>\n",
       "      <td>13.920277</td>\n",
       "    </tr>\n",
       "  </tbody>\n",
       "</table>\n",
       "</div>"
      ],
      "text/plain": [
       "                      model       MAE       MSE      RMSE  R2 adjusted  \\\n",
       "0    CatBoost_eval_baseline  0.318326  0.238707  0.488577     0.925889   \n",
       "0    LGBMRegressor_baseline  0.332521  0.321677  0.567166     0.900129   \n",
       "0         CatBoost_RandGrid  0.286569  0.220413  0.469482     0.931569   \n",
       "0           CatBoost_Optuna  0.261691  0.180969  0.425405     0.943815   \n",
       "0  CatBoost_best_CV_Holdout  0.255648  0.173391  0.416402     0.946168   \n",
       "\n",
       "      WAPE_%  \n",
       "0  17.333156  \n",
       "0  18.106082  \n",
       "0  15.603974  \n",
       "0  14.249330  \n",
       "0  13.920277  "
      ]
     },
     "execution_count": 76,
     "metadata": {},
     "output_type": "execute_result"
    }
   ],
   "source": [
    "metrics.drop(['RMSLE', 'MPE_%', 'MAPE_%'], axis=1)"
   ]
  },
  {
   "cell_type": "markdown",
   "id": "146baaaa-680a-4d9a-8949-98e05f583d26",
   "metadata": {},
   "source": [
    "Вывод:  \n",
    "при holdout на тестовой выборке самые лучшие метрики по сравнению с предыдущими алгоритмами"
   ]
  }
 ],
 "metadata": {
  "kernelspec": {
   "display_name": "Python 3 (ipykernel)",
   "language": "python",
   "name": "python3"
  },
  "language_info": {
   "codemirror_mode": {
    "name": "ipython",
    "version": 3
   },
   "file_extension": ".py",
   "mimetype": "text/x-python",
   "name": "python",
   "nbconvert_exporter": "python",
   "pygments_lexer": "ipython3",
   "version": "3.9.5"
  }
 },
 "nbformat": 4,
 "nbformat_minor": 5
}
